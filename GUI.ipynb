{
  "nbformat": 4,
  "nbformat_minor": 0,
  "metadata": {
    "colab": {
      "provenance": [],
      "authorship_tag": "ABX9TyM4kzIiGPSJHgO0iy/y5o1X",
      "include_colab_link": true
    },
    "kernelspec": {
      "name": "python3",
      "display_name": "Python 3"
    },
    "language_info": {
      "name": "python"
    }
  },
  "cells": [
    {
      "cell_type": "markdown",
      "metadata": {
        "id": "view-in-github",
        "colab_type": "text"
      },
      "source": [
        "<a href=\"https://colab.research.google.com/github/saumyea/BDA-Project/blob/main/GUI.ipynb\" target=\"_parent\"><img src=\"https://colab.research.google.com/assets/colab-badge.svg\" alt=\"Open In Colab\"/></a>"
      ]
    },
    {
      "cell_type": "code",
      "source": [
        "# Mount Google Drive\n",
        "from google.colab import drive\n",
        "drive.mount('/content/drive')"
      ],
      "metadata": {
        "colab": {
          "base_uri": "https://localhost:8080/"
        },
        "id": "Y_VPIaPxrP9Z",
        "outputId": "f2de7c53-93d6-478f-a939-c234c23101a4"
      },
      "execution_count": null,
      "outputs": [
        {
          "output_type": "stream",
          "name": "stdout",
          "text": [
            "Mounted at /content/drive\n"
          ]
        }
      ]
    },
    {
      "cell_type": "code",
      "source": [
        "import numpy as np\n",
        "import scipy.sparse"
      ],
      "metadata": {
        "id": "e8FZAsmhZ7iO"
      },
      "execution_count": null,
      "outputs": []
    },
    {
      "cell_type": "markdown",
      "source": [
        "**Importing the .NPZ files**"
      ],
      "metadata": {
        "id": "mWq4UmUmE296"
      }
    },
    {
      "cell_type": "code",
      "source": [
        "# Define file paths in your Google Drive for loading the matrices\n",
        "user_similarity_load_path = '/content/drive/MyDrive/sem7/BDA/MP-mtx_files/user_similarity_matrix.npz'\n",
        "item_similarity_load_path = '/content/drive/MyDrive/sem7/BDA/MP-mtx_files/item_similarity_matrix.npz'\n",
        "sparse_matrix_load_path = '/content/drive/MyDrive/sem7/BDA/MP-mtx_files/sparse_matrix.npz'\n",
        "# Load the matrices from .npz files\n",
        "user_similarity_matrix = scipy.sparse.load_npz(user_similarity_load_path)\n",
        "item_similarity_matrix = scipy.sparse.load_npz(item_similarity_load_path)\n",
        "sparse_matrix = scipy.sparse.load_npz(sparse_matrix_load_path)"
      ],
      "metadata": {
        "id": "mGmOcpCGvA-8"
      },
      "execution_count": null,
      "outputs": []
    },
    {
      "cell_type": "code",
      "source": [
        "print(type(user_similarity_matrix))  # Should be a sparse matrix\n",
        "print(type(item_similarity_matrix))\n",
        "print(type(sparse_matrix))"
      ],
      "metadata": {
        "colab": {
          "base_uri": "https://localhost:8080/"
        },
        "id": "2ODWb9RIsHIF",
        "outputId": "804dc146-f6d1-4654-bdd4-74a27b137099"
      },
      "execution_count": null,
      "outputs": [
        {
          "output_type": "stream",
          "name": "stdout",
          "text": [
            "<class 'scipy.sparse._csr.csr_matrix'>\n",
            "<class 'scipy.sparse._csr.csr_matrix'>\n",
            "<class 'scipy.sparse._csr.csr_matrix'>\n"
          ]
        }
      ]
    },
    {
      "cell_type": "markdown",
      "source": [
        "**Importing The Dictionaries**"
      ],
      "metadata": {
        "id": "N695jCkpFPCy"
      }
    },
    {
      "cell_type": "code",
      "source": [
        "import joblib\n",
        "\n",
        "# Specify the same path in your Google Drive\n",
        "load_path = '/content/drive/MyDrive/sem7/BDA/MP-mtx_files/'\n",
        "\n",
        "# Load the dictionaries from the .pkl files\n",
        "user_id_to_index = joblib.load(load_path + 'user_id_to_index.pkl')\n",
        "index_to_title = joblib.load(load_path + 'index_to_title.pkl')"
      ],
      "metadata": {
        "id": "NEAzPQBGrAIf"
      },
      "execution_count": null,
      "outputs": []
    },
    {
      "cell_type": "markdown",
      "source": [
        "**Gradio for GUI**"
      ],
      "metadata": {
        "id": "Wh3tJS1bFXbP"
      }
    },
    {
      "cell_type": "code",
      "source": [
        "!pip install gradio"
      ],
      "metadata": {
        "colab": {
          "base_uri": "https://localhost:8080/"
        },
        "id": "GoCHXisutu4m",
        "outputId": "d620d504-5b37-4bdf-bb74-c0fede46a3da",
        "collapsed": true
      },
      "execution_count": null,
      "outputs": [
        {
          "output_type": "stream",
          "name": "stdout",
          "text": [
            "Collecting gradio\n",
            "  Downloading gradio-5.5.0-py3-none-any.whl.metadata (16 kB)\n",
            "Collecting aiofiles<24.0,>=22.0 (from gradio)\n",
            "  Downloading aiofiles-23.2.1-py3-none-any.whl.metadata (9.7 kB)\n",
            "Requirement already satisfied: anyio<5.0,>=3.0 in /usr/local/lib/python3.10/dist-packages (from gradio) (3.7.1)\n",
            "Collecting fastapi<1.0,>=0.115.2 (from gradio)\n",
            "  Downloading fastapi-0.115.5-py3-none-any.whl.metadata (27 kB)\n",
            "Collecting ffmpy (from gradio)\n",
            "  Downloading ffmpy-0.4.0-py3-none-any.whl.metadata (2.9 kB)\n",
            "Collecting gradio-client==1.4.2 (from gradio)\n",
            "  Downloading gradio_client-1.4.2-py3-none-any.whl.metadata (7.1 kB)\n",
            "Requirement already satisfied: httpx>=0.24.1 in /usr/local/lib/python3.10/dist-packages (from gradio) (0.27.2)\n",
            "Requirement already satisfied: huggingface-hub>=0.25.1 in /usr/local/lib/python3.10/dist-packages (from gradio) (0.26.2)\n",
            "Requirement already satisfied: jinja2<4.0 in /usr/local/lib/python3.10/dist-packages (from gradio) (3.1.4)\n",
            "Collecting markupsafe~=2.0 (from gradio)\n",
            "  Downloading MarkupSafe-2.1.5-cp310-cp310-manylinux_2_17_x86_64.manylinux2014_x86_64.whl.metadata (3.0 kB)\n",
            "Requirement already satisfied: numpy<3.0,>=1.0 in /usr/local/lib/python3.10/dist-packages (from gradio) (1.26.4)\n",
            "Requirement already satisfied: orjson~=3.0 in /usr/local/lib/python3.10/dist-packages (from gradio) (3.10.11)\n",
            "Requirement already satisfied: packaging in /usr/local/lib/python3.10/dist-packages (from gradio) (24.2)\n",
            "Requirement already satisfied: pandas<3.0,>=1.0 in /usr/local/lib/python3.10/dist-packages (from gradio) (2.2.2)\n",
            "Requirement already satisfied: pillow<12.0,>=8.0 in /usr/local/lib/python3.10/dist-packages (from gradio) (11.0.0)\n",
            "Requirement already satisfied: pydantic>=2.0 in /usr/local/lib/python3.10/dist-packages (from gradio) (2.9.2)\n",
            "Collecting pydub (from gradio)\n",
            "  Downloading pydub-0.25.1-py2.py3-none-any.whl.metadata (1.4 kB)\n",
            "Collecting python-multipart==0.0.12 (from gradio)\n",
            "  Downloading python_multipart-0.0.12-py3-none-any.whl.metadata (1.9 kB)\n",
            "Requirement already satisfied: pyyaml<7.0,>=5.0 in /usr/local/lib/python3.10/dist-packages (from gradio) (6.0.2)\n",
            "Collecting ruff>=0.2.2 (from gradio)\n",
            "  Downloading ruff-0.7.3-py3-none-manylinux_2_17_x86_64.manylinux2014_x86_64.whl.metadata (25 kB)\n",
            "Collecting safehttpx<1.0,>=0.1.1 (from gradio)\n",
            "  Downloading safehttpx-0.1.1-py3-none-any.whl.metadata (4.1 kB)\n",
            "Collecting semantic-version~=2.0 (from gradio)\n",
            "  Downloading semantic_version-2.10.0-py2.py3-none-any.whl.metadata (9.7 kB)\n",
            "Collecting starlette<1.0,>=0.40.0 (from gradio)\n",
            "  Downloading starlette-0.41.2-py3-none-any.whl.metadata (6.0 kB)\n",
            "Collecting tomlkit==0.12.0 (from gradio)\n",
            "  Downloading tomlkit-0.12.0-py3-none-any.whl.metadata (2.7 kB)\n",
            "Requirement already satisfied: typer<1.0,>=0.12 in /usr/local/lib/python3.10/dist-packages (from gradio) (0.13.0)\n",
            "Requirement already satisfied: typing-extensions~=4.0 in /usr/local/lib/python3.10/dist-packages (from gradio) (4.12.2)\n",
            "Collecting uvicorn>=0.14.0 (from gradio)\n",
            "  Downloading uvicorn-0.32.0-py3-none-any.whl.metadata (6.6 kB)\n",
            "Requirement already satisfied: fsspec in /usr/local/lib/python3.10/dist-packages (from gradio-client==1.4.2->gradio) (2024.10.0)\n",
            "Collecting websockets<13.0,>=10.0 (from gradio-client==1.4.2->gradio)\n",
            "  Downloading websockets-12.0-cp310-cp310-manylinux_2_5_x86_64.manylinux1_x86_64.manylinux_2_17_x86_64.manylinux2014_x86_64.whl.metadata (6.6 kB)\n",
            "Requirement already satisfied: idna>=2.8 in /usr/local/lib/python3.10/dist-packages (from anyio<5.0,>=3.0->gradio) (3.10)\n",
            "Requirement already satisfied: sniffio>=1.1 in /usr/local/lib/python3.10/dist-packages (from anyio<5.0,>=3.0->gradio) (1.3.1)\n",
            "Requirement already satisfied: exceptiongroup in /usr/local/lib/python3.10/dist-packages (from anyio<5.0,>=3.0->gradio) (1.2.2)\n",
            "Requirement already satisfied: certifi in /usr/local/lib/python3.10/dist-packages (from httpx>=0.24.1->gradio) (2024.8.30)\n",
            "Requirement already satisfied: httpcore==1.* in /usr/local/lib/python3.10/dist-packages (from httpx>=0.24.1->gradio) (1.0.6)\n",
            "Requirement already satisfied: h11<0.15,>=0.13 in /usr/local/lib/python3.10/dist-packages (from httpcore==1.*->httpx>=0.24.1->gradio) (0.14.0)\n",
            "Requirement already satisfied: filelock in /usr/local/lib/python3.10/dist-packages (from huggingface-hub>=0.25.1->gradio) (3.16.1)\n",
            "Requirement already satisfied: requests in /usr/local/lib/python3.10/dist-packages (from huggingface-hub>=0.25.1->gradio) (2.32.3)\n",
            "Requirement already satisfied: tqdm>=4.42.1 in /usr/local/lib/python3.10/dist-packages (from huggingface-hub>=0.25.1->gradio) (4.66.6)\n",
            "Requirement already satisfied: python-dateutil>=2.8.2 in /usr/local/lib/python3.10/dist-packages (from pandas<3.0,>=1.0->gradio) (2.8.2)\n",
            "Requirement already satisfied: pytz>=2020.1 in /usr/local/lib/python3.10/dist-packages (from pandas<3.0,>=1.0->gradio) (2024.2)\n",
            "Requirement already satisfied: tzdata>=2022.7 in /usr/local/lib/python3.10/dist-packages (from pandas<3.0,>=1.0->gradio) (2024.2)\n",
            "Requirement already satisfied: annotated-types>=0.6.0 in /usr/local/lib/python3.10/dist-packages (from pydantic>=2.0->gradio) (0.7.0)\n",
            "Requirement already satisfied: pydantic-core==2.23.4 in /usr/local/lib/python3.10/dist-packages (from pydantic>=2.0->gradio) (2.23.4)\n",
            "Requirement already satisfied: click>=8.0.0 in /usr/local/lib/python3.10/dist-packages (from typer<1.0,>=0.12->gradio) (8.1.7)\n",
            "Requirement already satisfied: shellingham>=1.3.0 in /usr/local/lib/python3.10/dist-packages (from typer<1.0,>=0.12->gradio) (1.5.4)\n",
            "Requirement already satisfied: rich>=10.11.0 in /usr/local/lib/python3.10/dist-packages (from typer<1.0,>=0.12->gradio) (13.9.4)\n",
            "Requirement already satisfied: six>=1.5 in /usr/local/lib/python3.10/dist-packages (from python-dateutil>=2.8.2->pandas<3.0,>=1.0->gradio) (1.16.0)\n",
            "Requirement already satisfied: markdown-it-py>=2.2.0 in /usr/local/lib/python3.10/dist-packages (from rich>=10.11.0->typer<1.0,>=0.12->gradio) (3.0.0)\n",
            "Requirement already satisfied: pygments<3.0.0,>=2.13.0 in /usr/local/lib/python3.10/dist-packages (from rich>=10.11.0->typer<1.0,>=0.12->gradio) (2.18.0)\n",
            "Requirement already satisfied: charset-normalizer<4,>=2 in /usr/local/lib/python3.10/dist-packages (from requests->huggingface-hub>=0.25.1->gradio) (3.4.0)\n",
            "Requirement already satisfied: urllib3<3,>=1.21.1 in /usr/local/lib/python3.10/dist-packages (from requests->huggingface-hub>=0.25.1->gradio) (2.2.3)\n",
            "Requirement already satisfied: mdurl~=0.1 in /usr/local/lib/python3.10/dist-packages (from markdown-it-py>=2.2.0->rich>=10.11.0->typer<1.0,>=0.12->gradio) (0.1.2)\n",
            "Downloading gradio-5.5.0-py3-none-any.whl (56.7 MB)\n",
            "\u001b[2K   \u001b[90m━━━━━━━━━━━━━━━━━━━━━━━━━━━━━━━━━━━━━━━━\u001b[0m \u001b[32m56.7/56.7 MB\u001b[0m \u001b[31m12.4 MB/s\u001b[0m eta \u001b[36m0:00:00\u001b[0m\n",
            "\u001b[?25hDownloading gradio_client-1.4.2-py3-none-any.whl (319 kB)\n",
            "\u001b[2K   \u001b[90m━━━━━━━━━━━━━━━━━━━━━━━━━━━━━━━━━━━━━━━━\u001b[0m \u001b[32m319.8/319.8 kB\u001b[0m \u001b[31m23.4 MB/s\u001b[0m eta \u001b[36m0:00:00\u001b[0m\n",
            "\u001b[?25hDownloading python_multipart-0.0.12-py3-none-any.whl (23 kB)\n",
            "Downloading tomlkit-0.12.0-py3-none-any.whl (37 kB)\n",
            "Downloading aiofiles-23.2.1-py3-none-any.whl (15 kB)\n",
            "Downloading fastapi-0.115.5-py3-none-any.whl (94 kB)\n",
            "\u001b[2K   \u001b[90m━━━━━━━━━━━━━━━━━━━━━━━━━━━━━━━━━━━━━━━━\u001b[0m \u001b[32m94.9/94.9 kB\u001b[0m \u001b[31m8.1 MB/s\u001b[0m eta \u001b[36m0:00:00\u001b[0m\n",
            "\u001b[?25hDownloading MarkupSafe-2.1.5-cp310-cp310-manylinux_2_17_x86_64.manylinux2014_x86_64.whl (25 kB)\n",
            "Downloading ruff-0.7.3-py3-none-manylinux_2_17_x86_64.manylinux2014_x86_64.whl (11.0 MB)\n",
            "\u001b[2K   \u001b[90m━━━━━━━━━━━━━━━━━━━━━━━━━━━━━━━━━━━━━━━━\u001b[0m \u001b[32m11.0/11.0 MB\u001b[0m \u001b[31m94.4 MB/s\u001b[0m eta \u001b[36m0:00:00\u001b[0m\n",
            "\u001b[?25hDownloading safehttpx-0.1.1-py3-none-any.whl (8.4 kB)\n",
            "Downloading semantic_version-2.10.0-py2.py3-none-any.whl (15 kB)\n",
            "Downloading starlette-0.41.2-py3-none-any.whl (73 kB)\n",
            "\u001b[2K   \u001b[90m━━━━━━━━━━━━━━━━━━━━━━━━━━━━━━━━━━━━━━━━\u001b[0m \u001b[32m73.3/73.3 kB\u001b[0m \u001b[31m6.1 MB/s\u001b[0m eta \u001b[36m0:00:00\u001b[0m\n",
            "\u001b[?25hDownloading uvicorn-0.32.0-py3-none-any.whl (63 kB)\n",
            "\u001b[2K   \u001b[90m━━━━━━━━━━━━━━━━━━━━━━━━━━━━━━━━━━━━━━━━\u001b[0m \u001b[32m63.7/63.7 kB\u001b[0m \u001b[31m5.9 MB/s\u001b[0m eta \u001b[36m0:00:00\u001b[0m\n",
            "\u001b[?25hDownloading ffmpy-0.4.0-py3-none-any.whl (5.8 kB)\n",
            "Downloading pydub-0.25.1-py2.py3-none-any.whl (32 kB)\n",
            "Downloading websockets-12.0-cp310-cp310-manylinux_2_5_x86_64.manylinux1_x86_64.manylinux_2_17_x86_64.manylinux2014_x86_64.whl (130 kB)\n",
            "\u001b[2K   \u001b[90m━━━━━━━━━━━━━━━━━━━━━━━━━━━━━━━━━━━━━━━━\u001b[0m \u001b[32m130.2/130.2 kB\u001b[0m \u001b[31m10.2 MB/s\u001b[0m eta \u001b[36m0:00:00\u001b[0m\n",
            "\u001b[?25hInstalling collected packages: pydub, websockets, uvicorn, tomlkit, semantic-version, ruff, python-multipart, markupsafe, ffmpy, aiofiles, starlette, safehttpx, gradio-client, fastapi, gradio\n",
            "  Attempting uninstall: markupsafe\n",
            "    Found existing installation: MarkupSafe 3.0.2\n",
            "    Uninstalling MarkupSafe-3.0.2:\n",
            "      Successfully uninstalled MarkupSafe-3.0.2\n",
            "Successfully installed aiofiles-23.2.1 fastapi-0.115.5 ffmpy-0.4.0 gradio-5.5.0 gradio-client-1.4.2 markupsafe-2.1.5 pydub-0.25.1 python-multipart-0.0.12 ruff-0.7.3 safehttpx-0.1.1 semantic-version-2.10.0 starlette-0.41.2 tomlkit-0.12.0 uvicorn-0.32.0 websockets-12.0\n"
          ]
        }
      ]
    },
    {
      "cell_type": "code",
      "execution_count": null,
      "metadata": {
        "colab": {
          "base_uri": "https://localhost:8080/",
          "height": 645
        },
        "id": "p9jpXYhinhjM",
        "outputId": "1bba76c2-29f6-4b58-938f-f7952e1e8ad9"
      },
      "outputs": [
        {
          "output_type": "stream",
          "name": "stdout",
          "text": [
            "Running Gradio in a Colab notebook requires sharing enabled. Automatically setting `share=True` (you can turn this off by setting `share=False` in `launch()` explicitly).\n",
            "\n",
            "Colab notebook detected. To show errors in colab notebook, set debug=True in launch()\n",
            "* Running on public URL: https://2453c6cba430f0b5b0.gradio.live\n",
            "\n",
            "This share link expires in 72 hours. For free permanent hosting and GPU upgrades, run `gradio deploy` from the terminal in the working directory to deploy to Hugging Face Spaces (https://huggingface.co/spaces)\n"
          ]
        },
        {
          "output_type": "display_data",
          "data": {
            "text/plain": [
              "<IPython.core.display.HTML object>"
            ],
            "text/html": [
              "<div><iframe src=\"https://2453c6cba430f0b5b0.gradio.live\" width=\"100%\" height=\"500\" allow=\"autoplay; camera; microphone; clipboard-read; clipboard-write;\" frameborder=\"0\" allowfullscreen></iframe></div>"
            ]
          },
          "metadata": {}
        },
        {
          "output_type": "execute_result",
          "data": {
            "text/plain": []
          },
          "metadata": {},
          "execution_count": 8
        }
      ],
      "source": [
        "import gradio as gr\n",
        "\n",
        "# Collaborative filtering\n",
        "def user_based(user_sim_matrix, ratings_matrix, user_idx, num_similar_users, num_recommendations):\n",
        "    # Get indices of the most similar users for the specified user\n",
        "    similar_users = np.argsort(-user_sim_matrix[user_idx])[:num_similar_users]\n",
        "\n",
        "    # Initialize a dictionary to store aggregated recommendation scores\n",
        "    item_scores = {}\n",
        "\n",
        "    for sim_user_idx in similar_users:\n",
        "        # Get the ratings of the similar user\n",
        "        user_ratings = ratings_matrix[sim_user_idx].toarray()[0]\n",
        "\n",
        "        # Update scores for items that the target user hasn't rated yet\n",
        "        for item_idx, rating in enumerate(user_ratings):\n",
        "            if ratings_matrix[user_idx, item_idx] == 0:  # Item not rated by target user\n",
        "                if item_idx not in item_scores:\n",
        "                    item_scores[item_idx] = 0\n",
        "                item_scores[item_idx] += rating * user_sim_matrix[user_idx, sim_user_idx]\n",
        "\n",
        "    # Sort items by aggregated scores and return the top N items\n",
        "    sorted_items = sorted(item_scores.items(), key=lambda x: x[1], reverse=True)\n",
        "    return [item[0] for item in sorted_items[:num_recommendations]]\n",
        "\n",
        "def item_based(item_sim_matrix, ratings_matrix, user_idx, num_recommendations):\n",
        "    # Get the indices of items rated by the target user\n",
        "    rated_item_indices = ratings_matrix[user_idx].nonzero()[1]\n",
        "\n",
        "    # Initialize a dictionary to hold aggregated recommendation scores\n",
        "    item_scores = {}\n",
        "\n",
        "    for item_idx in rated_item_indices:\n",
        "        # Get similarity scores for the rated item\n",
        "        similar_item_indices = np.argsort(-item_sim_matrix[item_idx].toarray().flatten())\n",
        "\n",
        "        for sim_item_idx in similar_item_indices:\n",
        "            if sim_item_idx not in rated_item_indices:  # Not rated by the target user\n",
        "                if sim_item_idx not in item_scores:\n",
        "                    item_scores[sim_item_idx] = 0\n",
        "                # Aggregate scores based on the user's rating and item similarity\n",
        "                item_scores[sim_item_idx] += ratings_matrix[user_idx, item_idx] * item_sim_matrix[item_idx, sim_item_idx]\n",
        "\n",
        "    # Sort items based on aggregated scores and return the top N items\n",
        "    sorted_items = sorted(item_scores.items(), key=lambda x: x[1], reverse=True)\n",
        "    return [item[0] for item in sorted_items[:num_recommendations]]\n",
        "\n",
        "# GUI functions to handle predictions\n",
        "def user_based_predict(user_id, num_similar_users, num_recommendations):\n",
        "    user_id = int(user_id)\n",
        "    num_similar_users = int(num_similar_users)\n",
        "    num_recommendations = int(num_recommendations)\n",
        "\n",
        "    print(f\"User ID: {user_id}, Similar Users: {num_similar_users}, Recommendations: {num_recommendations}\")\n",
        "\n",
        "    if user_id in user_id_to_index:\n",
        "        user_idx = user_id_to_index[user_id]\n",
        "        recommendations = user_based(user_similarity_matrix, sparse_matrix, user_idx, num_similar_users, num_recommendations)\n",
        "        print(f\"Recommendations (indexes): {recommendations}\")\n",
        "\n",
        "        # Convert movie indices to titles and join them line by line\n",
        "        return \"\\n\".join([index_to_title[item] for item in recommendations])\n",
        "    else:\n",
        "        return \"Invalid User ID\"\n",
        "\n",
        "def item_based_predict(user_id, num_recommendations):\n",
        "    user_id = int(user_id)\n",
        "    num_recommendations = int(num_recommendations)\n",
        "\n",
        "    print(f\"User ID: {user_id}, Recommendations: {num_recommendations}\")\n",
        "\n",
        "    if user_id in user_id_to_index:\n",
        "        user_idx = user_id_to_index[user_id]\n",
        "        recommendations = item_based(item_similarity_matrix, sparse_matrix, user_idx, num_recommendations)\n",
        "        print(f\"Recommendations (indexes): {recommendations}\")\n",
        "\n",
        "        # Convert movie indices to titles and join them line by line\n",
        "        return \"\\n\".join([index_to_title[item] for item in recommendations])\n",
        "    else:\n",
        "        return \"Invalid User ID\"\n",
        "\n",
        "# Gradio interface definition with CSS for font size increase and custom heading color\n",
        "with gr.Blocks(css=\"\"\"\n",
        "    .gradio-container { font-size: 20px; }\n",
        "    h2 { color: #4CAF50; text-align: center;}\n",
        "    h1 { color: #4CAF50; text-align: center;}\n",
        "    label { font-size: 20px}\n",
        "\"\"\") as demo:\n",
        "    gr.Markdown(\"# Movie Recommendation System\")\n",
        "    with gr.Row():\n",
        "        with gr.Column():\n",
        "            gr.Markdown(\"## User-Based Collaborative Filtering\")\n",
        "            user_id_input = gr.Number(label=\"Enter User ID\", value=10)\n",
        "            num_similar_users_input = gr.Number(label=\"Number of Similar Users\", value=5)\n",
        "            num_recommendations_input = gr.Number(label=\"Number of Recommendations\", value=10)\n",
        "            user_based_output = gr.Textbox(label=\"User-Based Recommendations\", lines=10)\n",
        "\n",
        "            user_based_btn = gr.Button(\"Get User-Based Recommendations\")\n",
        "            user_based_btn.click(user_based_predict, inputs=[user_id_input, num_similar_users_input, num_recommendations_input], outputs=user_based_output)\n",
        "\n",
        "        with gr.Column():\n",
        "            gr.Markdown(\"## Item-Based Collaborative Filtering\")\n",
        "            user_id_input_item = gr.Number(label=\"Enter User ID\", value=10)\n",
        "            num_recommendations_input_item = gr.Number(label=\"Number of Recommendations\", value=5)\n",
        "            item_based_output = gr.Textbox(label=\"Item-Based Recommendations\", lines=10)\n",
        "\n",
        "            item_based_btn = gr.Button(\"Get Item-Based Recommendations\")\n",
        "            item_based_btn.click(item_based_predict, inputs=[user_id_input_item, num_recommendations_input_item], outputs=item_based_output)\n",
        "\n",
        "# Launch the Gradio app\n",
        "demo.launch()\n"
      ]
    }
  ]
}