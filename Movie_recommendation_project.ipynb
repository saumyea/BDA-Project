{
  "nbformat": 4,
  "nbformat_minor": 0,
  "metadata": {
    "colab": {
      "provenance": [],
      "authorship_tag": "ABX9TyN2shBF0RN4e4ONLxQcSRtr"
    },
    "kernelspec": {
      "name": "python3",
      "display_name": "Python 3"
    },
    "language_info": {
      "name": "python"
    }
  },
  "cells": [
    {
      "cell_type": "markdown",
      "source": [
        "**NOTE :** Change paths accordingly wherever needed."
      ],
      "metadata": {
        "id": "6O_U5HWmb6Ee"
      }
    },
    {
      "cell_type": "markdown",
      "source": [
        "**Mount Drive**"
      ],
      "metadata": {
        "id": "gxj-KJ1K5Ua6"
      }
    },
    {
      "cell_type": "code",
      "execution_count": null,
      "metadata": {
        "colab": {
          "base_uri": "https://localhost:8080/"
        },
        "id": "h8z70HAOXKOg",
        "outputId": "2433de0f-a6f9-4dd4-aabe-20f3cde2f627"
      },
      "outputs": [
        {
          "output_type": "stream",
          "name": "stdout",
          "text": [
            "Mounted at /content/drive\n"
          ]
        }
      ],
      "source": [
        "from google.colab import drive\n",
        "drive.mount('/content/drive')"
      ]
    },
    {
      "cell_type": "markdown",
      "source": [
        "**Necessary Imports**"
      ],
      "metadata": {
        "id": "tI2cs9GaVP-R"
      }
    },
    {
      "cell_type": "code",
      "source": [
        "!pip install pymongo"
      ],
      "metadata": {
        "colab": {
          "base_uri": "https://localhost:8080/"
        },
        "id": "XDJNGXrLaYq1",
        "outputId": "e8a42cc8-ee08-478f-c5ab-71148b595fbe",
        "collapsed": true
      },
      "execution_count": null,
      "outputs": [
        {
          "output_type": "stream",
          "name": "stdout",
          "text": [
            "Collecting pymongo\n",
            "  Downloading pymongo-4.10.1-cp310-cp310-manylinux_2_17_x86_64.manylinux2014_x86_64.whl.metadata (22 kB)\n",
            "Collecting dnspython<3.0.0,>=1.16.0 (from pymongo)\n",
            "  Downloading dnspython-2.7.0-py3-none-any.whl.metadata (5.8 kB)\n",
            "Downloading pymongo-4.10.1-cp310-cp310-manylinux_2_17_x86_64.manylinux2014_x86_64.whl (1.4 MB)\n",
            "\u001b[2K   \u001b[90m━━━━━━━━━━━━━━━━━━━━━━━━━━━━━━━━━━━━━━━━\u001b[0m \u001b[32m1.4/1.4 MB\u001b[0m \u001b[31m19.0 MB/s\u001b[0m eta \u001b[36m0:00:00\u001b[0m\n",
            "\u001b[?25hDownloading dnspython-2.7.0-py3-none-any.whl (313 kB)\n",
            "\u001b[2K   \u001b[90m━━━━━━━━━━━━━━━━━━━━━━━━━━━━━━━━━━━━━━━━\u001b[0m \u001b[32m313.6/313.6 kB\u001b[0m \u001b[31m19.8 MB/s\u001b[0m eta \u001b[36m0:00:00\u001b[0m\n",
            "\u001b[?25hInstalling collected packages: dnspython, pymongo\n",
            "Successfully installed dnspython-2.7.0 pymongo-4.10.1\n"
          ]
        }
      ]
    },
    {
      "cell_type": "code",
      "source": [
        "from pymongo import MongoClient  #For connecting to mongodb atlas\n",
        "from pyspark.sql import SparkSession  #For creating the spark session\n",
        "import numpy as np\n",
        "import scipy.sparse\n",
        "from scipy.sparse import csr_matrix\n",
        "from sklearn.metrics.pairwise import cosine_similarity"
      ],
      "metadata": {
        "id": "U3sVSCAhaaZz"
      },
      "execution_count": null,
      "outputs": []
    },
    {
      "cell_type": "markdown",
      "source": [
        "**Connecting to MongoDb Atlas to access database**"
      ],
      "metadata": {
        "id": "u_XczYYl5bTZ"
      }
    },
    {
      "cell_type": "code",
      "source": [
        "# ENTER YOUR CONNECTION STRING HERE (FROM MONGODB ATLAS)\n",
        "#I'm mentioning its general format below\n",
        "connection_string= \"mongodb+srv://<username>:<password>@<cluster-name>.mongodb.net/<database>?retryWrites=true&w=majority\""
      ],
      "metadata": {
        "id": "5uFNsEhvadMR"
      },
      "execution_count": null,
      "outputs": []
    },
    {
      "cell_type": "code",
      "source": [
        "client = MongoClient(connection_string)"
      ],
      "metadata": {
        "id": "1v5trnAXae6N"
      },
      "execution_count": null,
      "outputs": []
    },
    {
      "cell_type": "code",
      "source": [
        "db = client[\"movie_recommendation\"]\n",
        "print(db.list_collection_names())"
      ],
      "metadata": {
        "colab": {
          "base_uri": "https://localhost:8080/"
        },
        "id": "N4fDnhSZafav",
        "outputId": "5aafa445-d957-419f-d943-681a9166934d"
      },
      "execution_count": null,
      "outputs": [
        {
          "output_type": "stream",
          "name": "stdout",
          "text": [
            "['occupations', 'item', 'info', 'genre', 'ratings', 'users']\n"
          ]
        }
      ]
    },
    {
      "cell_type": "markdown",
      "source": [
        "**Setting Up Pyspark**"
      ],
      "metadata": {
        "id": "GuzEEAAw6TLw"
      }
    },
    {
      "cell_type": "code",
      "source": [
        "# Install PySpark\n",
        "!pip install pyspark"
      ],
      "metadata": {
        "colab": {
          "base_uri": "https://localhost:8080/"
        },
        "id": "c237VIfkatBJ",
        "outputId": "65a3d7d0-1585-46f8-b972-da2cd78cf02b"
      },
      "execution_count": null,
      "outputs": [
        {
          "output_type": "stream",
          "name": "stdout",
          "text": [
            "Requirement already satisfied: pyspark in /usr/local/lib/python3.10/dist-packages (3.5.3)\n",
            "Requirement already satisfied: py4j==0.10.9.7 in /usr/local/lib/python3.10/dist-packages (from pyspark) (0.10.9.7)\n"
          ]
        }
      ]
    },
    {
      "cell_type": "code",
      "source": [
        "!wget https://repo1.maven.org/maven2/org/mongodb/mongo-java-driver/3.12.10/mongo-java-driver-3.12.10.jar"
      ],
      "metadata": {
        "colab": {
          "base_uri": "https://localhost:8080/"
        },
        "id": "Uu_Q0dtVau_P",
        "outputId": "d9abf1e1-efa8-4d30-98a3-b76946da951d",
        "collapsed": true
      },
      "execution_count": null,
      "outputs": [
        {
          "output_type": "stream",
          "name": "stdout",
          "text": [
            "--2024-11-14 15:49:38--  https://repo1.maven.org/maven2/org/mongodb/mongo-java-driver/3.12.10/mongo-java-driver-3.12.10.jar\n",
            "Resolving repo1.maven.org (repo1.maven.org)... 199.232.192.209, 199.232.196.209, 2a04:4e42:4c::209, ...\n",
            "Connecting to repo1.maven.org (repo1.maven.org)|199.232.192.209|:443... connected.\n",
            "HTTP request sent, awaiting response... 200 OK\n",
            "Length: 2314569 (2.2M) [application/java-archive]\n",
            "Saving to: ‘mongo-java-driver-3.12.10.jar’\n",
            "\n",
            "\r          mongo-jav   0%[                    ]       0  --.-KB/s               \rmongo-java-driver-3 100%[===================>]   2.21M  --.-KB/s    in 0.08s   \n",
            "\n",
            "2024-11-14 15:49:39 (28.8 MB/s) - ‘mongo-java-driver-3.12.10.jar’ saved [2314569/2314569]\n",
            "\n"
          ]
        }
      ]
    },
    {
      "cell_type": "code",
      "source": [
        "# Connect pyspark with mongodb\n",
        "!wget https://repo1.maven.org/maven2/org/mongodb/spark/mongo-spark-connector_2.12/3.0.1/mongo-spark-connector_2.12-3.0.1.jar"
      ],
      "metadata": {
        "colab": {
          "base_uri": "https://localhost:8080/"
        },
        "id": "AAMSqAj6avhp",
        "outputId": "29630f00-8bb7-4285-b057-d370da5f7c0e",
        "collapsed": true
      },
      "execution_count": null,
      "outputs": [
        {
          "output_type": "stream",
          "name": "stdout",
          "text": [
            "--2024-11-14 15:49:40--  https://repo1.maven.org/maven2/org/mongodb/spark/mongo-spark-connector_2.12/3.0.1/mongo-spark-connector_2.12-3.0.1.jar\n",
            "Resolving repo1.maven.org (repo1.maven.org)... 199.232.192.209, 199.232.196.209, 2a04:4e42:4c::209, ...\n",
            "Connecting to repo1.maven.org (repo1.maven.org)|199.232.192.209|:443... connected.\n",
            "HTTP request sent, awaiting response... 200 OK\n",
            "Length: 552150 (539K) [application/java-archive]\n",
            "Saving to: ‘mongo-spark-connector_2.12-3.0.1.jar’\n",
            "\n",
            "\r          mongo-spa   0%[                    ]       0  --.-KB/s               \rmongo-spark-connect 100%[===================>] 539.21K  --.-KB/s    in 0.05s   \n",
            "\n",
            "2024-11-14 15:49:40 (11.2 MB/s) - ‘mongo-spark-connector_2.12-3.0.1.jar’ saved [552150/552150]\n",
            "\n"
          ]
        }
      ]
    },
    {
      "cell_type": "code",
      "source": [
        "!ls /content/mongo-spark-connector_2.12-3.0.1.jar"
      ],
      "metadata": {
        "colab": {
          "base_uri": "https://localhost:8080/"
        },
        "id": "_sO1rpnDayJr",
        "outputId": "22ed965b-6668-40d9-f15a-a4153f1bfba1"
      },
      "execution_count": null,
      "outputs": [
        {
          "output_type": "stream",
          "name": "stdout",
          "text": [
            "/content/mongo-spark-connector_2.12-3.0.1.jar\n"
          ]
        }
      ]
    },
    {
      "cell_type": "markdown",
      "source": [
        "**Creating a Spark Session**"
      ],
      "metadata": {
        "id": "T3NX2O_y6iP0"
      }
    },
    {
      "cell_type": "code",
      "source": [
        "mongo_spark_connector = \"/content/mongo-spark-connector_2.12-3.0.1.jar\"\n",
        "mongo_java_driver = \"/content/mongo-java-driver-3.12.10.jar\"\n",
        "# Initialize SparkSession with MongoDB\n",
        "#CHANGE THE PATHS ACCORDINGLY\n",
        "spark = SparkSession.builder \\\n",
        "    .appName(\"YourAppName\") \\\n",
        "    .config(\"spark.mongodb.read.connection.uri\", \"mongodb+srv://<username>:<password>@<cluster-name>.mongodb.net/<database-name>\") \\\n",
        "    .config(\"spark.mongodb.write.connection.uri\", \"mongodb+srv://<username>:<password>@<cluster-name>.mongodb.net/<database-name>\") \\\n",
        "    .config(\"spark.jars\", f\"{mongo_spark_connector},{mongo_java_driver}\") \\\n",
        "    .getOrCreate()"
      ],
      "metadata": {
        "id": "tnJP_hEMa0D2"
      },
      "execution_count": null,
      "outputs": []
    },
    {
      "cell_type": "code",
      "source": [
        "# Verify Spark setup\n",
        "print(spark)\n",
        "print(spark.version)"
      ],
      "metadata": {
        "colab": {
          "base_uri": "https://localhost:8080/"
        },
        "id": "SBRnvl_ya6yb",
        "outputId": "dfbbf6a6-9ce9-4d7b-86b1-63b403adcf75"
      },
      "execution_count": null,
      "outputs": [
        {
          "output_type": "stream",
          "name": "stdout",
          "text": [
            "<pyspark.sql.session.SparkSession object at 0x7f564bfb9660>\n",
            "3.5.3\n"
          ]
        }
      ]
    },
    {
      "cell_type": "markdown",
      "source": [
        "**Creating Spark Dataframe**"
      ],
      "metadata": {
        "id": "mQOPNKN_63m2"
      }
    },
    {
      "cell_type": "code",
      "source": [
        "# Read data from MongoDB collections with connection URI in options\n",
        "ratings = spark.read.format(\"mongo\") \\\n",
        "    .option(\"uri\", \"mongodb+srv://<username>:<password>@<cluster-name>.mongodb.net/<database-name>.ratings\") \\\n",
        "    .load()\n",
        "\n",
        "items = spark.read.format(\"mongo\") \\\n",
        "    .option(\"uri\", \"mongodb+srv://<username>:<password>@<cluster-name>.mongodb.net/<database-name>.item\") \\\n",
        "    .load()"
      ],
      "metadata": {
        "id": "NZ-mzSKSa91q"
      },
      "execution_count": null,
      "outputs": []
    },
    {
      "cell_type": "code",
      "source": [
        "ratings.show()\n",
        "items.show()"
      ],
      "metadata": {
        "colab": {
          "base_uri": "https://localhost:8080/"
        },
        "id": "N9lLoPp4bCAG",
        "outputId": "b3338446-689d-470c-ad35-c6d368de31fb"
      },
      "execution_count": null,
      "outputs": [
        {
          "output_type": "stream",
          "name": "stdout",
          "text": [
            "+--------------------+-------+------+---------+-------+\n",
            "|                 _id|item_id|rating|timestamp|user_id|\n",
            "+--------------------+-------+------+---------+-------+\n",
            "|{670d70421c928007...|    242|     3|881250949|    196|\n",
            "|{670d70421c928007...|    302|     3|891717742|    186|\n",
            "|{670d70421c928007...|    377|     1|878887116|     22|\n",
            "|{670d70421c928007...|     51|     2|880606923|    244|\n",
            "|{670d70421c928007...|    346|     1|886397596|    166|\n",
            "|{670d70421c928007...|    474|     4|884182806|    298|\n",
            "|{670d70421c928007...|    265|     2|881171488|    115|\n",
            "|{670d70421c928007...|    465|     5|891628467|    253|\n",
            "|{670d70421c928007...|    451|     3|886324817|    305|\n",
            "|{670d70421c928007...|     86|     3|883603013|      6|\n",
            "|{670d70421c928007...|    257|     2|879372434|     62|\n",
            "|{670d70421c928007...|   1014|     5|879781125|    286|\n",
            "|{670d70421c928007...|    222|     5|876042340|    200|\n",
            "|{670d70421c928007...|     40|     3|891035994|    210|\n",
            "|{670d70421c928007...|     29|     3|888104457|    224|\n",
            "|{670d70421c928007...|    785|     3|879485318|    303|\n",
            "|{670d70421c928007...|    387|     5|879270459|    122|\n",
            "|{670d70421c928007...|    274|     2|879539794|    194|\n",
            "|{670d70421c928007...|   1042|     4|874834944|    291|\n",
            "|{670d70421c928007...|   1184|     2|892079237|    234|\n",
            "+--------------------+-------+------+---------+-------+\n",
            "only showing top 20 rows\n",
            "\n",
            "+------+---------+---------+----------+------+-----+-----------+-----+-------+---------+------+--------------------+-------+-------+-------+------+--------+---+-------+--------------------+--------+-------------------+--------------------+-------+\n",
            "|Action|Adventure|Animation|Children's|Comedy|Crime|Documentary|Drama|Fantasy|Film-Noir|Horror|            IMDb_url|Musical|Mystery|Romance|Sci-Fi|Thriller|War|Western|                 _id|movie_id|       release_date|               title|unknown|\n",
            "+------+---------+---------+----------+------+-----+-----------+-----+-------+---------+------+--------------------+-------+-------+-------+------+--------+---+-------+--------------------+--------+-------------------+--------------------+-------+\n",
            "|     0|        0|        1|         1|     1|    0|          0|    0|      0|        0|     0|http://us.imdb.co...|      0|      0|      0|     0|       0|  0|      0|{670d6ff61c928007...|       1|1994-12-31 18:30:00|    Toy Story (1995)|      0|\n",
            "|     1|        1|        0|         0|     0|    0|          0|    0|      0|        0|     0|http://us.imdb.co...|      0|      0|      0|     0|       1|  0|      0|{670d6ff61c928007...|       2|1994-12-31 18:30:00|    GoldenEye (1995)|      0|\n",
            "|     0|        0|        0|         0|     0|    0|          0|    0|      0|        0|     0|http://us.imdb.co...|      0|      0|      0|     0|       1|  0|      0|{670d6ff61c928007...|       3|1994-12-31 18:30:00|   Four Rooms (1995)|      0|\n",
            "|     1|        0|        0|         0|     1|    0|          0|    1|      0|        0|     0|http://us.imdb.co...|      0|      0|      0|     0|       0|  0|      0|{670d6ff61c928007...|       4|1994-12-31 18:30:00|   Get Shorty (1995)|      0|\n",
            "|     0|        0|        0|         0|     0|    1|          0|    1|      0|        0|     0|http://us.imdb.co...|      0|      0|      0|     0|       1|  0|      0|{670d6ff61c928007...|       5|1994-12-31 18:30:00|      Copycat (1995)|      0|\n",
            "|     0|        0|        0|         0|     0|    0|          0|    1|      0|        0|     0|http://us.imdb.co...|      0|      0|      0|     0|       0|  0|      0|{670d6ff61c928007...|       6|1994-12-31 18:30:00|Shanghai Triad (Y...|      0|\n",
            "|     0|        0|        0|         0|     0|    0|          0|    1|      0|        0|     0|http://us.imdb.co...|      0|      0|      0|     1|       0|  0|      0|{670d6ff61c928007...|       7|1994-12-31 18:30:00|Twelve Monkeys (1...|      0|\n",
            "|     0|        0|        0|         1|     1|    0|          0|    1|      0|        0|     0|http://us.imdb.co...|      0|      0|      0|     0|       0|  0|      0|{670d6ff61c928007...|       8|1994-12-31 18:30:00|         Babe (1995)|      0|\n",
            "|     0|        0|        0|         0|     0|    0|          0|    1|      0|        0|     0|http://us.imdb.co...|      0|      0|      0|     0|       0|  0|      0|{670d6ff61c928007...|       9|1994-12-31 18:30:00|Dead Man Walking ...|      0|\n",
            "|     0|        0|        0|         0|     0|    0|          0|    1|      0|        0|     0|http://us.imdb.co...|      0|      0|      0|     0|       0|  1|      0|{670d6ff61c928007...|      10|1996-01-21 18:30:00|  Richard III (1995)|      0|\n",
            "|     0|        0|        0|         0|     0|    1|          0|    0|      0|        0|     0|http://us.imdb.co...|      0|      0|      0|     0|       1|  0|      0|{670d6ff61c928007...|      11|1994-12-31 18:30:00|Seven (Se7en) (1995)|      0|\n",
            "|     0|        0|        0|         0|     0|    1|          0|    0|      0|        0|     0|http://us.imdb.co...|      0|      0|      0|     0|       1|  0|      0|{670d6ff61c928007...|      12|1995-08-13 18:30:00|Usual Suspects, T...|      0|\n",
            "|     0|        0|        0|         0|     1|    0|          0|    0|      0|        0|     0|http://us.imdb.co...|      0|      0|      0|     0|       0|  0|      0|{670d6ff61c928007...|      13|1995-10-29 18:30:00|Mighty Aphrodite ...|      0|\n",
            "|     0|        0|        0|         0|     0|    0|          0|    1|      0|        0|     0|http://us.imdb.co...|      0|      0|      1|     0|       0|  0|      0|{670d6ff61c928007...|      14|1993-12-31 18:30:00|  Postino, Il (1994)|      0|\n",
            "|     0|        0|        0|         0|     0|    0|          0|    1|      0|        0|     0|http://us.imdb.co...|      0|      0|      0|     0|       0|  0|      0|{670d6ff61c928007...|      15|1996-01-28 18:30:00|Mr. Holland's Opu...|      0|\n",
            "|     0|        0|        0|         0|     1|    0|          0|    0|      0|        0|     0|http://us.imdb.co...|      0|      0|      1|     0|       0|  0|      0|{670d6ff61c928007...|      16|1994-12-31 18:30:00|French Twist (Gaz...|      0|\n",
            "|     1|        0|        0|         0|     1|    1|          0|    0|      0|        0|     1|http://us.imdb.co...|      0|      0|      0|     0|       1|  0|      0|{670d6ff61c928007...|      17|1996-02-04 18:30:00|From Dusk Till Da...|      0|\n",
            "|     0|        0|        0|         0|     0|    0|          0|    1|      0|        0|     0|http://us.imdb.co...|      0|      0|      0|     0|       0|  0|      0|{670d6ff61c928007...|      18|1994-12-31 18:30:00|White Balloon, Th...|      0|\n",
            "|     0|        0|        0|         0|     0|    0|          0|    1|      0|        0|     0|http://us.imdb.co...|      0|      0|      0|     0|       0|  0|      0|{670d6ff61c928007...|      19|1994-12-31 18:30:00|Antonia's Line (1...|      0|\n",
            "|     0|        0|        0|         0|     0|    0|          0|    1|      0|        0|     0|http://us.imdb.co...|      0|      0|      1|     0|       0|  0|      0|{670d6ff61c928007...|      20|1994-12-31 18:30:00|Angels and Insect...|      0|\n",
            "+------+---------+---------+----------+------+-----+-----------+-----+-------+---------+------+--------------------+-------+-------+-------+------+--------+---+-------+--------------------+--------+-------------------+--------------------+-------+\n",
            "only showing top 20 rows\n",
            "\n"
          ]
        }
      ]
    },
    {
      "cell_type": "code",
      "source": [
        "ratings = ratings.withColumnRenamed(\"item_id\", \"movie_id\")\n",
        "ratings.show(3)"
      ],
      "metadata": {
        "colab": {
          "base_uri": "https://localhost:8080/"
        },
        "id": "uoHJ7OBObIcb",
        "outputId": "560020cd-6e42-4a40-fd3f-2e8f50773d53"
      },
      "execution_count": null,
      "outputs": [
        {
          "output_type": "stream",
          "name": "stdout",
          "text": [
            "+--------------------+--------+------+---------+-------+\n",
            "|                 _id|movie_id|rating|timestamp|user_id|\n",
            "+--------------------+--------+------+---------+-------+\n",
            "|{670d70421c928007...|     242|     3|881250949|    196|\n",
            "|{670d70421c928007...|     302|     3|891717742|    186|\n",
            "|{670d70421c928007...|     377|     1|878887116|     22|\n",
            "+--------------------+--------+------+---------+-------+\n",
            "only showing top 3 rows\n",
            "\n"
          ]
        }
      ]
    },
    {
      "cell_type": "markdown",
      "source": [
        "**Dropping Unnecessary Columns**"
      ],
      "metadata": {
        "id": "gyPpgIar69U4"
      }
    },
    {
      "cell_type": "code",
      "source": [
        "rating_cols_to_drop = [\"timestamp\",\"_id\"]\n",
        "item_cols_to_drop = [\"Action\",\"Adventure\",\"Animation\",\"Children's\",\"Comedy\",\"Crime\",\"Documentary\",\"Drama\",\"Fantasy\",\"Film-Noir\",\n",
        "    \"Horror\",\"IMDb_url\",\"Musical\",\"Mystery\",\"Romance\",\"Sci-Fi\",\"Thriller\",\"War\",\"Western\",\"_id\",\"release_date\",\"unknown\"]\n",
        "\n",
        "ratings=ratings.drop(*rating_cols_to_drop)\n",
        "items=items.drop(*item_cols_to_drop)\n",
        "\n",
        "ratings.show(3)\n",
        "items.show(3)"
      ],
      "metadata": {
        "colab": {
          "base_uri": "https://localhost:8080/"
        },
        "id": "Jh8SY1dSf43R",
        "outputId": "eabcc8d5-f56c-46a1-fc51-efe613d86c0a"
      },
      "execution_count": null,
      "outputs": [
        {
          "output_type": "stream",
          "name": "stdout",
          "text": [
            "+--------+------+-------+\n",
            "|movie_id|rating|user_id|\n",
            "+--------+------+-------+\n",
            "|     242|     3|    196|\n",
            "|     302|     3|    186|\n",
            "|     377|     1|     22|\n",
            "+--------+------+-------+\n",
            "only showing top 3 rows\n",
            "\n",
            "+--------+-----------------+\n",
            "|movie_id|            title|\n",
            "+--------+-----------------+\n",
            "|       1| Toy Story (1995)|\n",
            "|       2| GoldenEye (1995)|\n",
            "|       3|Four Rooms (1995)|\n",
            "+--------+-----------------+\n",
            "only showing top 3 rows\n",
            "\n"
          ]
        }
      ]
    },
    {
      "cell_type": "markdown",
      "source": [
        "**Performing a JOIN Operation**"
      ],
      "metadata": {
        "id": "jh_rG4Le7OYd"
      }
    },
    {
      "cell_type": "code",
      "source": [
        "# Perform the join\n",
        "ratings = ratings.join(items, on=\"movie_id\", how=\"inner\")"
      ],
      "metadata": {
        "id": "rXxVo_2UeXnO"
      },
      "execution_count": null,
      "outputs": []
    },
    {
      "cell_type": "code",
      "source": [
        "ratings.show(3)"
      ],
      "metadata": {
        "colab": {
          "base_uri": "https://localhost:8080/"
        },
        "id": "bLJnSXiufNkA",
        "outputId": "770597c6-deda-48e4-e722-aff9048d4bb7"
      },
      "execution_count": null,
      "outputs": [
        {
          "output_type": "stream",
          "name": "stdout",
          "text": [
            "+--------+------+-------+--------------------+\n",
            "|movie_id|rating|user_id|               title|\n",
            "+--------+------+-------+--------------------+\n",
            "|     496|     4|    250|It's a Wonderful ...|\n",
            "|     471|     3|    293|Courage Under Fir...|\n",
            "|     471|     4|    305|Courage Under Fir...|\n",
            "+--------+------+-------+--------------------+\n",
            "only showing top 3 rows\n",
            "\n"
          ]
        }
      ]
    },
    {
      "cell_type": "code",
      "source": [
        "print(\"Ratings\")\n",
        "print(ratings.count())\n",
        "print(len(ratings.columns))"
      ],
      "metadata": {
        "colab": {
          "base_uri": "https://localhost:8080/"
        },
        "id": "MAtn_pFeiWuH",
        "outputId": "67f6513b-6f4f-4c8f-b18f-8dc631dc5c95"
      },
      "execution_count": null,
      "outputs": [
        {
          "output_type": "stream",
          "name": "stdout",
          "text": [
            "Ratings\n",
            "100000\n",
            "4\n"
          ]
        }
      ]
    },
    {
      "cell_type": "code",
      "source": [
        "ratings_df = ratings.dropna()\n",
        "print(ratings_df.count())"
      ],
      "metadata": {
        "colab": {
          "base_uri": "https://localhost:8080/"
        },
        "id": "Qk_XI_pfkCwC",
        "outputId": "3cbfb5ac-4ae1-4f94-8991-21f8a9207b78"
      },
      "execution_count": null,
      "outputs": [
        {
          "output_type": "stream",
          "name": "stdout",
          "text": [
            "100000\n"
          ]
        }
      ]
    },
    {
      "cell_type": "markdown",
      "source": [
        "**Get Unique Users & Storing it as a List**"
      ],
      "metadata": {
        "id": "kJJjvLgUCvEz"
      }
    },
    {
      "cell_type": "code",
      "source": [
        "# Get unique User_id values\n",
        "user_ids = ratings_df.select(\"user_id\").distinct().collect()\n",
        "\n",
        "# Convert to a list\n",
        "user_ids_list = [row.user_id for row in user_ids]\n",
        "\n",
        "unique_user_count = len(user_ids)\n",
        "print(unique_user_count)"
      ],
      "metadata": {
        "colab": {
          "base_uri": "https://localhost:8080/"
        },
        "id": "-ZSeJ5E0kJPZ",
        "outputId": "f1da86c3-6671-42be-dc60-3c9dfeb7c056"
      },
      "execution_count": null,
      "outputs": [
        {
          "output_type": "stream",
          "name": "stdout",
          "text": [
            "943\n"
          ]
        }
      ]
    },
    {
      "cell_type": "code",
      "source": [
        "# Print the user_ids and user_ids_list\n",
        "print(user_ids)\n",
        "print(user_ids_list)"
      ],
      "metadata": {
        "colab": {
          "base_uri": "https://localhost:8080/"
        },
        "id": "-qGDhLKgv4e0",
        "outputId": "6f07f73a-0fcd-4e3e-c03c-a5a09ed766d3"
      },
      "execution_count": null,
      "outputs": [
        {
          "output_type": "stream",
          "name": "stdout",
          "text": [
            "[Row(user_id=148), Row(user_id=496), Row(user_id=463), Row(user_id=833), Row(user_id=471), Row(user_id=392), Row(user_id=540), Row(user_id=897), Row(user_id=243), Row(user_id=623), Row(user_id=737), Row(user_id=858), Row(user_id=31), Row(user_id=516), Row(user_id=251), Row(user_id=580), Row(user_id=85), Row(user_id=451), Row(user_id=137), Row(user_id=808), Row(user_id=458), Row(user_id=883), Row(user_id=65), Row(user_id=879), Row(user_id=255), Row(user_id=588), Row(user_id=804), Row(user_id=898), Row(user_id=481), Row(user_id=799), Row(user_id=53), Row(user_id=472), Row(user_id=133), Row(user_id=853), Row(user_id=296), Row(user_id=918), Row(user_id=78), Row(user_id=513), Row(user_id=322), Row(user_id=321), Row(user_id=613), Row(user_id=633), Row(user_id=362), Row(user_id=857), Row(user_id=673), Row(user_id=593), Row(user_id=597), Row(user_id=375), Row(user_id=876), Row(user_id=108), Row(user_id=683), Row(user_id=744), Row(user_id=155), Row(user_id=642), Row(user_id=796), Row(user_id=211), Row(user_id=193), Row(user_id=530), Row(user_id=368), Row(user_id=34), Row(user_id=101), Row(user_id=115), Row(user_id=126), Row(user_id=772), Row(user_id=756), Row(user_id=81), Row(user_id=385), Row(user_id=847), Row(user_id=939), Row(user_id=830), Row(user_id=874), Row(user_id=210), Row(user_id=436), Row(user_id=28), Row(user_id=183), Row(user_id=497), Row(user_id=596), Row(user_id=762), Row(user_id=406), Row(user_id=300), Row(user_id=842), Row(user_id=787), Row(user_id=784), Row(user_id=412), Row(user_id=731), Row(user_id=587), Row(user_id=688), Row(user_id=76), Row(user_id=667), Row(user_id=723), Row(user_id=914), Row(user_id=332), Row(user_id=27), Row(user_id=577), Row(user_id=26), Row(user_id=626), Row(user_id=501), Row(user_id=831), Row(user_id=384), Row(user_id=44), Row(user_id=159), Row(user_id=271), Row(user_id=606), Row(user_id=908), Row(user_id=844), Row(user_id=916), Row(user_id=811), Row(user_id=192), Row(user_id=743), Row(user_id=253), Row(user_id=806), Row(user_id=236), Row(user_id=103), Row(user_id=329), Row(user_id=460), Row(user_id=12), Row(user_id=336), Row(user_id=350), Row(user_id=223), Row(user_id=738), Row(user_id=860), Row(user_id=602), Row(user_id=417), Row(user_id=548), Row(user_id=388), Row(user_id=409), Row(user_id=663), Row(user_id=91), Row(user_id=926), Row(user_id=578), Row(user_id=707), Row(user_id=333), Row(user_id=822), Row(user_id=222), Row(user_id=601), Row(user_id=875), Row(user_id=285), Row(user_id=372), Row(user_id=330), Row(user_id=128), Row(user_id=727), Row(user_id=209), Row(user_id=22), Row(user_id=604), Row(user_id=685), Row(user_id=230), Row(user_id=493), Row(user_id=122), Row(user_id=625), Row(user_id=686), Row(user_id=319), Row(user_id=232), Row(user_id=190), Row(user_id=758), Row(user_id=924), Row(user_id=233), Row(user_id=157), Row(user_id=225), Row(user_id=93), Row(user_id=360), Row(user_id=346), Row(user_id=599), Row(user_id=539), Row(user_id=861), Row(user_id=246), Row(user_id=476), Row(user_id=725), Row(user_id=367), Row(user_id=855), Row(user_id=224), Row(user_id=519), Row(user_id=654), Row(user_id=111), Row(user_id=47), Row(user_id=416), Row(user_id=556), Row(user_id=711), Row(user_id=177), Row(user_id=140), Row(user_id=827), Row(user_id=665), Row(user_id=444), Row(user_id=671), Row(user_id=132), Row(user_id=152), Row(user_id=305), Row(user_id=618), Row(user_id=747), Row(user_id=694), Row(user_id=882), Row(user_id=696), Row(user_id=353), Row(user_id=185), Row(user_id=355), Row(user_id=291), Row(user_id=386), Row(user_id=906), Row(user_id=325), Row(user_id=435), Row(user_id=660), Row(user_id=748), Row(user_id=935), Row(user_id=912), Row(user_id=603), Row(user_id=774), Row(user_id=473), Row(user_id=581), Row(user_id=704), Row(user_id=146), Row(user_id=512), Row(user_id=797), Row(user_id=259), Row(user_id=1), Row(user_id=896), Row(user_id=206), Row(user_id=297), Row(user_id=52), Row(user_id=768), Row(user_id=363), Row(user_id=770), Row(user_id=777), Row(user_id=715), Row(user_id=674), Row(user_id=212), Row(user_id=274), Row(user_id=631), Row(user_id=182), Row(user_id=689), Row(user_id=792), Row(user_id=699), Row(user_id=442), Row(user_id=13), Row(user_id=440), Row(user_id=280), Row(user_id=734), Row(user_id=348), Row(user_id=218), Row(user_id=6), Row(user_id=16), Row(user_id=474), Row(user_id=760), Row(user_id=86), Row(user_id=636), Row(user_id=887), Row(user_id=205), Row(user_id=168), Row(user_id=852), Row(user_id=572), Row(user_id=178), Row(user_id=142), Row(user_id=3), Row(user_id=925), Row(user_id=328), Row(user_id=308), Row(user_id=867), Row(user_id=164), Row(user_id=429), Row(user_id=20), Row(user_id=470), Row(user_id=40), Row(user_id=839), Row(user_id=500), Row(user_id=169), Row(user_id=479), Row(user_id=139), Row(user_id=283), Row(user_id=359), Row(user_id=295), Row(user_id=881), Row(user_id=431), Row(user_id=340), Row(user_id=692), Row(user_id=250), Row(user_id=94), Row(user_id=432), Row(user_id=402), Row(user_id=582), Row(user_id=377), Row(user_id=57), Row(user_id=868), Row(user_id=570), Row(user_id=920), Row(user_id=647), Row(user_id=339), Row(user_id=676), Row(user_id=923), Row(user_id=919), Row(user_id=292), Row(user_id=306), Row(user_id=54), Row(user_id=120), Row(user_id=559), Row(user_id=634), Row(user_id=491), Row(user_id=646), Row(user_id=235), Row(user_id=620), Row(user_id=776), Row(user_id=846), Row(user_id=545), Row(user_id=871), Row(user_id=96), Row(user_id=452), Row(user_id=840), Row(user_id=732), Row(user_id=48), Row(user_id=650), Row(user_id=507), Row(user_id=266), Row(user_id=544), Row(user_id=268), Row(user_id=5), Row(user_id=163), Row(user_id=191), Row(user_id=279), Row(user_id=709), Row(user_id=258), Row(user_id=729), Row(user_id=430), Row(user_id=397), Row(user_id=754), Row(user_id=19), Row(user_id=92), Row(user_id=542), Row(user_id=553), Row(user_id=560), Row(user_id=836), Row(user_id=419), Row(user_id=780), Row(user_id=415), Row(user_id=299), Row(user_id=641), Row(user_id=644), Row(user_id=826), Row(user_id=257), Row(user_id=64), Row(user_id=227), Row(user_id=579), Row(user_id=117), Row(user_id=764), Row(user_id=886), Row(user_id=504), Row(user_id=936), Row(user_id=598), Row(user_id=554), Row(user_id=154), Row(user_id=931), Row(user_id=309), Row(user_id=425), Row(user_id=41), Row(user_id=904), Row(user_id=347), Row(user_id=447), Row(user_id=484), Row(user_id=455), Row(user_id=607), Row(user_id=15), Row(user_id=43), Row(user_id=845), Row(user_id=262), Row(user_id=929), Row(user_id=511), Row(user_id=269), Row(user_id=112), Row(user_id=327), Row(user_id=849), Row(user_id=563), Row(user_id=615), Row(user_id=666), Row(user_id=775), Row(user_id=165), Row(user_id=854), Row(user_id=843), Row(user_id=358), Row(user_id=366), Row(user_id=189), Row(user_id=489), Row(user_id=207), Row(user_id=675), Row(user_id=862), Row(user_id=179), Row(user_id=590), Row(user_id=659), Row(user_id=37), Row(user_id=383), Row(user_id=316), Row(user_id=127), Row(user_id=61), Row(user_id=502), Row(user_id=523), Row(user_id=937), Row(user_id=461), Row(user_id=819), Row(user_id=486), Row(user_id=197), Row(user_id=88), Row(user_id=531), Row(user_id=903), Row(user_id=318), Row(user_id=462), Row(user_id=547), Row(user_id=263), Row(user_id=374), Row(user_id=891), Row(user_id=564), Row(user_id=202), Row(user_id=619), Row(user_id=107), Row(user_id=552), Row(user_id=231), Row(user_id=17), Row(user_id=9), Row(user_id=324), Row(user_id=586), Row(user_id=609), Row(user_id=538), Row(user_id=72), Row(user_id=398), Row(user_id=505), Row(user_id=286), Row(user_id=175), Row(user_id=387), Row(user_id=423), Row(user_id=746), Row(user_id=695), Row(user_id=721), Row(user_id=498), Row(user_id=850), Row(user_id=381), Row(user_id=761), Row(user_id=880), Row(user_id=503), Row(user_id=35), Row(user_id=610), Row(user_id=614), Row(user_id=583), Row(user_id=594), Row(user_id=677), Row(user_id=739), Row(user_id=900), Row(user_id=870), Row(user_id=698), Row(user_id=310), Row(user_id=838), Row(user_id=568), Row(user_id=485), Row(user_id=742), Row(user_id=437), Row(user_id=834), Row(user_id=456), Row(user_id=196), Row(user_id=829), Row(user_id=290), Row(user_id=733), Row(user_id=884), Row(user_id=217), Row(user_id=800), Row(user_id=441), Row(user_id=326), Row(user_id=307), Row(user_id=823), Row(user_id=766), Row(user_id=537), Row(user_id=229), Row(user_id=301), Row(user_id=114), Row(user_id=890), Row(user_id=713), Row(user_id=810), Row(user_id=813), Row(user_id=173), Row(user_id=494), Row(user_id=669), Row(user_id=220), Row(user_id=278), Row(user_id=59), Row(user_id=445), Row(user_id=55), Row(user_id=4), Row(user_id=684), Row(user_id=450), Row(user_id=100), Row(user_id=495), Row(user_id=717), Row(user_id=930), Row(user_id=757), Row(user_id=8), Row(user_id=449), Row(user_id=241), Row(user_id=161), Row(user_id=687), Row(user_id=555), Row(user_id=23), Row(user_id=922), Row(user_id=719), Row(user_id=679), Row(user_id=39), Row(user_id=49), Row(user_id=380), Row(user_id=629), Row(user_id=176), Row(user_id=736), Row(user_id=520), Row(user_id=672), Row(user_id=791), Row(user_id=7), Row(user_id=637), Row(user_id=877), Row(user_id=514), Row(user_id=549), Row(user_id=162), Row(user_id=244), Row(user_id=130), Row(user_id=238), Row(user_id=624), Row(user_id=648), Row(user_id=446), Row(user_id=84), Row(user_id=453), Row(user_id=136), Row(user_id=856), Row(user_id=720), Row(user_id=314), Row(user_id=627), Row(user_id=728), Row(user_id=664), Row(user_id=691), Row(user_id=824), Row(user_id=247), Row(user_id=87), Row(user_id=649), Row(user_id=565), Row(user_id=343), Row(user_id=434), Row(user_id=585), Row(user_id=273), Row(user_id=439), Row(user_id=443), Row(user_id=171), Row(user_id=51), Row(user_id=194), Row(user_id=465), Row(user_id=277), Row(user_id=428), Row(user_id=331), Row(user_id=794), Row(user_id=438), Row(user_id=532), Row(user_id=391), Row(user_id=706), Row(user_id=821), Row(user_id=928), Row(user_id=166), Row(user_id=69), Row(user_id=467), Row(user_id=448), Row(user_id=129), Row(user_id=543), Row(user_id=97), Row(user_id=400), Row(user_id=533), Row(user_id=524), Row(user_id=693), Row(user_id=661), Row(user_id=234), Row(user_id=312), Row(user_id=389), Row(user_id=239), Row(user_id=264), Row(user_id=869), Row(user_id=635), Row(user_id=63), Row(user_id=885), Row(user_id=403), Row(user_id=779), Row(user_id=395), Row(user_id=459), Row(user_id=907), Row(user_id=509), Row(user_id=10), Row(user_id=361), Row(user_id=77), Row(user_id=848), Row(user_id=102), Row(user_id=589), Row(user_id=814), Row(user_id=658), Row(user_id=518), Row(user_id=771), Row(user_id=50), Row(user_id=750), Row(user_id=293), Row(user_id=404), Row(user_id=527), Row(user_id=267), Row(user_id=817), Row(user_id=793), Row(user_id=569), Row(user_id=938), Row(user_id=769), Row(user_id=45), Row(user_id=216), Row(user_id=759), Row(user_id=812), Row(user_id=320), Row(user_id=38), Row(user_id=261), Row(user_id=418), Row(user_id=181), Row(user_id=249), Row(user_id=82), Row(user_id=510), Row(user_id=364), Row(user_id=394), Row(user_id=703), Row(user_id=576), Row(user_id=167), Row(user_id=288), Row(user_id=289), Row(user_id=889), Row(user_id=240), Row(user_id=356), Row(user_id=80), Row(user_id=25), Row(user_id=763), Row(user_id=816), Row(user_id=591), Row(user_id=427), Row(user_id=73), Row(user_id=245), Row(user_id=113), Row(user_id=237), Row(user_id=895), Row(user_id=645), Row(user_id=795), Row(user_id=160), Row(user_id=893), Row(user_id=818), Row(user_id=24), Row(user_id=70), Row(user_id=921), Row(user_id=408), Row(user_id=396), Row(user_id=125), Row(user_id=62), Row(user_id=121), Row(user_id=730), Row(user_id=156), Row(user_id=351), Row(user_id=480), Row(user_id=697), Row(user_id=219), Row(user_id=143), Row(user_id=95), Row(user_id=482), Row(user_id=411), Row(user_id=477), Row(user_id=740), Row(user_id=741), Row(user_id=789), Row(user_id=29), Row(user_id=226), Row(user_id=651), Row(user_id=390), Row(user_id=526), Row(user_id=464), Row(user_id=528), Row(user_id=558), Row(user_id=21), Row(user_id=214), Row(user_id=710), Row(user_id=653), Row(user_id=323), Row(user_id=550), Row(user_id=798), Row(user_id=338), Row(user_id=492), Row(user_id=335), Row(user_id=866), Row(user_id=352), Row(user_id=941), Row(user_id=195), Row(user_id=256), Row(user_id=911), Row(user_id=714), Row(user_id=933), Row(user_id=98), Row(user_id=678), Row(user_id=345), Row(user_id=490), Row(user_id=595), Row(user_id=287), Row(user_id=790), Row(user_id=828), Row(user_id=752), Row(user_id=767), Row(user_id=809), Row(user_id=863), Row(user_id=90), Row(user_id=622), Row(user_id=60), Row(user_id=371), Row(user_id=32), Row(user_id=75), Row(user_id=621), Row(user_id=786), Row(user_id=630), Row(user_id=382), Row(user_id=469), Row(user_id=203), Row(user_id=265), Row(user_id=221), Row(user_id=457), Row(user_id=640), Row(user_id=662), Row(user_id=782), Row(user_id=835), Row(user_id=141), Row(user_id=151), Row(user_id=899), Row(user_id=724), Row(user_id=341), Row(user_id=712), Row(user_id=433), Row(user_id=608), Row(user_id=859), Row(user_id=414), Row(user_id=592), Row(user_id=943), Row(user_id=334), Row(user_id=751), Row(user_id=801), Row(user_id=145), Row(user_id=200), Row(user_id=488), Row(user_id=515), Row(user_id=680), Row(user_id=272), Row(user_id=376), Row(user_id=735), Row(user_id=378), Row(user_id=487), Row(user_id=639), Row(user_id=254), Row(user_id=940), Row(user_id=56), Row(user_id=109), Row(user_id=213), Row(user_id=478), Row(user_id=534), Row(user_id=655), Row(user_id=228), Row(user_id=303), Row(user_id=749), Row(user_id=718), Row(user_id=426), Row(user_id=574), Row(user_id=354), Row(user_id=708), Row(user_id=807), Row(user_id=702), Row(user_id=170), Row(user_id=536), Row(user_id=304), Row(user_id=612), Row(user_id=668), Row(user_id=783), Row(user_id=611), Row(user_id=298), Row(user_id=865), Row(user_id=370), Row(user_id=753), Row(user_id=913), Row(user_id=105), Row(user_id=188), Row(user_id=58), Row(user_id=726), Row(user_id=837), Row(user_id=11), Row(user_id=421), Row(user_id=888), Row(user_id=33), Row(user_id=575), Row(user_id=204), Row(user_id=781), Row(user_id=872), Row(user_id=83), Row(user_id=413), Row(user_id=825), Row(user_id=110), Row(user_id=369), Row(user_id=541), Row(user_id=508), Row(user_id=150), Row(user_id=68), Row(user_id=567), Row(user_id=106), Row(user_id=260), Row(user_id=71), Row(user_id=561), Row(user_id=525), Row(user_id=910), Row(user_id=116), Row(user_id=147), Row(user_id=198), Row(user_id=805), Row(user_id=600), Row(user_id=546), Row(user_id=317), Row(user_id=14), Row(user_id=638), Row(user_id=344), Row(user_id=349), Row(user_id=424), Row(user_id=657), Row(user_id=379), Row(user_id=454), Row(user_id=373), Row(user_id=342), Row(user_id=832), Row(user_id=123), Row(user_id=270), Row(user_id=158), Row(user_id=690), Row(user_id=199), Row(user_id=284), Row(user_id=242), Row(user_id=499), Row(user_id=902), Row(user_id=522), Row(user_id=135), Row(user_id=248), Row(user_id=42), Row(user_id=337), Row(user_id=506), Row(user_id=566), Row(user_id=119), Row(user_id=466), Row(user_id=909), Row(user_id=201), Row(user_id=778), Row(user_id=892), Row(user_id=803), Row(user_id=2), Row(user_id=79), Row(user_id=765), Row(user_id=276), Row(user_id=131), Row(user_id=149), Row(user_id=773), Row(user_id=365), Row(user_id=820), Row(user_id=294), Row(user_id=357), Row(user_id=905), Row(user_id=529), Row(user_id=722), Row(user_id=118), Row(user_id=573), Row(user_id=124), Row(user_id=571), Row(user_id=281), Row(user_id=99), Row(user_id=942), Row(user_id=30), Row(user_id=313), Row(user_id=184), Row(user_id=815), Row(user_id=901), Row(user_id=302), Row(user_id=652), Row(user_id=66), Row(user_id=405), Row(user_id=682), Row(user_id=557), Row(user_id=915), Row(user_id=700), Row(user_id=186), Row(user_id=275), Row(user_id=67), Row(user_id=605), Row(user_id=802), Row(user_id=282), Row(user_id=46), Row(user_id=311), Row(user_id=535), Row(user_id=894), Row(user_id=873), Row(user_id=628), Row(user_id=632), Row(user_id=616), Row(user_id=681), Row(user_id=174), Row(user_id=215), Row(user_id=410), Row(user_id=716), Row(user_id=172), Row(user_id=864), Row(user_id=562), Row(user_id=399), Row(user_id=551), Row(user_id=252), Row(user_id=144), Row(user_id=705), Row(user_id=851), Row(user_id=785), Row(user_id=420), Row(user_id=153), Row(user_id=927), Row(user_id=745), Row(user_id=670), Row(user_id=18), Row(user_id=475), Row(user_id=138), Row(user_id=74), Row(user_id=934), Row(user_id=755), Row(user_id=468), Row(user_id=917), Row(user_id=643), Row(user_id=104), Row(user_id=932), Row(user_id=180), Row(user_id=656), Row(user_id=483), Row(user_id=878), Row(user_id=134), Row(user_id=841), Row(user_id=584), Row(user_id=407), Row(user_id=788), Row(user_id=521), Row(user_id=617), Row(user_id=701), Row(user_id=393), Row(user_id=315), Row(user_id=187), Row(user_id=36), Row(user_id=208), Row(user_id=401), Row(user_id=89), Row(user_id=422), Row(user_id=517)]\n",
            "[148, 496, 463, 833, 471, 392, 540, 897, 243, 623, 737, 858, 31, 516, 251, 580, 85, 451, 137, 808, 458, 883, 65, 879, 255, 588, 804, 898, 481, 799, 53, 472, 133, 853, 296, 918, 78, 513, 322, 321, 613, 633, 362, 857, 673, 593, 597, 375, 876, 108, 683, 744, 155, 642, 796, 211, 193, 530, 368, 34, 101, 115, 126, 772, 756, 81, 385, 847, 939, 830, 874, 210, 436, 28, 183, 497, 596, 762, 406, 300, 842, 787, 784, 412, 731, 587, 688, 76, 667, 723, 914, 332, 27, 577, 26, 626, 501, 831, 384, 44, 159, 271, 606, 908, 844, 916, 811, 192, 743, 253, 806, 236, 103, 329, 460, 12, 336, 350, 223, 738, 860, 602, 417, 548, 388, 409, 663, 91, 926, 578, 707, 333, 822, 222, 601, 875, 285, 372, 330, 128, 727, 209, 22, 604, 685, 230, 493, 122, 625, 686, 319, 232, 190, 758, 924, 233, 157, 225, 93, 360, 346, 599, 539, 861, 246, 476, 725, 367, 855, 224, 519, 654, 111, 47, 416, 556, 711, 177, 140, 827, 665, 444, 671, 132, 152, 305, 618, 747, 694, 882, 696, 353, 185, 355, 291, 386, 906, 325, 435, 660, 748, 935, 912, 603, 774, 473, 581, 704, 146, 512, 797, 259, 1, 896, 206, 297, 52, 768, 363, 770, 777, 715, 674, 212, 274, 631, 182, 689, 792, 699, 442, 13, 440, 280, 734, 348, 218, 6, 16, 474, 760, 86, 636, 887, 205, 168, 852, 572, 178, 142, 3, 925, 328, 308, 867, 164, 429, 20, 470, 40, 839, 500, 169, 479, 139, 283, 359, 295, 881, 431, 340, 692, 250, 94, 432, 402, 582, 377, 57, 868, 570, 920, 647, 339, 676, 923, 919, 292, 306, 54, 120, 559, 634, 491, 646, 235, 620, 776, 846, 545, 871, 96, 452, 840, 732, 48, 650, 507, 266, 544, 268, 5, 163, 191, 279, 709, 258, 729, 430, 397, 754, 19, 92, 542, 553, 560, 836, 419, 780, 415, 299, 641, 644, 826, 257, 64, 227, 579, 117, 764, 886, 504, 936, 598, 554, 154, 931, 309, 425, 41, 904, 347, 447, 484, 455, 607, 15, 43, 845, 262, 929, 511, 269, 112, 327, 849, 563, 615, 666, 775, 165, 854, 843, 358, 366, 189, 489, 207, 675, 862, 179, 590, 659, 37, 383, 316, 127, 61, 502, 523, 937, 461, 819, 486, 197, 88, 531, 903, 318, 462, 547, 263, 374, 891, 564, 202, 619, 107, 552, 231, 17, 9, 324, 586, 609, 538, 72, 398, 505, 286, 175, 387, 423, 746, 695, 721, 498, 850, 381, 761, 880, 503, 35, 610, 614, 583, 594, 677, 739, 900, 870, 698, 310, 838, 568, 485, 742, 437, 834, 456, 196, 829, 290, 733, 884, 217, 800, 441, 326, 307, 823, 766, 537, 229, 301, 114, 890, 713, 810, 813, 173, 494, 669, 220, 278, 59, 445, 55, 4, 684, 450, 100, 495, 717, 930, 757, 8, 449, 241, 161, 687, 555, 23, 922, 719, 679, 39, 49, 380, 629, 176, 736, 520, 672, 791, 7, 637, 877, 514, 549, 162, 244, 130, 238, 624, 648, 446, 84, 453, 136, 856, 720, 314, 627, 728, 664, 691, 824, 247, 87, 649, 565, 343, 434, 585, 273, 439, 443, 171, 51, 194, 465, 277, 428, 331, 794, 438, 532, 391, 706, 821, 928, 166, 69, 467, 448, 129, 543, 97, 400, 533, 524, 693, 661, 234, 312, 389, 239, 264, 869, 635, 63, 885, 403, 779, 395, 459, 907, 509, 10, 361, 77, 848, 102, 589, 814, 658, 518, 771, 50, 750, 293, 404, 527, 267, 817, 793, 569, 938, 769, 45, 216, 759, 812, 320, 38, 261, 418, 181, 249, 82, 510, 364, 394, 703, 576, 167, 288, 289, 889, 240, 356, 80, 25, 763, 816, 591, 427, 73, 245, 113, 237, 895, 645, 795, 160, 893, 818, 24, 70, 921, 408, 396, 125, 62, 121, 730, 156, 351, 480, 697, 219, 143, 95, 482, 411, 477, 740, 741, 789, 29, 226, 651, 390, 526, 464, 528, 558, 21, 214, 710, 653, 323, 550, 798, 338, 492, 335, 866, 352, 941, 195, 256, 911, 714, 933, 98, 678, 345, 490, 595, 287, 790, 828, 752, 767, 809, 863, 90, 622, 60, 371, 32, 75, 621, 786, 630, 382, 469, 203, 265, 221, 457, 640, 662, 782, 835, 141, 151, 899, 724, 341, 712, 433, 608, 859, 414, 592, 943, 334, 751, 801, 145, 200, 488, 515, 680, 272, 376, 735, 378, 487, 639, 254, 940, 56, 109, 213, 478, 534, 655, 228, 303, 749, 718, 426, 574, 354, 708, 807, 702, 170, 536, 304, 612, 668, 783, 611, 298, 865, 370, 753, 913, 105, 188, 58, 726, 837, 11, 421, 888, 33, 575, 204, 781, 872, 83, 413, 825, 110, 369, 541, 508, 150, 68, 567, 106, 260, 71, 561, 525, 910, 116, 147, 198, 805, 600, 546, 317, 14, 638, 344, 349, 424, 657, 379, 454, 373, 342, 832, 123, 270, 158, 690, 199, 284, 242, 499, 902, 522, 135, 248, 42, 337, 506, 566, 119, 466, 909, 201, 778, 892, 803, 2, 79, 765, 276, 131, 149, 773, 365, 820, 294, 357, 905, 529, 722, 118, 573, 124, 571, 281, 99, 942, 30, 313, 184, 815, 901, 302, 652, 66, 405, 682, 557, 915, 700, 186, 275, 67, 605, 802, 282, 46, 311, 535, 894, 873, 628, 632, 616, 681, 174, 215, 410, 716, 172, 864, 562, 399, 551, 252, 144, 705, 851, 785, 420, 153, 927, 745, 670, 18, 475, 138, 74, 934, 755, 468, 917, 643, 104, 932, 180, 656, 483, 878, 134, 841, 584, 407, 788, 521, 617, 701, 393, 315, 187, 36, 208, 401, 89, 422, 517]\n"
          ]
        }
      ]
    },
    {
      "cell_type": "markdown",
      "source": [
        "**Get Unique Titles & Storing it as a List**"
      ],
      "metadata": {
        "id": "97CEMMM_C53t"
      }
    },
    {
      "cell_type": "code",
      "source": [
        "# Get unique titles values\n",
        "title_ids = ratings_df.select(\"title\").distinct().collect()\n",
        "\n",
        "# Convert to a list\n",
        "title_ids_list = [row.title for row in title_ids]\n",
        "\n",
        "unique_title_count = len(title_ids)\n",
        "print(unique_title_count)"
      ],
      "metadata": {
        "colab": {
          "base_uri": "https://localhost:8080/"
        },
        "id": "qD7T6qgYlZWt",
        "outputId": "a0f5737a-01a0-47ef-c2d6-75e7e45f3046"
      },
      "execution_count": null,
      "outputs": [
        {
          "output_type": "stream",
          "name": "stdout",
          "text": [
            "1664\n"
          ]
        }
      ]
    },
    {
      "cell_type": "code",
      "source": [
        "print(title_ids)\n",
        "print(title_ids_list)"
      ],
      "metadata": {
        "colab": {
          "base_uri": "https://localhost:8080/"
        },
        "id": "Y2y5hCQZwZYH",
        "outputId": "eadd470e-0b8e-4204-e69a-41bbd6a9a8a7"
      },
      "execution_count": null,
      "outputs": [
        {
          "output_type": "stream",
          "name": "stdout",
          "text": [
            "[Row(title='Cosi (1996)'), Row(title='Psycho (1960)'), Row(title='Three Wishes (1995)'), Row(title='If Lucy Fell (1996)'), Row(title='When We Were Kings (1996)'), Row(title='Annie Hall (1977)'), Row(title='Fair Game (1995)'), Row(title='Heavenly Creatures (1994)'), Row(title='Paris, France (1993)'), Row(title='Snow White and the Seven Dwarfs (1937)'), Row(title='Night of the Living Dead (1968)'), Row(title=\"I'll Do Anything (1994)\"), Row(title='Spanking the Monkey (1994)'), Row(title='Mondo (1996)'), Row(title='Threesome (1994)'), Row(title='Blue Chips (1994)'), Row(title='Colonel Chabert, Le (1994)'), Row(title='Reality Bites (1994)'), Row(title='A Chef in Love (1996)'), Row(title='Last Action Hero (1993)'), Row(title='Nico Icon (1995)'), Row(title='Evil Dead II (1987)'), Row(title='Crows and Sparrows (1949)'), Row(title='Picture Bride (1995)'), Row(title='Rebecca (1940)'), Row(title='English Patient, The (1996)'), Row(title='Inventing the Abbotts (1997)'), Row(title='Jaws 3-D (1983)'), Row(title=\"Marvin's Room (1996)\"), Row(title='Home Alone 3 (1997)'), Row(title='Grifters, The (1990)'), Row(title='101 Dalmatians (1996)'), Row(title='Sleeper (1973)'), Row(title='New Jersey Drive (1995)'), Row(title='Naked in New York (1994)'), Row(title='Above the Rim (1994)'), Row(title='Stuart Saves His Family (1995)'), Row(title='Savage Nights (Nuits fauves, Les) (1992)'), Row(title=\"City Slickers II: The Legend of Curly's Gold (1994)\"), Row(title='Die xue shuang xiong (Killer, The) (1989)'), Row(title='Diva (1981)'), Row(title='Mother Night (1996)'), Row(title='Ghost (1990)'), Row(title='Mr. Jones (1993)'), Row(title='Notorious (1946)'), Row(title='Target (1995)'), Row(title='In the Line of Fire (1993)'), Row(title='North by Northwest (1959)'), Row(title='Unstrung Heroes (1995)'), Row(title='Bridge on the River Kwai, The (1957)'), Row(title='Month by the Lake, A (1995)'), Row(title='Jumanji (1995)'), Row(title='Trial and Error (1997)'), Row(title='Quiet Room, The (1996)'), Row(title='Twelve Monkeys (1995)'), Row(title='To Live (Huozhe) (1994)'), Row(title='Curdled (1996)'), Row(title='Swan Princess, The (1994)'), Row(title='Flesh and Bone (1993)'), Row(title='Outbreak (1995)'), Row(title='Duck Soup (1933)'), Row(title='Awfully Big Adventure, An (1995)'), Row(title='Vie est belle, La (Life is Rosey) (1987)'), Row(title='Last of the Mohicans, The (1992)'), Row(title=\"C'est arrivé près de chez vous (1992)\"), Row(title='Wolf (1994)'), Row(title='Addiction, The (1995)'), Row(title='Quick and the Dead, The (1995)'), Row(title='Gone with the Wind (1939)'), Row(title=\"'Til There Was You (1997)\"), Row(title='James and the Giant Peach (1996)'), Row(title='Rock, The (1996)'), Row(title='Cool Runnings (1993)'), Row(title='Dangerous Minds (1995)'), Row(title=\"Ed's Next Move (1996)\"), Row(title='Candyman: Farewell to the Flesh (1995)'), Row(title='Meet John Doe (1941)'), Row(title='Abyss, The (1989)'), Row(title='Mr. Wonderful (1993)'), Row(title='Baby-Sitters Club, The (1995)'), Row(title='Guilty as Sin (1993)'), Row(title='Man in the Iron Mask, The (1998)'), Row(title='Grease (1978)'), Row(title='Crow: City of Angels, The (1996)'), Row(title='FairyTale: A True Story (1997)'), Row(title='Heavyweights (1994)'), Row(title=\"Stephen King's The Langoliers (1995)\"), Row(title='Airheads (1994)'), Row(title='Jude (1996)'), Row(title='Rudy (1993)'), Row(title='Highlander (1986)'), Row(title='Contact (1997)'), Row(title='Afterglow (1997)'), Row(title='Magnificent Seven, The (1954)'), Row(title='Deconstructing Harry (1997)'), Row(title='Tommy Boy (1995)'), Row(title='2001: A Space Odyssey (1968)'), Row(title='Private Parts (1997)'), Row(title='S.F.W. (1994)'), Row(title='Female Perversions (1996)'), Row(title='Hearts and Minds (1996)'), Row(title='Bhaji on the Beach (1993)'), Row(title='Bad Taste (1987)'), Row(title='Fled (1996)'), Row(title='Beverly Hills Ninja (1997)'), Row(title='Hideaway (1995)'), Row(title='It Takes Two (1995)'), Row(title='Selena (1997)'), Row(title='Young Frankenstein (1974)'), Row(title='Father of the Bride Part II (1995)'), Row(title='Modern Affair, A (1995)'), Row(title='Nosferatu a Venezia (1986)'), Row(title=\"Monty Python's Life of Brian (1979)\"), Row(title='39 Steps, The (1935)'), Row(title='Umbrellas of Cherbourg, The (Parapluies de Cherbourg, Les) (1964)'), Row(title='Speed (1994)'), Row(title='Get on the Bus (1996)'), Row(title='Client, The (1994)'), Row(title='Sweet Hereafter, The (1997)'), Row(title='Sudden Manhattan (1996)'), Row(title='Vertigo (1958)'), Row(title=\"Mr. Holland's Opus (1995)\"), Row(title='Feeling Minnesota (1996)'), Row(title='Even Cowgirls Get the Blues (1993)'), Row(title='Tin Drum, The (Blechtrommel, Die) (1979)'), Row(title='Gordy (1995)'), Row(title='Beauty and the Beast (1991)'), Row(title='Beautiful Thing (1996)'), Row(title='Deceiver (1997)'), Row(title='Ransom (1996)'), Row(title='Big Green, The (1995)'), Row(title='Little City (1998)'), Row(title='Murder at 1600 (1997)'), Row(title='It Happened One Night (1934)'), Row(title='Fear, The (1995)'), Row(title='Tomorrow Never Dies (1997)'), Row(title='Return of Martin Guerre, The (Retour de Martin Guerre, Le) (1982)'), Row(title='Love in the Afternoon (1957)'), Row(title='Go Fish (1994)'), Row(title='Next Step, The (1995)'), Row(title='Mina Tannenbaum (1994)'), Row(title='Good Man in Africa, A (1994)'), Row(title=\"Wes Craven's New Nightmare (1994)\"), Row(title='Mad Dog Time (1996)'), Row(title='Extreme Measures (1996)'), Row(title='Brazil (1985)'), Row(title='Forbidden Christ, The (Cristo proibito, Il) (1950)'), Row(title='Hotel de Love (1996)'), Row(title='Free Willy 3: The Rescue (1997)'), Row(title='Second Jungle Book: Mowgli & Baloo, The (1997)'), Row(title=\"Singin' in the Rain (1952)\"), Row(title='Leopard Son, The (1996)'), Row(title='Copycat (1995)'), Row(title='Striking Distance (1993)'), Row(title='I Love Trouble (1994)'), Row(title='Stonewall (1995)'), Row(title='3 Ninjas: High Noon At Mega Mountain (1998)'), Row(title='Blues Brothers, The (1980)'), Row(title='Gang Related (1997)'), Row(title='Lashou shentan (1992)'), Row(title='Waiting to Exhale (1995)'), Row(title='Professional, The (1994)'), Row(title='Searching for Bobby Fischer (1993)'), Row(title='M. Butterfly (1993)'), Row(title='In the Army Now (1994)'), Row(title='Bridges of Madison County, The (1995)'), Row(title='Diabolique (1996)'), Row(title='Nosferatu (Nosferatu, eine Symphonie des Grauens) (1922)'), Row(title='Guantanamera (1994)'), Row(title='Candidate, The (1972)'), Row(title='Angel Baby (1995)'), Row(title='Barcelona (1994)'), Row(title='Mute Witness (1994)'), Row(title='Belle de jour (1967)'), Row(title='Alice in Wonderland (1951)'), Row(title='Trainspotting (1996)'), Row(title='Simple Wish, A (1997)'), Row(title='Hard Eight (1996)'), Row(title='Dragonheart (1996)'), Row(title='Down Periscope (1996)'), Row(title=\"Gilligan's Island: The Movie (1998)\"), Row(title='Cops and Robbersons (1994)'), Row(title='Bitter Sugar (Azucar Amargo) (1996)'), Row(title='Nightmare on Elm Street, A (1984)'), Row(title='Out to Sea (1997)'), Row(title='Citizen Kane (1941)'), Row(title='8 Heads in a Duffel Bag (1997)'), Row(title='Breakdown (1997)'), Row(title='Aiqing wansui (1994)'), Row(title='Drop Dead Fred (1991)'), Row(title='Dangerous Ground (1997)'), Row(title='Young Guns II (1990)'), Row(title='Striptease (1996)'), Row(title=\"Antonia's Line (1995)\"), Row(title='Big Squeeze, The (1996)'), Row(title='Nick of Time (1995)'), Row(title='Walking Dead, The (1995)'), Row(title='Crumb (1994)'), Row(title='That Old Feeling (1997)'), Row(title='Amityville Curse, The (1990)'), Row(title='Mirror Has Two Faces, The (1996)'), Row(title='Double Happiness (1994)'), Row(title='Fools Rush In (1997)'), Row(title='Substitute, The (1996)'), Row(title='Net, The (1995)'), Row(title='Bad Company (1995)'), Row(title='Just Cause (1995)'), Row(title='Boomerang (1992)'), Row(title='Tigrero: A Film That Was Never Made (1994)'), Row(title='Marlene Dietrich: Shadow and Light (1996) '), Row(title='Persuasion (1995)'), Row(title='Seventh Seal, The (Sjunde inseglet, Det) (1957)'), Row(title='Angus (1995)'), Row(title='Full Monty, The (1997)'), Row(title='Star Trek III: The Search for Spock (1984)'), Row(title=\"Roseanna's Grave (For Roseanna) (1997)\"), Row(title='Forrest Gump (1994)'), Row(title='Coldblooded (1995)'), Row(title='For Richer or Poorer (1997)'), Row(title='Pie in the Sky (1995)'), Row(title='Nelly & Monsieur Arnaud (1995)'), Row(title='Phantom, The (1996)'), Row(title='Adventures of Pinocchio, The (1996)'), Row(title='Hunted, The (1995)'), Row(title='Swiss Family Robinson (1960)'), Row(title='In the Bleak Midwinter (1995)'), Row(title='Money Train (1995)'), Row(title='Truman Show, The (1998)'), Row(title='Lassie (1994)'), Row(title='Marked for Death (1990)'), Row(title='Drop Zone (1994)'), Row(title='8 Seconds (1994)'), Row(title='House Arrest (1996)'), Row(title='Love and Death on Long Island (1997)'), Row(title='Another Stakeout (1993)'), Row(title='Daens (1992)'), Row(title='Henry V (1989)'), Row(title='Sphere (1998)'), Row(title='Affair to Remember, An (1957)'), Row(title='Horseman on the Roof, The (Hussard sur le toit, Le) (1995)'), Row(title='Apostle, The (1997)'), Row(title='Seven Years in Tibet (1997)'), Row(title='Girl in the Cadillac (1995)'), Row(title='That Thing You Do! (1996)'), Row(title='Soul Food (1997)'), Row(title='Kundun (1997)'), Row(title='Gabbeh (1996)'), Row(title='American Dream (1990)'), Row(title='Bitter Moon (1992)'), Row(title='Manhattan Murder Mystery (1993)'), Row(title=\"It's My Party (1995)\"), Row(title='Empire Strikes Back, The (1980)'), Row(title='Showgirls (1995)'), Row(title='Daylight (1996)'), Row(title='Princess Bride, The (1987)'), Row(title='Two Much (1996)'), Row(title='Maverick (1994)'), Row(title='Basketball Diaries, The (1995)'), Row(title=\"What's Eating Gilbert Grape (1993)\"), Row(title='Prophecy, The (1995)'), Row(title='Cape Fear (1991)'), Row(title=\"Lover's Knot (1996)\"), Row(title='Mulholland Falls (1996)'), Row(title='Catwalk (1995)'), Row(title='Fog, The (1980)'), Row(title='Switchblade Sisters (1975)'), Row(title='Eighth Day, The (1996)'), Row(title='Man Without a Face, The (1993)'), Row(title='Object of My Affection, The (1998)'), Row(title='Desert Winds (1995)'), Row(title='Billy Madison (1995)'), Row(title='Pushing Hands (1992)'), Row(title='Better Off Dead... (1985)'), Row(title='The Innocent (1994)'), Row(title='Starship Troopers (1997)'), Row(title='Joy Luck Club, The (1993)'), Row(title='First Wives Club, The (1996)'), Row(title='Wyatt Earp (1994)'), Row(title='Lamerica (1994)'), Row(title='Crude Oasis, The (1995)'), Row(title='Scream 2 (1997)'), Row(title='Manny & Lo (1996)'), Row(title='Visitors, The (Visiteurs, Les) (1993)'), Row(title='Hour of the Pig, The (1993)'), Row(title='Herbie Rides Again (1974)'), Row(title='Jack (1996)'), Row(title='Turbulence (1997)'), Row(title='G.I. Jane (1997)'), Row(title='Wallace & Gromit: The Best of Aardman Animation (1996)'), Row(title='Happy Gilmore (1996)'), Row(title='Brady Bunch Movie, The (1995)'), Row(title='Street Fighter (1994)'), Row(title='All About Eve (1950)'), Row(title='Ridicule (1996)'), Row(title='Raise the Red Lantern (1991)'), Row(title='Restoration (1995)'), Row(title='Harold and Maude (1971)'), Row(title='unknown'), Row(title='Ruby in Paradise (1993)'), Row(title='Love! Valour! Compassion! (1997)'), Row(title='Tom & Viv (1994)'), Row(title='Anna (1996)'), Row(title='Thin Man, The (1934)'), Row(title='Chasing Amy (1997)'), Row(title='Fly Away Home (1996)'), Row(title='Priest (1994)'), Row(title='Hercules (1997)'), Row(title='E.T. the Extra-Terrestrial (1982)'), Row(title='My Own Private Idaho (1991)'), Row(title='Shadowlands (1993)'), Row(title='Anna Karenina (1997)'), Row(title='Innocent Sleep, The (1995)'), Row(title=\"I Don't Want to Talk About It (De eso no se habla) (1993)\"), Row(title='Evening Star, The (1996)'), Row(title=\"Wooden Man's Bride, The (Wu Kui) (1994)\"), Row(title='Free Willy 2: The Adventure Home (1995)'), Row(title='Shadow, The (1994)'), Row(title='Casino (1995)'), Row(title='Dangerous Beauty (1998)'), Row(title='Living in Oblivion (1995)'), Row(title='Time to Kill, A (1996)'), Row(title='Theodore Rex (1995)'), Row(title='Spy Hard (1996)'), Row(title='Natural Born Killers (1994)'), Row(title='Chamber, The (1996)'), Row(title='Return of the Pink Panther, The (1974)'), Row(title='War, The (1994)'), Row(title='Firm, The (1993)'), Row(title='Aristocats, The (1970)'), Row(title='Pinocchio (1940)'), Row(title='Batman & Robin (1997)'), Row(title='JLG/JLG - autoportrait de décembre (1994)'), Row(title='Twin Town (1997)'), Row(title='Portrait of a Lady, The (1996)'), Row(title='Eddie (1996)'), Row(title='Tales from the Hood (1995)'), Row(title='Thieves (Voleurs, Les) (1996)'), Row(title='Midnight Dancers (Sibak) (1994)'), Row(title='Party Girl (1995)'), Row(title='Fan, The (1996)'), Row(title='Show, The (1995)'), Row(title='Welcome to the Dollhouse (1995)'), Row(title=\"Someone Else's America (1995)\"), Row(title='Heavy (1995)'), Row(title='Fierce Creatures (1997)'), Row(title='In the Mouth of Madness (1995)'), Row(title='Safe (1995)'), Row(title='Endless Summer 2, The (1994)'), Row(title='Kids (1995)'), Row(title='Sword in the Stone, The (1963)'), Row(title='Walk in the Clouds, A (1995)'), Row(title='Higher Learning (1995)'), Row(title='Suture (1993)'), Row(title='Stargate (1994)'), Row(title='Great Expectations (1998)'), Row(title='Farinelli: il castrato (1994)'), Row(title='Sense and Sensibility (1995)'), Row(title='True Lies (1994)'), Row(title='Bullets Over Broadway (1994)'), Row(title=\"Brother's Kiss, A (1997)\"), Row(title='Streetcar Named Desire, A (1951)'), Row(title='Exit to Eden (1994)'), Row(title='Saint of Fort Washington, The (1993)'), Row(title='Goofy Movie, A (1995)'), Row(title='Juror, The (1996)'), Row(title='Cat on a Hot Tin Roof (1958)'), Row(title='Apollo 13 (1995)'), Row(title='Sling Blade (1996)'), Row(title='Tough and Deadly (1995)'), Row(title='Swept from the Sea (1997)'), Row(title=\"Amityville 1992: It's About Time (1992)\"), Row(title='Glengarry Glen Ross (1992)'), Row(title='Backbeat (1993)'), Row(title='Blood Beach (1981)'), Row(title='Gate of Heavenly Peace, The (1995)'), Row(title='GoldenEye (1995)'), Row(title='Faster Pussycat! Kill! Kill! (1965)'), Row(title='Hurricane Streets (1998)'), Row(title=\"Pharaoh's Army (1995)\"), Row(title='Country Life (1994)'), Row(title='Bewegte Mann, Der (1994)'), Row(title='Bedknobs and Broomsticks (1971)'), Row(title='Losing Isaiah (1995)'), Row(title='Shallow Grave (1994)'), Row(title='Gandhi (1982)'), Row(title='Big Lebowski, The (1998)'), Row(title='Stalingrad (1993)'), Row(title='Á köldum klaka (Cold Fever) (1994)'), Row(title='Day the Earth Stood Still, The (1951)'), Row(title='Surviving the Game (1994)'), Row(title='Mask, The (1994)'), Row(title='Run of the Country, The (1995)'), Row(title='Private Benjamin (1980)'), Row(title='Beavis and Butt-head Do America (1996)'), Row(title='Bean (1997)'), Row(title='Death in the Garden (Mort en ce jardin, La) (1956)'), Row(title='Lawnmower Man, The (1992)'), Row(title='Usual Suspects, The (1995)'), Row(title='Truth About Cats & Dogs, The (1996)'), Row(title='For Ever Mozart (1996)'), Row(title='Romper Stomper (1992)'), Row(title='Old Man and the Sea, The (1958)'), Row(title='Captives (1994)'), Row(title='Boot, Das (1981)'), Row(title='Sirens (1994)'), Row(title='Clockers (1995)'), Row(title='Great Escape, The (1963)'), Row(title='Robin Hood: Prince of Thieves (1991)'), Row(title='Pompatus of Love, The (1996)'), Row(title='Anne Frank Remembered (1995)'), Row(title='Lost in Space (1998)'), Row(title='City of Industry (1997)'), Row(title='Murder, My Sweet (1944)'), Row(title='Queen Margot (Reine Margot, La) (1994)'), Row(title='Batman Forever (1995)'), Row(title='Grateful Dead (1995)'), Row(title='8 1/2 (1963)'), Row(title='Brassed Off (1996)'), Row(title='Steel (1997)'), Row(title=\"Devil's Own, The (1997)\"), Row(title='Garden of Finzi-Contini, The (Giardino dei Finzi-Contini, Il) (1970)'), Row(title='Houseguest (1994)'), Row(title='Witness (1985)'), Row(title='Mrs. Doubtfire (1993)'), Row(title='Time Tracers (1995)'), Row(title='Big Bang Theory, The (1994)'), Row(title='Hoop Dreams (1994)'), Row(title='Shawshank Redemption, The (1994)'), Row(title='Englishman Who Went Up a Hill, But Came Down a Mountain, The (1995)'), Row(title='For Love or Money (1993)'), Row(title='Supercop (1992)'), Row(title='Picnic (1955)'), Row(title='Little Princess, The (1939)'), Row(title='Lay of the Land, The (1997)'), Row(title='Grease 2 (1982)'), Row(title='Celluloid Closet, The (1995)'), Row(title='I.Q. (1994)'), Row(title='Amityville 3-D (1983)'), Row(title='Four Weddings and a Funeral (1994)'), Row(title='Ladybird Ladybird (1994)'), Row(title='Meet Wally Sparks (1997)'), Row(title='Pallbearer, The (1996)'), Row(title='Year of the Horse (1997)'), Row(title='Scarlet Letter, The (1995)'), Row(title='Albino Alligator (1996)'), Row(title='Grass Harp, The (1995)'), Row(title='Operation Dumbo Drop (1995)'), Row(title='Kika (1993)'), Row(title='Home for the Holidays (1995)'), Row(title='Beautician and the Beast, The (1997)'), Row(title='Jury Duty (1995)'), Row(title='Underworld (1997)'), Row(title='Roman Holiday (1953)'), Row(title='Vermont Is For Lovers (1992)'), Row(title='Star Trek: First Contact (1996)'), Row(title='Rear Window (1954)'), Row(title='Two Bits (1995)'), Row(title='In the Company of Men (1997)'), Row(title='Hellraiser: Bloodline (1996)'), Row(title='Kissed (1996)'), Row(title='Edge, The (1997)'), Row(title='East of Eden (1955)'), Row(title='Rent-a-Kid (1995)'), Row(title='One Night Stand (1997)'), Row(title='Homeward Bound II: Lost in San Francisco (1996)'), Row(title='Malice (1993)'), Row(title='Star Trek IV: The Voyage Home (1986)'), Row(title='Jackie Brown (1997)'), Row(title='Damsel in Distress, A (1937)'), Row(title='Mr. Smith Goes to Washington (1939)'), Row(title='Charade (1963)'), Row(title='My Favorite Year (1982)'), Row(title='Fluke (1995)'), Row(title='Before the Rain (Pred dozhdot) (1994)'), Row(title='Mercury Rising (1998)'), Row(title='Carmen Miranda: Bananas Is My Business (1994)'), Row(title='Akira (1988)'), Row(title='Blown Away (1994)'), Row(title='Friday (1995)'), Row(title='Land and Freedom (Tierra y libertad) (1995)'), Row(title='Breaking the Waves (1996)'), Row(title='Head Above Water (1996)'), Row(title='Mars Attacks! (1996)'), Row(title='Thin Blue Line, The (1988)'), Row(title='Arsenic and Old Lace (1944)'), Row(title='Star Kid (1997)'), Row(title='Pagemaster, The (1994)'), Row(title='Further Gesture, A (1996)'), Row(title='Lion King, The (1994)'), Row(title='2 Days in the Valley (1996)'), Row(title='Meet Me in St. Louis (1944)'), Row(title='Trial by Jury (1994)'), Row(title='Color of Night (1994)'), Row(title='Letter From Death Row, A (1998)'), Row(title='Boys of St. Vincent, The (1993)'), Row(title='Rough Magic (1995)'), Row(title='Century (1993)'), Row(title='Great White Hype, The (1996)'), Row(title='Nénette et Boni (1996)'), Row(title='Little Rascals, The (1994)'), Row(title='Top Hat (1935)'), Row(title='Great Race, The (1965)'), Row(title='Sgt. Bilko (1996)'), Row(title='Back to the Future (1985)'), Row(title='Swingers (1996)'), Row(title='Careful (1992)'), Row(title='Third Man, The (1949)'), Row(title='Coneheads (1993)'), Row(title='Escape from New York (1981)'), Row(title='Wag the Dog (1997)'), Row(title='Strange Days (1995)'), Row(title='So I Married an Axe Murderer (1993)'), Row(title='Brother Minister: The Assassination of Malcolm X (1994)'), Row(title=\"April Fool's Day (1986)\"), Row(title='Shadow of Angels (Schatten der Engel) (1976)'), Row(title='GoodFellas (1990)'), Row(title='Patton (1970)'), Row(title='Thin Line Between Love and Hate, A (1996)'), Row(title='To Catch a Thief (1955)'), Row(title='Sex, Lies, and Videotape (1989)'), Row(title=\"Weekend at Bernie's (1989)\"), Row(title='Newton Boys, The (1998)'), Row(title='Primary Colors (1998)'), Row(title='Silence of the Palace, The (Saimt el Qusur) (1994)'), Row(title='Red Corner (1997)'), Row(title='Omen, The (1976)'), Row(title='Niagara, Niagara (1997)'), Row(title='Firestorm (1998)'), Row(title='Phat Beach (1996)'), Row(title='Long Kiss Goodnight, The (1996)'), Row(title=\"Wend Kuuni (God's Gift) (1982)\"), Row(title='Only You (1994)'), Row(title='Caught (1996)'), Row(title='Half Baked (1998)'), Row(title='U.S. Marshalls (1998)'), Row(title='Dr. Strangelove or: How I Learned to Stop Worrying and Love the Bomb (1963)'), Row(title='Dead Presidents (1995)'), Row(title='Real Genius (1985)'), Row(title=\"Bram Stoker's Dracula (1992)\"), Row(title='Far From Home: The Adventures of Yellow Dog (1995)'), Row(title='Madame Butterfly (1995)'), Row(title=\"Miller's Crossing (1990)\"), Row(title='Tank Girl (1995)'), Row(title='When a Man Loves a Woman (1994)'), Row(title='Cook the Thief His Wife & Her Lover, The (1989)'), Row(title='Unforgiven (1992)'), Row(title='Winter Guest, The (1997)'), Row(title='Mad Love (1995)'), Row(title='Secret of Roan Inish, The (1994)'), Row(title='Dirty Dancing (1987)'), Row(title='Virtuosity (1995)'), Row(title='Mighty Aphrodite (1995)'), Row(title='City of Lost Children, The (1995)'), Row(title='First Knight (1995)'), Row(title='Robin Hood: Men in Tights (1993)'), Row(title='Reservoir Dogs (1992)'), Row(title='Mary Reilly (1996)'), Row(title='Bushwhacked (1995)'), Row(title='Postman, The (1997)'), Row(title='American Werewolf in London, An (1981)'), Row(title='Brothers McMullen, The (1995)'), Row(title='Buddy (1997)'), Row(title=\"Gridlock'd (1997)\"), Row(title='Basquiat (1996)'), Row(title='Life Less Ordinary, A (1997)'), Row(title='Graduate, The (1967)'), Row(title='Schizopolis (1996)'), Row(title='My Left Foot (1989)'), Row(title='Cinderella (1950)'), Row(title='Magic Hour, The (1998)'), Row(title='Tales from the Crypt Presents: Bordello of Blood (1996)'), Row(title='House Party 3 (1994)'), Row(title='Promesse, La (1996)'), Row(title='Perfect World, A (1993)'), Row(title='Crash (1996)'), Row(title='Amadeus (1984)'), Row(title='Dumb & Dumber (1994)'), Row(title='Dadetown (1995)'), Row(title='Love and Other Catastrophes (1996)'), Row(title='Cinema Paradiso (1988)'), Row(title='Gattaca (1997)'), Row(title='I Shot Andy Warhol (1996)'), Row(title='Emma (1996)'), Row(title='Excess Baggage (1997)'), Row(title='Johnny 100 Pesos (1993)'), Row(title='Radioland Murders (1994)'), Row(title='Phenomenon (1996)'), Row(title='Spice World (1997)'), Row(title='Killing Zoe (1994)'), Row(title='Lone Star (1996)'), Row(title='Metisse (Café au Lait) (1993)'), Row(title='Night Falls on Manhattan (1997)'), Row(title='Alien (1979)'), Row(title='Four Days in September (1997)'), Row(title='Forget Paris (1995)'), Row(title='Indian in the Cupboard, The (1995)'), Row(title='Ace Ventura: When Nature Calls (1995)'), Row(title='River Wild, The (1994)'), Row(title='Death and the Maiden (1994)'), Row(title='Hackers (1995)'), Row(title='Loaded (1994)'), Row(title='Cement Garden, The (1993)'), Row(title='Clockwork Orange, A (1971)'), Row(title='Jingle All the Way (1996)'), Row(title='Alphaville (1965)'), Row(title='Mortal Kombat: Annihilation (1997)'), Row(title='Condition Red (1995)'), Row(title='L.A. Confidential (1997)'), Row(title='Air Force One (1997)'), Row(title='Chasers (1994)'), Row(title='Sunset Park (1996)'), Row(title='Fantasia (1940)'), Row(title='Outlaw, The (1943)'), Row(title='Man of No Importance, A (1994)'), Row(title=\"Widows' Peak (1994)\"), Row(title='Star Trek: The Wrath of Khan (1982)'), Row(title='Wonderful, Horrible Life of Leni Riefenstahl, The (1993)'), Row(title='Best Men (1997)'), Row(title='Shall We Dance? (1996)'), Row(title='Enchanted April (1991)'), Row(title='Ice Storm, The (1997)'), Row(title='Dead Man (1995)'), Row(title='Ben-Hur (1959)'), Row(title='Story of Xinghua, The (1993)'), Row(title=\"Jupiter's Wife (1994)\"), Row(title='Tombstone (1993)'), Row(title='Wild Reeds (1994)'), Row(title='Beans of Egypt, Maine, The (1994)'), Row(title='Terminator, The (1984)'), Row(title='Golden Earrings (1947)'), Row(title='Pather Panchali (1955)'), Row(title='Tainted (1998)'), Row(title='Ninotchka (1939)'), Row(title='Jerry Maguire (1996)'), Row(title='Die Hard: With a Vengeance (1995)'), Row(title='Desperado (1995)'), Row(title='In Love and War (1996)'), Row(title='Frighteners, The (1996)'), Row(title='Rebel Without a Cause (1955)'), Row(title='Ciao, Professore! (1993)'), Row(title='Associate, The (1996)'), Row(title='Wild Things (1998)'), Row(title='Shopping (1994)'), Row(title='Cat People (1982)'), Row(title='Shooting Fish (1997)'), Row(title='Sweet Nothing (1995)'), Row(title='Love Affair (1994)'), Row(title='Death in Brunswick (1991)'), Row(title='Short Cuts (1993)'), Row(title='Angels in the Outfield (1994)'), Row(title='Amistad (1997)'), Row(title='August (1996)'), Row(title='How to Be a Player (1997)'), Row(title='Days of Thunder (1990)'), Row(title='Body Snatcher, The (1945)'), Row(title='Normal Life (1996)'), Row(title='Foreign Student (1994)'), Row(title='SubUrbia (1997)'), Row(title='Carried Away (1996)'), Row(title='Simple Twist of Fate, A (1994)'), Row(title='Unforgettable (1996)'), Row(title='Grumpier Old Men (1995)'), Row(title='Terminator 2: Judgment Day (1991)'), Row(title='Hostile Intentions (1994)'), Row(title='Turbo: A Power Rangers Movie (1997)'), Row(title='Smile Like Yours, A (1997)'), Row(title='Richie Rich (1994)'), Row(title='Nothing to Lose (1994)'), Row(title='Apt Pupil (1998)'), Row(title='Turning, The (1992)'), Row(title='Leave It to Beaver (1997)'), Row(title='Bloodsport 2 (1995)'), Row(title='Fatal Instinct (1993)'), Row(title='Boys (1996)'), Row(title='Age of Innocence, The (1993)'), Row(title='Alien: Resurrection (1997)'), Row(title='Kaspar Hauser (1993)'), Row(title='Gay Divorcee, The (1934)'), Row(title=\"I Can't Sleep (J'ai pas sommeil) (1994)\"), Row(title='Leaving Las Vegas (1995)'), Row(title='Deer Hunter, The (1978)'), Row(title='Braindead (1992)'), Row(title='M*A*S*H (1970)'), Row(title='To Wong Foo, Thanks for Everything! Julie Newmar (1995)'), Row(title='Talking About Sex (1994)'), Row(title='Touch of Evil (1958)'), Row(title='Cowboy Way, The (1994)'), Row(title='Wizard of Oz, The (1939)'), Row(title='Home Alone (1990)'), Row(title='Don Juan DeMarco (1995)'), Row(title='Good Morning (1971)'), Row(title='Haunted World of Edward D. Wood Jr., The (1995)'), Row(title='Invitation, The (Zaproszenie) (1986)'), Row(title='Young Guns (1988)'), Row(title='Two Friends (1986) '), Row(title='Frankie Starlight (1995)'), Row(title='His Girl Friday (1940)'), Row(title='Secret Agent, The (1996)'), Row(title='Bird of Prey (1996)'), Row(title='Mission: Impossible (1996)'), Row(title='Crossfire (1947)'), Row(title='Faces (1968)'), Row(title='City Hall (1996)'), Row(title='Interview with the Vampire (1994)'), Row(title='Stars Fell on Henrietta, The (1995)'), Row(title='Jefferson in Paris (1995)'), Row(title='Maltese Falcon, The (1941)'), Row(title='Cyrano de Bergerac (1990)'), Row(title='Reckless (1995)'), Row(title='Road to Wellville, The (1994)'), Row(title='Search for One-eye Jimmy, The (1996)'), Row(title='Bio-Dome (1996)'), Row(title='Barb Wire (1996)'), Row(title='187 (1997)'), Row(title='Mrs. Brown (Her Majesty, Mrs. Brown) (1997)'), Row(title='Low Down Dirty Shame, A (1994)'), Row(title='Spawn (1997)'), Row(title='Cool Hand Luke (1967)'), Row(title='Squeeze (1996)'), Row(title='Conan the Barbarian (1981)'), Row(title='Indiana Jones and the Last Crusade (1989)'), Row(title='Total Eclipse (1995)'), Row(title='Kull the Conqueror (1997)'), Row(title='Reluctant Debutante, The (1958)'), Row(title='Craft, The (1996)'), Row(title='Babysitter, The (1995)'), Row(title='Blues Brothers 2000 (1998)'), Row(title='Robocop 3 (1993)'), Row(title='Mouse Hunt (1997)'), Row(title='Species (1995)'), Row(title='Babe (1995)'), Row(title='Nemesis 2: Nebula (1995)'), Row(title='Maximum Risk (1996)'), Row(title='Farewell My Concubine (1993)'), Row(title='Air Up There, The (1994)'), Row(title='Laura (1944)'), Row(title='Hard Rain (1998)'), Row(title='Tales From the Crypt Presents: Demon Knight (1995)'), Row(title='My Favorite Season (1993)'), Row(title='Anaconda (1997)'), Row(title='Bride of Frankenstein (1935)'), Row(title='Romeo Is Bleeding (1993)'), Row(title='Canadian Bacon (1994)'), Row(title='Candyman (1992)'), Row(title='Great Dictator, The (1940)'), Row(title='Tango Lesson, The (1997)'), Row(title='Truth or Consequences, N.M. (1997)'), Row(title='Bogus (1996)'), Row(title='Ghost and the Darkness, The (1996)'), Row(title='Ran (1985)'), Row(title='Palookaville (1996)'), Row(title='Postino, Il (1994)'), Row(title='No Escape (1994)'), Row(title='Relative Fear (1994)'), Row(title='Wonderland (1997)'), Row(title='Madonna: Truth or Dare (1991)'), Row(title='Broken English (1996)'), Row(title='Father of the Bride (1950)'), Row(title='Last Summer in the Hamptons (1995)'), Row(title='Davy Crockett, King of the Wild Frontier (1955)'), Row(title='Poetic Justice (1993)'), Row(title=\"Mat' i syn (1997)\"), Row(title='Temptress Moon (Feng Yue) (1996)'), Row(title='Sleepover (1995)'), Row(title='1-900 (1994)'), Row(title='Penny Serenade (1941)'), Row(title='Waterworld (1995)'), Row(title='Around the World in 80 Days (1956)'), Row(title='Daytrippers, The (1996)'), Row(title='Hamlet (1996)'), Row(title='Prisoner of the Mountains (Kavkazsky Plennik) (1996)'), Row(title='Matilda (1996)'), Row(title=\"Jason's Lyric (1994)\"), Row(title='Shining, The (1980)'), Row(title='Mortal Kombat (1995)'), Row(title='Locusts, The (1997)'), Row(title='Liebelei (1933)'), Row(title=\"Margaret's Museum (1995)\"), Row(title='Man Who Would Be King, The (1975)'), Row(title='Ghost in the Shell (Kokaku kidotai) (1995)'), Row(title='Flintstones, The (1994)'), Row(title='Palmetto (1998)'), Row(title='Ballad of Narayama, The (Narayama Bushiko) (1958)'), Row(title='Red Firecracker, Green Firecracker (1994)'), Row(title=\"I'm Not Rappaport (1996)\"), Row(title='Clean Slate (1994)'), Row(title='Double vie de Véronique, La (Double Life of Veronique, The) (1991)'), Row(title='Forbidden Planet (1956)'), Row(title='Little Lord Fauntleroy (1936)'), Row(title='Scout, The (1994)'), Row(title='Godfather: Part II, The (1974)'), Row(title='Ref, The (1994)'), Row(title='Citizen Ruth (1996)'), Row(title='Nothing Personal (1995)'), Row(title='Warriors of Virtue (1997)'), Row(title='Judge Dredd (1995)'), Row(title='Tom and Huck (1995)'), Row(title='Monty Python and the Holy Grail (1974)'), Row(title='Fifth Element, The (1997)'), Row(title='Band Wagon, The (1953)'), Row(title='Ghost and Mrs. Muir, The (1947)'), Row(title='Gumby: The Movie (1995)'), Row(title='Thousand Acres, A (1997)'), Row(title='African Queen, The (1951)'), Row(title='Dark City (1998)'), Row(title='Maybe, Maybe Not (Bewegte Mann, Der) (1994)'), Row(title='Commandments (1997)'), Row(title='In the Realm of the Senses (Ai no corrida) (1976)'), Row(title='Cop Land (1997)'), Row(title='On Golden Pond (1981)'), Row(title='Mighty, The (1998)'), Row(title='Funeral, The (1996)'), Row(title='Rising Sun (1993)'), Row(title=\"Schindler's List (1993)\"), Row(title='Amityville: A New Generation (1993)'), Row(title='Transformers: The Movie, The (1986)'), Row(title='Spirits of the Dead (Tre passi nel delirio) (1968)'), Row(title='Raiders of the Lost Ark (1981)'), Row(title='Glimmer Man, The (1996)'), Row(title='Georgia (1995)'), Row(title='Destiny Turns on the Radio (1995)'), Row(title='Milk Money (1994)'), Row(title='Beverly Hillbillies, The (1993)'), Row(title='Gold Diggers: The Secret of Bear Mountain (1995)'), Row(title='Big Blue, The (Grand bleu, Le) (1988)'), Row(title='Getaway, The (1994)'), Row(title='Perfect Candidate, A (1996)'), Row(title='Raising Arizona (1987)'), Row(title='Aparajito (1956)'), Row(title='Good Will Hunting (1997)'), Row(title='Hard Target (1993)'), Row(title='Manhattan (1979)'), Row(title='Secrets & Lies (1996)'), Row(title='That Darn Cat! (1997)'), Row(title='Silence of the Lambs, The (1991)'), Row(title='Price Above Rubies, A (1998)'), Row(title='Miracle on 34th Street (1994)'), Row(title='Ill Gotten Gains (1997)'), Row(title='Red Rock West (1992)'), Row(title='Clerks (1994)'), Row(title='Men of Means (1998)'), Row(title='Exotica (1994)'), Row(title='Wishmaster (1997)'), Row(title='So Dear to My Heart (1949)'), Row(title='Welcome To Sarajevo (1997)'), Row(title='Drunks (1995)'), Row(title='What Happened Was... (1994)'), Row(title=\"Jackie Chan's First Strike (1996)\"), Row(title='Star Trek: Generations (1994)'), Row(title='Strawberry and Chocolate (Fresa y chocolate) (1993)'), Row(title='Flirting With Disaster (1996)'), Row(title=\"Joe's Apartment (1996)\"), Row(title='Two Deaths (1995)'), Row(title='Jimmy Hollywood (1994)'), Row(title='Cure, The (1995)'), Row(title=\"Star Maker, The (Uomo delle stelle, L') (1995)\"), Row(title='Misérables, Les (1995)'), Row(title='Nowhere (1997)'), Row(title='Johns (1996)'), Row(title='My Crazy Life (Mi vida loca) (1993)'), Row(title='French Kiss (1995)'), Row(title='Sleepers (1996)'), Row(title='Apocalypse Now (1979)'), Row(title='Assassins (1995)'), Row(title='Kalifornia (1993)'), Row(title='Ghosts of Mississippi (1996)'), Row(title='Groundhog Day (1993)'), Row(title='Angel and the Badman (1947)'), Row(title='Broken Arrow (1996)'), Row(title='Boys in Venice (1996)'), Row(title='Benny & Joon (1993)'), Row(title='Other Voices, Other Rooms (1997)'), Row(title='Great Day in Harlem, A (1994)'), Row(title='Ripe (1996)'), Row(title=\"One Flew Over the Cuckoo's Nest (1975)\"), Row(title='Remains of the Day, The (1993)'), Row(title='Faust (1994)'), Row(title='Clean Slate (Coup de Torchon) (1981)'), Row(title='Some Like It Hot (1959)'), Row(title='Killing Fields, The (1984)'), Row(title='War at Home, The (1996)'), Row(title='Blade Runner (1982)'), Row(title='NeverEnding Story III, The (1994)'), Row(title='You So Crazy (1994)'), Row(title='Screamers (1995)'), Row(title='All Over Me (1997)'), Row(title=\"Microcosmos: Le peuple de l'herbe (1996)\"), Row(title='Hedd Wyn (1992)'), Row(title='Harriet the Spy (1996)'), Row(title='Lost Highway (1997)'), Row(title='Homage (1995)'), Row(title='Favor, The (1994)'), Row(title='Leading Man, The (1996)'), Row(title='Kingpin (1996)'), Row(title='Son in Law (1993)'), Row(title='Swimming with Sharks (1995)'), Row(title='When the Cats Away (Chacun cherche son chat) (1996)'), Row(title='Now and Then (1995)'), Row(title='Promise, The (Versprechen, Das) (1994)'), Row(title='Horse Whisperer, The (1998)'), Row(title='Touki Bouki (Journey of the Hyena) (1973)'), Row(title='Six Degrees of Separation (1993)'), Row(title='Butcher Boy, The (1998)'), Row(title='Withnail and I (1987)'), Row(title='Beautiful Girls (1996)'), Row(title='Naked Gun 33 1/3: The Final Insult (1994)'), Row(title='Winnie the Pooh and the Blustery Day (1968)'), Row(title='Foxfire (1996)'), Row(title='Bad Moon (1996)'), Row(title='Venice/Venice (1992)'), Row(title='Hot Shots! Part Deux (1993)'), Row(title='Michael (1996)'), Row(title='Little Odessa (1994)'), Row(title='MatchMaker, The (1997)'), Row(title='Fall (1997)'), Row(title='Big Bully (1996)'), Row(title='Shadows (Cienie) (1988)'), Row(title='Lightning Jack (1994)'), Row(title='Mrs. Winterbourne (1996)'), Row(title='Sneakers (1992)'), Row(title='Richard III (1995)'), Row(title=\"Dante's Peak (1997)\"), Row(title='Carrington (1995)'), Row(title='One Fine Day (1996)'), Row(title='Alien 3 (1992)'), Row(title='Casper (1995)'), Row(title='Boogie Nights (1997)'), Row(title='Heidi Fleiss: Hollywood Madam (1995) '), Row(title='Three Colors: Red (1994)'), Row(title='Fargo (1996)'), Row(title='People vs. Larry Flynt, The (1996)'), Row(title='Down by Law (1986)'), Row(title='Of Love and Shadows (1994)'), Row(title=\"Sophie's Choice (1982)\"), Row(title='Deep Rising (1998)'), Row(title='Delta of Venus (1994)'), Row(title='Hoodlum (1997)'), Row(title='Dead Man Walking (1995)'), Row(title='Kim (1950)'), Row(title='Air Bud (1997)'), Row(title='Liar Liar (1997)'), Row(title='Celtic Pride (1996)'), Row(title='Sabrina (1995)'), Row(title='Conspiracy Theory (1997)'), Row(title='Calendar Girl (1993)'), Row(title='Mary Poppins (1964)'), Row(title='Flipper (1996)'), Row(title='Legal Deceit (1997)'), Row(title=\"Smilla's Sense of Snow (1997)\"), Row(title='All Things Fair (1996)'), Row(title='Bliss (1997)'), Row(title='Twelfth Night (1996)'), Row(title='Ponette (1996)'), Row(title=\"William Shakespeare's Romeo and Juliet (1996)\"), Row(title=\"Mary Shelley's Frankenstein (1994)\"), Row(title='Corrina, Corrina (1994)'), Row(title='Ed Wood (1994)'), Row(title='Multiplicity (1996)'), Row(title='Scream of Stone (Schrei aus Stein) (1991)'), Row(title='Adventures of Robin Hood, The (1938)'), Row(title='Line King: Al Hirschfeld, The (1996)'), Row(title='Bonnie and Clyde (1967)'), Row(title='Taxi Driver (1976)'), Row(title='Dunston Checks In (1996)'), Row(title='Boxing Helena (1993)'), Row(title='Blue Sky (1994)'), Row(title='Wild Bunch, The (1969)'), Row(title='Incognito (1997)'), Row(title='Highlander III: The Sorcerer (1994)'), Row(title='Paris Is Burning (1990)'), Row(title='Aladdin (1992)'), Row(title='Grace of My Heart (1996)'), Row(title='Bad Boys (1995)'), Row(title='Innocents, The (1961)'), Row(title='Jack and Sarah (1995)'), Row(title='Girls Town (1996)'), Row(title='Picture Perfect (1997)'), Row(title='Relic, The (1997)'), Row(title=\"Carlito's Way (1993)\"), Row(title='New York Cop (1996)'), Row(title='Caro Diario (Dear Diary) (1994)'), Row(title='Paris, Texas (1984)'), Row(title='In the Name of the Father (1993)'), Row(title='War Room, The (1993)'), Row(title='Bottle Rocket (1996)'), Row(title='Murder in the First (1995)'), Row(title='Kiss the Girls (1997)'), Row(title='Up Close and Personal (1996)'), Row(title='Assignment, The (1997)'), Row(title='Sound of Music, The (1965)'), Row(title='Stag (1997)'), Row(title='Two if by Sea (1996)'), Row(title='Cold Comfort Farm (1995)'), Row(title='Children of the Corn: The Gathering (1996)'), Row(title='Sliver (1993)'), Row(title='Carpool (1996)'), Row(title='Love and a .45 (1994)'), Row(title='Game, The (1997)'), Row(title='Unhook the Stars (1996)'), Row(title='Everest (1998)'), Row(title='Star Wars (1977)'), Row(title='Cérémonie, La (1995)'), Row(title='High School High (1996)'), Row(title='Cemetery Man (Dellamorte Dellamore) (1994)'), Row(title='Pocahontas (1995)'), Row(title='Walk in the Sun, A (1945)'), Row(title='Mighty Morphin Power Rangers: The Movie (1995)'), Row(title='Kicking and Screaming (1995)'), Row(title='Being Human (1993)'), Row(title='Aliens (1986)'), Row(title='Batman (1989)'), Row(title='Three Colors: Blue (1993)'), Row(title='My Life as a Dog (Mitt liv som hund) (1985)'), Row(title='Miami Rhapsody (1995)'), Row(title='Boys on the Side (1995)'), Row(title='Fallen (1998)'), Row(title='Vampire in Brooklyn (1995)'), Row(title='Man of the Year (1995)'), Row(title='Across the Sea of Time (1995)'), Row(title='Shooter, The (1995)'), Row(title='Much Ado About Nothing (1993)'), Row(title='Man from Down Under, The (1943)'), Row(title='Peacemaker, The (1997)'), Row(title='Speechless (1994)'), Row(title='Thirty-Two Short Films About Glenn Gould (1993)'), Row(title='World of Apu, The (Apur Sansar) (1959)'), Row(title='Wedding Gift, The (1994)'), Row(title=\"Some Mother's Son (1996)\"), Row(title='Once Were Warriors (1994)'), Row(title='Hungarian Fairy Tale, A (1987)'), Row(title='Terminal Velocity (1994)'), Row(title='Bed of Roses (1996)'), Row(title='MURDER and murder (1996)'), Row(title='Mr. Magoo (1997)'), Row(title='Lord of Illusions (1995)'), Row(title='Double Team (1997)'), Row(title='Jungle2Jungle (1997)'), Row(title='Ayn Rand: A Sense of Life (1997)'), Row(title='Spanish Prisoner, The (1997)'), Row(title='Steal Big, Steal Little (1995)'), Row(title='Fearless (1993)'), Row(title='Something to Talk About (1995)'), Row(title='Tetsuo II: Body Hammer (1992)'), Row(title='Browning Version, The (1994)'), Row(title='Howling, The (1981)'), Row(title='Mostro, Il (1994)'), Row(title='Small Faces (1995)'), Row(title='Doom Generation, The (1995)'), Row(title='Beyond Bedlam (1993)'), Row(title='Addams Family Values (1993)'), Row(title='Rosewood (1997)'), Row(title='Dream Man (1995)'), Row(title='Terror in a Texas Town (1958)'), Row(title='Babyfever (1994)'), Row(title='Little Buddha (1993)'), Row(title='Full Speed (1996)'), Row(title='Gigi (1958)'), Row(title='Wild America (1997)'), Row(title='Quiet Man, The (1952)'), Row(title='Delicatessen (1991)'), Row(title='Pink Floyd - The Wall (1982)'), Row(title='Baton Rouge (1988)'), Row(title='Rocket Man (1997)'), Row(title='Live Nude Girls (1995)'), Row(title='Wings of Desire (1987)'), Row(title='Bloody Child, The (1996)'), Row(title='Disclosure (1994)'), Row(title='True Crime (1995)'), Row(title='Sliding Doors (1998)'), Row(title='Mediterraneo (1991)'), Row(title='Powder (1995)'), Row(title='Symphonie pastorale, La (1946)'), Row(title='Apartment, The (1960)'), Row(title='Stripes (1981)'), Row(title='Underground (1995)'), Row(title='Amityville Horror, The (1979)'), Row(title='Santa Clause, The (1994)'), Row(title='White Balloon, The (1995)'), Row(title='Eye for an Eye (1996)'), Row(title='Men With Guns (1997)'), Row(title='Lawrence of Arabia (1962)'), Row(title='Feast of July (1995)'), Row(title='Giant (1956)'), Row(title='Secret Adventures of Tom Thumb, The (1993)'), Row(title='Donnie Brasco (1997)'), Row(title='Volcano (1997)'), Row(title=\"What's Love Got to Do with It (1993)\"), Row(title='Entertaining Angels: The Dorothy Day Story (1996)'), Row(title='Of Human Bondage (1934)'), Row(title='Hunt for Red October, The (1990)'), Row(title='Philadelphia Story, The (1940)'), Row(title=\"Breakfast at Tiffany's (1961)\"), Row(title='Next Karate Kid, The (1994)'), Row(title='Dumbo (1941)'), Row(title='Amityville II: The Possession (1982)'), Row(title='Angels and Insects (1995)'), Row(title='Piano, The (1993)'), Row(title='Pest, The (1997)'), Row(title='Grand Day Out, A (1992)'), Row(title='Smoke (1995)'), Row(title='When Night Is Falling (1995)'), Row(title='Get Shorty (1995)'), Row(title='Until the End of the World (Bis ans Ende der Welt) (1991)'), Row(title='Blood & Wine (1997)'), Row(title='Christmas Carol, A (1938)'), Row(title='Money Talks (1997)'), Row(title='Night Flier (1997)'), Row(title='Quest, The (1996)'), Row(title='Cronos (1992)'), Row(title='Nightmare Before Christmas, The (1993)'), Row(title='Cable Guy, The (1996)'), Row(title='Halloween: The Curse of Michael Myers (1995)'), Row(title='Panther (1995)'), Row(title='Falling in Love Again (1980)'), Row(title='Land Before Time III: The Time of the Great Giving (1995) (V)'), Row(title='Funny Face (1957)'), Row(title='Barbarella (1968)'), Row(title='Duoluo tianshi (1995)'), Row(title='Crossing Guard, The (1995)'), Row(title='To Gillian on Her 37th Birthday (1996)'), Row(title='Fast, Cheap & Out of Control (1997)'), Row(title='Kansas City (1996)'), Row(title='That Darn Cat! (1965)'), Row(title='Inkwell, The (1994)'), Row(title='Fire on the Mountain (1996)'), Row(title='Fresh (1994)'), Row(title='Mark of Zorro, The (1940)'), Row(title='Dingo (1992)'), Row(title='Crooklyn (1994)'), Row(title=\"Heaven's Prisoners (1996)\"), Row(title='Wedding Singer, The (1998)'), Row(title='Seven (Se7en) (1995)'), Row(title='Geronimo: An American Legend (1993)'), Row(title='Bringing Up Baby (1938)'), Row(title='Paradise Road (1997)'), Row(title='Chain Reaction (1996)'), Row(title='Quartier Mozart (1992)'), Row(title='Mystery Science Theater 3000: The Movie (1996)'), Row(title='Courage Under Fire (1996)'), Row(title=\"She's So Lovely (1997)\"), Row(title='For Whom the Bell Tolls (1943)'), Row(title='Kiss Me, Guido (1997)'), Row(title='Renaissance Man (1994)'), Row(title=\"Kid in King Arthur's Court, A (1995)\"), Row(title='Star Trek VI: The Undiscovered Country (1991)'), Row(title=\"She's the One (1996)\"), Row(title='Shine (1996)'), Row(title='Dead Poets Society (1989)'), Row(title='I, Worst of All (Yo, la peor de todas) (1990)'), Row(title='Man Who Knew Too Little, The (1997)'), Row(title='Three Lives and Only One Death (1996)'), Row(title='Old Lady Who Walked in the Sea, The (Vieille qui marchait dans la mer, La) (1991)'), Row(title='Lost World: Jurassic Park, The (1997)'), Row(title='Infinity (1996)'), Row(title='My Family (1995)'), Row(title='Vanya on 42nd Street (1994)'), Row(title='Love Jones (1997)'), Row(title='Three Musketeers, The (1993)'), Row(title='Menace II Society (1993)'), Row(title='Absolute Power (1997)'), Row(title='Strictly Ballroom (1992)'), Row(title='Low Life, The (1994)'), Row(title='Kolya (1996)'), Row(title='Escape to Witch Mountain (1975)'), Row(title='This Is Spinal Tap (1984)'), Row(title='To Die For (1995)'), Row(title='Hollow Reed (1996)'), Row(title='Judgment Night (1993)'), Row(title='Love & Human Remains (1993)'), Row(title='Big One, The (1997)'), Row(title='North (1994)'), Row(title='Getting Even with Dad (1994)'), Row(title='Circle of Friends (1995)'), Row(title='Paper, The (1994)'), Row(title='Raging Bull (1980)'), Row(title='Freeway (1996)'), Row(title='Believers, The (1987)'), Row(title='Touch (1997)'), Row(title='Sprung (1997)'), Row(title=\"McHale's Navy (1997)\"), Row(title='Mimic (1997)'), Row(title='Oliver & Company (1988)'), Row(title=\"Preacher's Wife, The (1996)\"), Row(title='Bulletproof (1996)'), Row(title='City of Angels (1998)'), Row(title='Mother (1996)'), Row(title='Butterfly Kiss (1995)'), Row(title='White Squall (1996)'), Row(title='Jackal, The (1997)'), Row(title='Harlem (1993)'), Row(title='Legends of the Fall (1994)'), Row(title='Tin Men (1987)'), Row(title='Major Payne (1994)'), Row(title='Eraser (1996)'), Row(title='Doors, The (1991)'), Row(title='Parent Trap, The (1961)'), Row(title='To Have, or Not (1995)'), Row(title='Night on Earth (1991)'), Row(title='Congo (1995)'), Row(title='Primal Fear (1996)'), Row(title=\"Fathers' Day (1997)\"), Row(title='Star Maps (1997)'), Row(title='American President, The (1995)'), Row(title='Trigger Effect, The (1996)'), Row(title='Zeus and Roxanne (1997)'), Row(title='In the Line of Duty 2 (1987)'), Row(title=\"Devil's Advocate, The (1997)\"), Row(title='B. Monkey (1998)'), Row(title='With Honors (1994)'), Row(title='First Kid (1996)'), Row(title='Lawnmower Man 2: Beyond Cyberspace (1996)'), Row(title='Wild Bill (1995)'), Row(title='Wife, The (1995)'), Row(title='To Kill a Mockingbird (1962)'), Row(title='Princess Caraboo (1994)'), Row(title='Executive Decision (1996)'), Row(title='Before Sunrise (1995)'), Row(title='American Strays (1996)'), Row(title='Up in Smoke (1978)'), Row(title='Designated Mourner, The (1997)'), Row(title='Wings of Courage (1995)'), Row(title='Quiz Show (1994)'), Row(title='Fish Called Wanda, A (1988)'), Row(title='Blue Angel, The (Blaue Engel, Der) (1930)'), Row(title='Program, The (1993)'), Row(title='Very Brady Sequel, A (1996)'), Row(title='To Cross the Rubicon (1991)'), Row(title='Germinal (1993)'), Row(title='Mille bolle blu (1993)'), Row(title='Glass Shield, The (1994)'), Row(title='Shiloh (1997)'), Row(title='Mirage (1995)'), Row(title='Slingshot, The (1993)'), Row(title='U Turn (1997)'), Row(title='House of Yes, The (1997)'), Row(title='Maya Lin: A Strong Clear Vision (1994)'), Row(title='Made in America (1993)'), Row(title='Mad City (1997)'), Row(title='Apple Dumpling Gang, The (1975)'), Row(title='Hush (1998)'), Row(title='Heat (1995)'), Row(title='Angel on My Shoulder (1946)'), Row(title='Aladdin and the King of Thieves (1996)'), Row(title='House of the Spirits, The (1993)'), Row(title='Batman Returns (1992)'), Row(title='Amazing Panda Adventure, The (1995)'), Row(title=\"Gone Fishin' (1997)\"), Row(title='Sixth Man, The (1997)'), Row(title='Jerky Boys, The (1994)'), Row(title='Independence Day (ID4) (1996)'), Row(title='Switchback (1997)'), Row(title='Willy Wonka and the Chocolate Factory (1971)'), Row(title='Rosencrantz and Guildenstern Are Dead (1990)'), Row(title='Stealing Beauty (1996)'), Row(title='Crimson Tide (1995)'), Row(title='Looking for Richard (1996)'), Row(title='Basic Instinct (1992)'), Row(title='Angela (1995)'), Row(title='High Noon (1952)'), Row(title='Good, The Bad and The Ugly, The (1966)'), Row(title='Denise Calls Up (1995)'), Row(title='Toy Story (1995)'), Row(title='Once Upon a Time... When We Were Colored (1995)'), Row(title='Poison Ivy II (1995)'), Row(title='Midnight in the Garden of Good and Evil (1997)'), Row(title='Cutthroat Island (1995)'), Row(title='Full Metal Jacket (1987)'), Row(title='Surviving Picasso (1996)'), Row(title='Rhyme & Reason (1997)'), Row(title='Kicked in the Head (1997)'), Row(title='Homeward Bound: The Incredible Journey (1993)'), Row(title='Metro (1997)'), Row(title='Unbearable Lightness of Being, The (1988)'), Row(title=\"Cats Don't Dance (1997)\"), Row(title='Ma vie en rose (My Life in Pink) (1997)'), Row(title='Farmer & Chase (1995)'), Row(title='Boys, Les (1997)'), Row(title='Cliffhanger (1993)'), Row(title='Sunchaser, The (1996)'), Row(title='Pollyanna (1960)'), Row(title='Fausto (1993)'), Row(title='Open Season (1996)'), Row(title='Twilight (1998)'), Row(title='Bye Bye, Love (1995)'), Row(title='Life with Mikey (1993)'), Row(title='Hudsucker Proxy, The (1994)'), Row(title='Godfather, The (1972)'), Row(title='Woman in Question, The (1950)'), Row(title='Frisk (1995)'), Row(title='Blue in the Face (1995)'), Row(title='Dear God (1996)'), Row(title='Mr. Wrong (1996)'), Row(title='Lotto Land (1995)'), Row(title='Eat Drink Man Woman (1994)'), Row(title='Day the Sun Turned Cold, The (Tianguo niezi) (1994)'), Row(title='Under Siege 2: Dark Territory (1995)'), Row(title='Very Natural Thing, A (1974)'), Row(title='Career Girls (1997)'), Row(title='Immortal Beloved (1994)'), Row(title='Crucible, The (1996)'), Row(title='Moll Flanders (1996)'), Row(title='Ed (1996)'), Row(title='Waiting for Guffman (1996)'), Row(title='Birdcage, The (1996)'), Row(title='Heathers (1989)'), Row(title='Tie Me Up! Tie Me Down! (1990)'), Row(title='Titanic (1997)'), Row(title='Etz Hadomim Tafus (Under the Domin Tree) (1994)'), Row(title='Clueless (1995)'), Row(title='George of the Jungle (1997)'), Row(title='Whole Wide World, The (1996)'), Row(title=\"Rich Man's Wife, The (1996)\"), Row(title='Amateur (1994)'), Row(title=\"White Man's Burden (1995)\"), Row(title='Philadelphia (1993)'), Row(title='Safe Passage (1994)'), Row(title='Manchurian Candidate, The (1962)'), Row(title='Little Princess, A (1995)'), Row(title='Unzipped (1995)'), Row(title='Stefano Quantestorie (1993)'), Row(title='Dave (1993)'), Row(title='Jungle Book, The (1994)'), Row(title=\"Eye of Vichy, The (Oeil de Vichy, L') (1993)\"), Row(title='Children of the Revolution (1996)'), Row(title='Face/Off (1997)'), Row(title='Underneath, The (1995)'), Row(title='Michael Collins (1996)'), Row(title='Bread and Chocolate (Pane e cioccolata) (1973)'), Row(title='Three Colors: White (1994)'), Row(title='Kama Sutra: A Tale of Love (1996)'), Row(title='Serial Mom (1994)'), Row(title='Con Air (1997)'), Row(title='They Made Me a Criminal (1939)'), Row(title='Killer (Bulletproof Heart) (1994)'), Row(title='Paths of Glory (1957)'), Row(title='Island of Dr. Moreau, The (1996)'), Row(title='Bent (1997)'), Row(title='Gaslight (1944)'), Row(title='Vermin (1998)'), Row(title='Andre (1994)'), Row(title='Austin Powers: International Man of Mystery (1997)'), Row(title='Nine Months (1995)'), Row(title='Kids in the Hall: Brain Candy (1996)'), Row(title='Moonlight and Valentino (1995)'), Row(title='Pillow Book, The (1995)'), Row(title='Being There (1979)'), Row(title=\"My Life and Times With Antonin Artaud (En compagnie d'Antonin Artaud) (1993)\"), Row(title='Late Bloomers (1996)'), Row(title='Little Women (1994)'), Row(title='Booty Call (1997)'), Row(title='Top Gun (1986)'), Row(title='Sting, The (1973)'), Row(title=\"Boy's Life 2 (1997)\"), Row(title='Pulp Fiction (1994)'), Row(title='Traveller (1997)'), Row(title='Chungking Express (1994)'), Row(title='Walking and Talking (1996)'), Row(title='Heaven & Earth (1993)'), Row(title='Nightwatch (1997)'), Row(title='In & Out (1997)'), Row(title='Man of the House (1995)'), Row(title='He Walked by Night (1948)'), Row(title='Crow, The (1994)'), Row(title='Fugitive, The (1993)'), Row(title='Santa with Muscles (1996)'), Row(title='Braveheart (1995)'), Row(title='Fried Green Tomatoes (1991)'), Row(title='Bad Girls (1994)'), Row(title='When Harry Met Sally... (1989)'), Row(title='Fear of a Black Hat (1993)'), Row(title='Collectionneuse, La (1967)'), Row(title=\"Romy and Michele's High School Reunion (1997)\"), Row(title='Van, The (1996)'), Row(title=\"Daniel Defoe's Robinson Crusoe (1996)\"), Row(title='Clear and Present Danger (1994)'), Row(title='D3: The Mighty Ducks (1996)'), Row(title='Right Stuff, The (1983)'), Row(title=\"Ulee's Gold (1997)\"), Row(title='Like Water For Chocolate (Como agua para chocolate) (1992)'), Row(title='Addicted to Love (1997)'), Row(title='Flower of My Secret, The (Flor de mi secreto, La) (1995)'), Row(title='Playing God (1997)'), Row(title='Shanghai Triad (Yao a yao yao dao waipo qiao) (1995)'), Row(title='Best of the Best 3: No Turning Back (1995)'), Row(title=\"Pyromaniac's Love Story, A (1995)\"), Row(title='Field of Dreams (1989)'), Row(title='Spitfire Grill, The (1996)'), Row(title='Koyaanisqatsi (1983)'), Row(title='Beat the Devil (1954)'), Row(title='Women, The (1939)'), Row(title='French Twist (Gazon maudit) (1995)'), Row(title='Shall We Dance? (1937)'), Row(title='Bronx Tale, A (1993)'), Row(title='Last Supper, The (1995)'), Row(title='Beverly Hills Cop III (1994)'), Row(title='Under Siege (1992)'), Row(title='Bonheur, Le (1965)'), Row(title='Evita (1996)'), Row(title='Body Snatchers (1993)'), Row(title='How to Make an American Quilt (1995)'), Row(title='Hugo Pool (1997)'), Row(title='Killer: A Journal of Murder (1995)'), Row(title='Timecop (1994)'), Row(title='Crying Game, The (1992)'), Row(title='Love Bug, The (1969)'), Row(title='Jaws 2 (1978)'), Row(title='Senseless (1998)'), Row(title='Office Killer (1997)'), Row(title='Pump Up the Volume (1990)'), Row(title='Fox and the Hound, The (1981)'), Row(title='Rumble in the Bronx (1995)'), Row(title='Twisted (1996)'), Row(title='Cobb (1994)'), Row(title=\"My Best Friend's Wedding (1997)\"), Row(title='Indian Summer (1996)'), Row(title='Thinner (1996)'), Row(title='Birds, The (1963)'), Row(title='Hana-bi (1997)'), Row(title='Kazaam (1996)'), Row(title='Tin Cup (1996)'), Row(title='Mamma Roma (1962)'), Row(title='Nobody Loves Me (Keiner liebt mich) (1994)'), Row(title='Devil in a Blue Dress (1995)'), Row(title='Sudden Death (1995)'), Row(title='Wrong Trousers, The (1993)'), Row(title='As Good As It Gets (1997)'), Row(title='Anastasia (1997)'), Row(title='Pretty Woman (1990)'), Row(title='My Fair Lady (1964)'), Row(title='Balto (1995)'), Row(title='Trust (1990)'), Row(title='Space Jam (1996)'), Row(title='To Be or Not to Be (1942)'), Row(title='Hear My Song (1991)'), Row(title='Escape from L.A. (1996)'), Row(title='Faithful (1996)'), Row(title='Jurassic Park (1993)'), Row(title='All Dogs Go to Heaven 2 (1996)'), Row(title='Salut cousin! (1996)'), Row(title='Butch Cassidy and the Sundance Kid (1969)'), Row(title='For the Moment (1994)'), Row(title='Shaggy Dog, The (1959)'), Row(title=\"Young Poisoner's Handbook, The (1995)\"), Row(title='It Could Happen to You (1994)'), Row(title='Close Shave, A (1995)'), Row(title='Room with a View, A (1986)'), Row(title='Twister (1996)'), Row(title='Two or Three Things I Know About Her (1966)'), Row(title='Fire Down Below (1997)'), Row(title='Once Upon a Time in the West (1969)'), Row(title='The Courtyard (1995)'), Row(title='Sunset Blvd. (1950)'), Row(title='Lost Horizon (1937)'), Row(title='Black Sheep (1996)'), Row(title='Local Hero (1983)'), Row(title='Madness of King George, The (1994)'), Row(title=\"Eve's Bayou (1997)\"), Row(title='Four Rooms (1995)'), Row(title='American Buffalo (1996)'), Row(title='Lady of Burlesque (1943)'), Row(title='Tie That Binds, The (1995)'), Row(title=\"Pete's Dragon (1977)\"), Row(title='An Unforgettable Summer (1994)'), Row(title='M (1931)'), Row(title='Heavy Metal (1981)'), Row(title='Treasure of the Sierra Madre, The (1948)'), Row(title='Speed 2: Cruise Control (1997)'), Row(title='Mrs. Parker and the Vicious Circle (1994)'), Row(title='Sum of Us, The (1994)'), Row(title='Some Kind of Wonderful (1987)'), Row(title='Dial M for Murder (1954)'), Row(title='Jaws (1975)'), Row(title='Walkabout (1971)'), Row(title='Mrs. Dalloway (1997)'), Row(title='My Fellow Americans (1996)'), Row(title='Nadja (1994)'), Row(title=\"Don't Be a Menace to South Central While Drinking Your Juice in the Hood (1996)\"), Row(title='The Deadly Cure (1996)'), Row(title='New Age, The (1994)'), Row(title='Nina Takes a Lover (1994)'), Row(title='Scarlet Letter, The (1926)'), Row(title='Love Serenade (1996)'), Row(title='Specialist, The (1994)'), Row(title='Fille seule, La (A Single Girl) (1995)'), Row(title='Before and After (1996)'), Row(title='Set It Off (1996)'), Row(title=\"It's a Wonderful Life (1946)\"), Row(title='Boys Life (1995)'), Row(title='Family Thing, A (1996)'), Row(title='Amos & Andrew (1993)'), Row(title='Last Man Standing (1996)'), Row(title='Junior (1994)'), Row(title='Replacement Killers, The (1998)'), Row(title='Event Horizon (1997)'), Row(title='Dolores Claiborne (1994)'), Row(title='Vegas Vacation (1997)'), Row(title='Rob Roy (1995)'), Row(title='Stupids, The (1996)'), Row(title='Scream (1996)'), Row(title='Machine, The (1994)'), Row(title='Ruling Class, The (1972)'), Row(title='Hate (Haine, La) (1995)'), Row(title='Big Night (1996)'), Row(title='Telling Lies in America (1997)'), Row(title='Chinatown (1974)'), Row(title='Sabrina (1954)'), Row(title='Last Dance (1996)'), Row(title=\"Muriel's Wedding (1994)\"), Row(title='Bound (1996)'), Row(title='Inspector General, The (1949)'), Row(title='Jade (1995)'), Row(title='Stranger in the House (1997)'), Row(title='12 Angry Men (1957)'), Row(title='Cabin Boy (1994)'), Row(title='Stalker (1979)'), Row(title='Glory (1989)'), Row(title='Getting Away With Murder (1996)'), Row(title='T-Men (1947)'), Row(title='Old Yeller (1957)'), Row(title='Castle Freak (1995)'), Row(title='Prefontaine (1997)'), Row(title='Carrie (1976)'), Row(title='Blink (1994)'), Row(title='Super Mario Bros. (1993)'), Row(title='Mallrats (1995)'), Row(title='Wedding Bell Blues (1996)'), Row(title='Big Sleep, The (1946)'), Row(title='Power 98 (1995)'), Row(title='American in Paris, An (1951)'), Row(title='Everyone Says I Love You (1996)'), Row(title='Last Time I Saw Paris, The (1954)'), Row(title='Every Other Weekend (1990)'), Row(title='Alaska (1996)'), Row(title='Keys to Tulsa (1997)'), Row(title='Solo (1996)'), Row(title='Purple Noon (1960)'), Row(title='Blob, The (1958)'), Row(title='Passion Fish (1992)'), Row(title='Star Trek: The Motion Picture (1979)'), Row(title='Paradise Lost: The Child Murders at Robin Hood Hills (1996)'), Row(title='Perez Family, The (1995)'), Row(title='Nikita (La Femme Nikita) (1990)'), Row(title='I Know What You Did Last Summer (1997)'), Row(title=\"Enfer, L' (1994)\"), Row(title='Orlando (1993)'), Row(title='Kiss of Death (1995)'), Row(title='Dazed and Confused (1993)'), Row(title='Naked (1993)'), Row(title='Victor/Victoria (1982)'), Row(title='Three Caballeros, The (1945)'), Row(title='Neon Bible, The (1995)'), Row(title='Flubber (1997)'), Row(title='Beyond Rangoon (1995)'), Row(title='Raw Deal (1948)'), Row(title='Here Comes Cookie (1935)'), Row(title='Contempt (Mépris, Le) (1963)'), Row(title='Rainmaker, The (1997)'), Row(title='Othello (1995)'), Row(title='Return of the Jedi (1983)'), Row(title='Girl 6 (1996)'), Row(title='Larger Than Life (1996)'), Row(title='Cyclo (1995)'), Row(title='Shadow Conspiracy (1997)'), Row(title='Saint, The (1997)'), Row(title=\"Blood For Dracula (Andy Warhol's Dracula) (1974)\"), Row(title='Once Upon a Time in America (1984)'), Row(title='Losing Chase (1996)'), Row(title='Spellbound (1945)'), Row(title='Grosse Pointe Blank (1997)'), Row(title='Secret Garden, The (1993)'), Row(title='Cape Fear (1962)'), Row(title='Sleepless in Seattle (1993)'), Row(title='Star Trek V: The Final Frontier (1989)'), Row(title='Village of the Damned (1995)'), Row(title='Nutty Professor, The (1996)'), Row(title='Arrival, The (1996)'), Row(title='Amityville: Dollhouse (1996)'), Row(title='Hunchback of Notre Dame, The (1996)'), Row(title='Oscar & Lucinda (1997)'), Row(title='Rendezvous in Paris (Rendez-vous de Paris, Les) (1995)'), Row(title='Men in Black (1997)'), Row(title='Body Parts (1991)'), Row(title=\"Nobody's Fool (1994)\"), Row(title='Mixed Nuts (1994)'), Row(title='Critical Care (1997)'), Row(title='Last Klezmer: Leopold Kozlowski, His Life and Music, The (1995)'), Row(title='Love Is All There Is (1996)'), Row(title='Brothers in Trouble (1995)'), Row(title='Race the Sun (1996)'), Row(title='From Dusk Till Dawn (1996)'), Row(title='Stand by Me (1986)'), Row(title='Fear (1996)'), Row(title='I Like It Like That (1994)'), Row(title='Paris Was a Woman (1995)'), Row(title='Audrey Rose (1977)'), Row(title='Flirt (1995)'), Row(title='Cry, the Beloved Country (1995)'), Row(title='Prophecy II, The (1998)'), Row(title='Dream With the Fishes (1997)'), Row(title='Adventures of Priscilla, Queen of the Desert, The (1994)'), Row(title='20,000 Leagues Under the Sea (1954)'), Row(title='Convent, The (Convento, O) (1995)'), Row(title='Nixon (1995)'), Row(title='My Man Godfrey (1936)'), Row(title='Stranger, The (1994)'), Row(title='Tokyo Fist (1995)'), Row(title='Little Big League (1994)'), Row(title='Phantoms (1998)'), Row(title='Yankee Zulu (1994)'), Row(title='While You Were Sleeping (1995)'), Row(title='Casablanca (1942)'), Row(title='Demolition Man (1993)'), Row(title='Washington Square (1997)'), Row(title='Nell (1994)'), Row(title='Farewell to Arms, A (1932)'), Row(title='Burnt Offerings (1976)'), Row(title='Dances with Wolves (1990)'), Row(title='Ready to Wear (Pret-A-Porter) (1994)'), Row(title='Black Beauty (1994)'), Row(title='Muppet Treasure Island (1996)'), Row(title='Last Time I Committed Suicide, The (1997)'), Row(title='Manon of the Spring (Manon des sources) (1986)'), Row(title='Bastard Out of Carolina (1996)'), Row(title='Platoon (1986)'), Row(title='Bob Roberts (1992)'), Row(title='Original Gangstas (1996)'), Row(title='Dracula: Dead and Loving It (1995)'), Row(title='Chairman of the Board (1998)'), Row(title='Somebody to Love (1994)'), Row(title='Bananas (1971)'), Row(title='Ace Ventura: Pet Detective (1994)'), Row(title='King of the Hill (1993)'), Row(title='Loch Ness (1995)'), Row(title='Grosse Fatigue (1994)'), Row(title=\"Things to Do in Denver when You're Dead (1995)\"), Row(title='Trees Lounge (1996)'), Row(title='Foreign Correspondent (1940)'), Row(title='Intimate Relations (1996)'), Row(title='Window to Paris (1994)'), Row(title='Burnt By the Sun (1994)'), Row(title='Some Folks Call It a Sling Blade (1993)'), Row(title='Free Willy (1993)'), Row(title='Police Story 4: Project S (Chao ji ji hua) (1993)'), Row(title='Sexual Life of the Belgians, The (1994)'), Row(title=\"Robert A. Heinlein's The Puppet Masters (1994)\"), Row(title=\"National Lampoon's Senior Trip (1995)\"), Row(title='Journey of August King, The (1995)'), Row(title='B*A*P*S (1997)'), Row(title='Die Hard 2 (1990)'), Row(title='Somewhere in Time (1980)'), Row(title='Nil By Mouth (1997)'), Row(title='Army of Darkness (1993)'), Row(title='Wings of the Dove, The (1997)'), Row(title='Die Hard (1988)'), Row(title='King of New York (1990)'), Row(title='Roommates (1995)'), Row(title='Desperate Measures (1998)'), Row(title='Jeffrey (1995)'), Row(title='Substance of Fire, The (1996)'), Row(title='True Romance (1993)'), Row(title='Jean de Florette (1986)'), Row(title='Johnny Mnemonic (1995)'), Row(title='Jane Eyre (1996)'), Row(title='Celestial Clockwork (1994)')]\n",
            "['Cosi (1996)', 'Psycho (1960)', 'Three Wishes (1995)', 'If Lucy Fell (1996)', 'When We Were Kings (1996)', 'Annie Hall (1977)', 'Fair Game (1995)', 'Heavenly Creatures (1994)', 'Paris, France (1993)', 'Snow White and the Seven Dwarfs (1937)', 'Night of the Living Dead (1968)', \"I'll Do Anything (1994)\", 'Spanking the Monkey (1994)', 'Mondo (1996)', 'Threesome (1994)', 'Blue Chips (1994)', 'Colonel Chabert, Le (1994)', 'Reality Bites (1994)', 'A Chef in Love (1996)', 'Last Action Hero (1993)', 'Nico Icon (1995)', 'Evil Dead II (1987)', 'Crows and Sparrows (1949)', 'Picture Bride (1995)', 'Rebecca (1940)', 'English Patient, The (1996)', 'Inventing the Abbotts (1997)', 'Jaws 3-D (1983)', \"Marvin's Room (1996)\", 'Home Alone 3 (1997)', 'Grifters, The (1990)', '101 Dalmatians (1996)', 'Sleeper (1973)', 'New Jersey Drive (1995)', 'Naked in New York (1994)', 'Above the Rim (1994)', 'Stuart Saves His Family (1995)', 'Savage Nights (Nuits fauves, Les) (1992)', \"City Slickers II: The Legend of Curly's Gold (1994)\", 'Die xue shuang xiong (Killer, The) (1989)', 'Diva (1981)', 'Mother Night (1996)', 'Ghost (1990)', 'Mr. Jones (1993)', 'Notorious (1946)', 'Target (1995)', 'In the Line of Fire (1993)', 'North by Northwest (1959)', 'Unstrung Heroes (1995)', 'Bridge on the River Kwai, The (1957)', 'Month by the Lake, A (1995)', 'Jumanji (1995)', 'Trial and Error (1997)', 'Quiet Room, The (1996)', 'Twelve Monkeys (1995)', 'To Live (Huozhe) (1994)', 'Curdled (1996)', 'Swan Princess, The (1994)', 'Flesh and Bone (1993)', 'Outbreak (1995)', 'Duck Soup (1933)', 'Awfully Big Adventure, An (1995)', 'Vie est belle, La (Life is Rosey) (1987)', 'Last of the Mohicans, The (1992)', \"C'est arrivé près de chez vous (1992)\", 'Wolf (1994)', 'Addiction, The (1995)', 'Quick and the Dead, The (1995)', 'Gone with the Wind (1939)', \"'Til There Was You (1997)\", 'James and the Giant Peach (1996)', 'Rock, The (1996)', 'Cool Runnings (1993)', 'Dangerous Minds (1995)', \"Ed's Next Move (1996)\", 'Candyman: Farewell to the Flesh (1995)', 'Meet John Doe (1941)', 'Abyss, The (1989)', 'Mr. Wonderful (1993)', 'Baby-Sitters Club, The (1995)', 'Guilty as Sin (1993)', 'Man in the Iron Mask, The (1998)', 'Grease (1978)', 'Crow: City of Angels, The (1996)', 'FairyTale: A True Story (1997)', 'Heavyweights (1994)', \"Stephen King's The Langoliers (1995)\", 'Airheads (1994)', 'Jude (1996)', 'Rudy (1993)', 'Highlander (1986)', 'Contact (1997)', 'Afterglow (1997)', 'Magnificent Seven, The (1954)', 'Deconstructing Harry (1997)', 'Tommy Boy (1995)', '2001: A Space Odyssey (1968)', 'Private Parts (1997)', 'S.F.W. (1994)', 'Female Perversions (1996)', 'Hearts and Minds (1996)', 'Bhaji on the Beach (1993)', 'Bad Taste (1987)', 'Fled (1996)', 'Beverly Hills Ninja (1997)', 'Hideaway (1995)', 'It Takes Two (1995)', 'Selena (1997)', 'Young Frankenstein (1974)', 'Father of the Bride Part II (1995)', 'Modern Affair, A (1995)', 'Nosferatu a Venezia (1986)', \"Monty Python's Life of Brian (1979)\", '39 Steps, The (1935)', 'Umbrellas of Cherbourg, The (Parapluies de Cherbourg, Les) (1964)', 'Speed (1994)', 'Get on the Bus (1996)', 'Client, The (1994)', 'Sweet Hereafter, The (1997)', 'Sudden Manhattan (1996)', 'Vertigo (1958)', \"Mr. Holland's Opus (1995)\", 'Feeling Minnesota (1996)', 'Even Cowgirls Get the Blues (1993)', 'Tin Drum, The (Blechtrommel, Die) (1979)', 'Gordy (1995)', 'Beauty and the Beast (1991)', 'Beautiful Thing (1996)', 'Deceiver (1997)', 'Ransom (1996)', 'Big Green, The (1995)', 'Little City (1998)', 'Murder at 1600 (1997)', 'It Happened One Night (1934)', 'Fear, The (1995)', 'Tomorrow Never Dies (1997)', 'Return of Martin Guerre, The (Retour de Martin Guerre, Le) (1982)', 'Love in the Afternoon (1957)', 'Go Fish (1994)', 'Next Step, The (1995)', 'Mina Tannenbaum (1994)', 'Good Man in Africa, A (1994)', \"Wes Craven's New Nightmare (1994)\", 'Mad Dog Time (1996)', 'Extreme Measures (1996)', 'Brazil (1985)', 'Forbidden Christ, The (Cristo proibito, Il) (1950)', 'Hotel de Love (1996)', 'Free Willy 3: The Rescue (1997)', 'Second Jungle Book: Mowgli & Baloo, The (1997)', \"Singin' in the Rain (1952)\", 'Leopard Son, The (1996)', 'Copycat (1995)', 'Striking Distance (1993)', 'I Love Trouble (1994)', 'Stonewall (1995)', '3 Ninjas: High Noon At Mega Mountain (1998)', 'Blues Brothers, The (1980)', 'Gang Related (1997)', 'Lashou shentan (1992)', 'Waiting to Exhale (1995)', 'Professional, The (1994)', 'Searching for Bobby Fischer (1993)', 'M. Butterfly (1993)', 'In the Army Now (1994)', 'Bridges of Madison County, The (1995)', 'Diabolique (1996)', 'Nosferatu (Nosferatu, eine Symphonie des Grauens) (1922)', 'Guantanamera (1994)', 'Candidate, The (1972)', 'Angel Baby (1995)', 'Barcelona (1994)', 'Mute Witness (1994)', 'Belle de jour (1967)', 'Alice in Wonderland (1951)', 'Trainspotting (1996)', 'Simple Wish, A (1997)', 'Hard Eight (1996)', 'Dragonheart (1996)', 'Down Periscope (1996)', \"Gilligan's Island: The Movie (1998)\", 'Cops and Robbersons (1994)', 'Bitter Sugar (Azucar Amargo) (1996)', 'Nightmare on Elm Street, A (1984)', 'Out to Sea (1997)', 'Citizen Kane (1941)', '8 Heads in a Duffel Bag (1997)', 'Breakdown (1997)', 'Aiqing wansui (1994)', 'Drop Dead Fred (1991)', 'Dangerous Ground (1997)', 'Young Guns II (1990)', 'Striptease (1996)', \"Antonia's Line (1995)\", 'Big Squeeze, The (1996)', 'Nick of Time (1995)', 'Walking Dead, The (1995)', 'Crumb (1994)', 'That Old Feeling (1997)', 'Amityville Curse, The (1990)', 'Mirror Has Two Faces, The (1996)', 'Double Happiness (1994)', 'Fools Rush In (1997)', 'Substitute, The (1996)', 'Net, The (1995)', 'Bad Company (1995)', 'Just Cause (1995)', 'Boomerang (1992)', 'Tigrero: A Film That Was Never Made (1994)', 'Marlene Dietrich: Shadow and Light (1996) ', 'Persuasion (1995)', 'Seventh Seal, The (Sjunde inseglet, Det) (1957)', 'Angus (1995)', 'Full Monty, The (1997)', 'Star Trek III: The Search for Spock (1984)', \"Roseanna's Grave (For Roseanna) (1997)\", 'Forrest Gump (1994)', 'Coldblooded (1995)', 'For Richer or Poorer (1997)', 'Pie in the Sky (1995)', 'Nelly & Monsieur Arnaud (1995)', 'Phantom, The (1996)', 'Adventures of Pinocchio, The (1996)', 'Hunted, The (1995)', 'Swiss Family Robinson (1960)', 'In the Bleak Midwinter (1995)', 'Money Train (1995)', 'Truman Show, The (1998)', 'Lassie (1994)', 'Marked for Death (1990)', 'Drop Zone (1994)', '8 Seconds (1994)', 'House Arrest (1996)', 'Love and Death on Long Island (1997)', 'Another Stakeout (1993)', 'Daens (1992)', 'Henry V (1989)', 'Sphere (1998)', 'Affair to Remember, An (1957)', 'Horseman on the Roof, The (Hussard sur le toit, Le) (1995)', 'Apostle, The (1997)', 'Seven Years in Tibet (1997)', 'Girl in the Cadillac (1995)', 'That Thing You Do! (1996)', 'Soul Food (1997)', 'Kundun (1997)', 'Gabbeh (1996)', 'American Dream (1990)', 'Bitter Moon (1992)', 'Manhattan Murder Mystery (1993)', \"It's My Party (1995)\", 'Empire Strikes Back, The (1980)', 'Showgirls (1995)', 'Daylight (1996)', 'Princess Bride, The (1987)', 'Two Much (1996)', 'Maverick (1994)', 'Basketball Diaries, The (1995)', \"What's Eating Gilbert Grape (1993)\", 'Prophecy, The (1995)', 'Cape Fear (1991)', \"Lover's Knot (1996)\", 'Mulholland Falls (1996)', 'Catwalk (1995)', 'Fog, The (1980)', 'Switchblade Sisters (1975)', 'Eighth Day, The (1996)', 'Man Without a Face, The (1993)', 'Object of My Affection, The (1998)', 'Desert Winds (1995)', 'Billy Madison (1995)', 'Pushing Hands (1992)', 'Better Off Dead... (1985)', 'The Innocent (1994)', 'Starship Troopers (1997)', 'Joy Luck Club, The (1993)', 'First Wives Club, The (1996)', 'Wyatt Earp (1994)', 'Lamerica (1994)', 'Crude Oasis, The (1995)', 'Scream 2 (1997)', 'Manny & Lo (1996)', 'Visitors, The (Visiteurs, Les) (1993)', 'Hour of the Pig, The (1993)', 'Herbie Rides Again (1974)', 'Jack (1996)', 'Turbulence (1997)', 'G.I. Jane (1997)', 'Wallace & Gromit: The Best of Aardman Animation (1996)', 'Happy Gilmore (1996)', 'Brady Bunch Movie, The (1995)', 'Street Fighter (1994)', 'All About Eve (1950)', 'Ridicule (1996)', 'Raise the Red Lantern (1991)', 'Restoration (1995)', 'Harold and Maude (1971)', 'unknown', 'Ruby in Paradise (1993)', 'Love! Valour! Compassion! (1997)', 'Tom & Viv (1994)', 'Anna (1996)', 'Thin Man, The (1934)', 'Chasing Amy (1997)', 'Fly Away Home (1996)', 'Priest (1994)', 'Hercules (1997)', 'E.T. the Extra-Terrestrial (1982)', 'My Own Private Idaho (1991)', 'Shadowlands (1993)', 'Anna Karenina (1997)', 'Innocent Sleep, The (1995)', \"I Don't Want to Talk About It (De eso no se habla) (1993)\", 'Evening Star, The (1996)', \"Wooden Man's Bride, The (Wu Kui) (1994)\", 'Free Willy 2: The Adventure Home (1995)', 'Shadow, The (1994)', 'Casino (1995)', 'Dangerous Beauty (1998)', 'Living in Oblivion (1995)', 'Time to Kill, A (1996)', 'Theodore Rex (1995)', 'Spy Hard (1996)', 'Natural Born Killers (1994)', 'Chamber, The (1996)', 'Return of the Pink Panther, The (1974)', 'War, The (1994)', 'Firm, The (1993)', 'Aristocats, The (1970)', 'Pinocchio (1940)', 'Batman & Robin (1997)', 'JLG/JLG - autoportrait de décembre (1994)', 'Twin Town (1997)', 'Portrait of a Lady, The (1996)', 'Eddie (1996)', 'Tales from the Hood (1995)', 'Thieves (Voleurs, Les) (1996)', 'Midnight Dancers (Sibak) (1994)', 'Party Girl (1995)', 'Fan, The (1996)', 'Show, The (1995)', 'Welcome to the Dollhouse (1995)', \"Someone Else's America (1995)\", 'Heavy (1995)', 'Fierce Creatures (1997)', 'In the Mouth of Madness (1995)', 'Safe (1995)', 'Endless Summer 2, The (1994)', 'Kids (1995)', 'Sword in the Stone, The (1963)', 'Walk in the Clouds, A (1995)', 'Higher Learning (1995)', 'Suture (1993)', 'Stargate (1994)', 'Great Expectations (1998)', 'Farinelli: il castrato (1994)', 'Sense and Sensibility (1995)', 'True Lies (1994)', 'Bullets Over Broadway (1994)', \"Brother's Kiss, A (1997)\", 'Streetcar Named Desire, A (1951)', 'Exit to Eden (1994)', 'Saint of Fort Washington, The (1993)', 'Goofy Movie, A (1995)', 'Juror, The (1996)', 'Cat on a Hot Tin Roof (1958)', 'Apollo 13 (1995)', 'Sling Blade (1996)', 'Tough and Deadly (1995)', 'Swept from the Sea (1997)', \"Amityville 1992: It's About Time (1992)\", 'Glengarry Glen Ross (1992)', 'Backbeat (1993)', 'Blood Beach (1981)', 'Gate of Heavenly Peace, The (1995)', 'GoldenEye (1995)', 'Faster Pussycat! Kill! Kill! (1965)', 'Hurricane Streets (1998)', \"Pharaoh's Army (1995)\", 'Country Life (1994)', 'Bewegte Mann, Der (1994)', 'Bedknobs and Broomsticks (1971)', 'Losing Isaiah (1995)', 'Shallow Grave (1994)', 'Gandhi (1982)', 'Big Lebowski, The (1998)', 'Stalingrad (1993)', 'Á köldum klaka (Cold Fever) (1994)', 'Day the Earth Stood Still, The (1951)', 'Surviving the Game (1994)', 'Mask, The (1994)', 'Run of the Country, The (1995)', 'Private Benjamin (1980)', 'Beavis and Butt-head Do America (1996)', 'Bean (1997)', 'Death in the Garden (Mort en ce jardin, La) (1956)', 'Lawnmower Man, The (1992)', 'Usual Suspects, The (1995)', 'Truth About Cats & Dogs, The (1996)', 'For Ever Mozart (1996)', 'Romper Stomper (1992)', 'Old Man and the Sea, The (1958)', 'Captives (1994)', 'Boot, Das (1981)', 'Sirens (1994)', 'Clockers (1995)', 'Great Escape, The (1963)', 'Robin Hood: Prince of Thieves (1991)', 'Pompatus of Love, The (1996)', 'Anne Frank Remembered (1995)', 'Lost in Space (1998)', 'City of Industry (1997)', 'Murder, My Sweet (1944)', 'Queen Margot (Reine Margot, La) (1994)', 'Batman Forever (1995)', 'Grateful Dead (1995)', '8 1/2 (1963)', 'Brassed Off (1996)', 'Steel (1997)', \"Devil's Own, The (1997)\", 'Garden of Finzi-Contini, The (Giardino dei Finzi-Contini, Il) (1970)', 'Houseguest (1994)', 'Witness (1985)', 'Mrs. Doubtfire (1993)', 'Time Tracers (1995)', 'Big Bang Theory, The (1994)', 'Hoop Dreams (1994)', 'Shawshank Redemption, The (1994)', 'Englishman Who Went Up a Hill, But Came Down a Mountain, The (1995)', 'For Love or Money (1993)', 'Supercop (1992)', 'Picnic (1955)', 'Little Princess, The (1939)', 'Lay of the Land, The (1997)', 'Grease 2 (1982)', 'Celluloid Closet, The (1995)', 'I.Q. (1994)', 'Amityville 3-D (1983)', 'Four Weddings and a Funeral (1994)', 'Ladybird Ladybird (1994)', 'Meet Wally Sparks (1997)', 'Pallbearer, The (1996)', 'Year of the Horse (1997)', 'Scarlet Letter, The (1995)', 'Albino Alligator (1996)', 'Grass Harp, The (1995)', 'Operation Dumbo Drop (1995)', 'Kika (1993)', 'Home for the Holidays (1995)', 'Beautician and the Beast, The (1997)', 'Jury Duty (1995)', 'Underworld (1997)', 'Roman Holiday (1953)', 'Vermont Is For Lovers (1992)', 'Star Trek: First Contact (1996)', 'Rear Window (1954)', 'Two Bits (1995)', 'In the Company of Men (1997)', 'Hellraiser: Bloodline (1996)', 'Kissed (1996)', 'Edge, The (1997)', 'East of Eden (1955)', 'Rent-a-Kid (1995)', 'One Night Stand (1997)', 'Homeward Bound II: Lost in San Francisco (1996)', 'Malice (1993)', 'Star Trek IV: The Voyage Home (1986)', 'Jackie Brown (1997)', 'Damsel in Distress, A (1937)', 'Mr. Smith Goes to Washington (1939)', 'Charade (1963)', 'My Favorite Year (1982)', 'Fluke (1995)', 'Before the Rain (Pred dozhdot) (1994)', 'Mercury Rising (1998)', 'Carmen Miranda: Bananas Is My Business (1994)', 'Akira (1988)', 'Blown Away (1994)', 'Friday (1995)', 'Land and Freedom (Tierra y libertad) (1995)', 'Breaking the Waves (1996)', 'Head Above Water (1996)', 'Mars Attacks! (1996)', 'Thin Blue Line, The (1988)', 'Arsenic and Old Lace (1944)', 'Star Kid (1997)', 'Pagemaster, The (1994)', 'Further Gesture, A (1996)', 'Lion King, The (1994)', '2 Days in the Valley (1996)', 'Meet Me in St. Louis (1944)', 'Trial by Jury (1994)', 'Color of Night (1994)', 'Letter From Death Row, A (1998)', 'Boys of St. Vincent, The (1993)', 'Rough Magic (1995)', 'Century (1993)', 'Great White Hype, The (1996)', 'Nénette et Boni (1996)', 'Little Rascals, The (1994)', 'Top Hat (1935)', 'Great Race, The (1965)', 'Sgt. Bilko (1996)', 'Back to the Future (1985)', 'Swingers (1996)', 'Careful (1992)', 'Third Man, The (1949)', 'Coneheads (1993)', 'Escape from New York (1981)', 'Wag the Dog (1997)', 'Strange Days (1995)', 'So I Married an Axe Murderer (1993)', 'Brother Minister: The Assassination of Malcolm X (1994)', \"April Fool's Day (1986)\", 'Shadow of Angels (Schatten der Engel) (1976)', 'GoodFellas (1990)', 'Patton (1970)', 'Thin Line Between Love and Hate, A (1996)', 'To Catch a Thief (1955)', 'Sex, Lies, and Videotape (1989)', \"Weekend at Bernie's (1989)\", 'Newton Boys, The (1998)', 'Primary Colors (1998)', 'Silence of the Palace, The (Saimt el Qusur) (1994)', 'Red Corner (1997)', 'Omen, The (1976)', 'Niagara, Niagara (1997)', 'Firestorm (1998)', 'Phat Beach (1996)', 'Long Kiss Goodnight, The (1996)', \"Wend Kuuni (God's Gift) (1982)\", 'Only You (1994)', 'Caught (1996)', 'Half Baked (1998)', 'U.S. Marshalls (1998)', 'Dr. Strangelove or: How I Learned to Stop Worrying and Love the Bomb (1963)', 'Dead Presidents (1995)', 'Real Genius (1985)', \"Bram Stoker's Dracula (1992)\", 'Far From Home: The Adventures of Yellow Dog (1995)', 'Madame Butterfly (1995)', \"Miller's Crossing (1990)\", 'Tank Girl (1995)', 'When a Man Loves a Woman (1994)', 'Cook the Thief His Wife & Her Lover, The (1989)', 'Unforgiven (1992)', 'Winter Guest, The (1997)', 'Mad Love (1995)', 'Secret of Roan Inish, The (1994)', 'Dirty Dancing (1987)', 'Virtuosity (1995)', 'Mighty Aphrodite (1995)', 'City of Lost Children, The (1995)', 'First Knight (1995)', 'Robin Hood: Men in Tights (1993)', 'Reservoir Dogs (1992)', 'Mary Reilly (1996)', 'Bushwhacked (1995)', 'Postman, The (1997)', 'American Werewolf in London, An (1981)', 'Brothers McMullen, The (1995)', 'Buddy (1997)', \"Gridlock'd (1997)\", 'Basquiat (1996)', 'Life Less Ordinary, A (1997)', 'Graduate, The (1967)', 'Schizopolis (1996)', 'My Left Foot (1989)', 'Cinderella (1950)', 'Magic Hour, The (1998)', 'Tales from the Crypt Presents: Bordello of Blood (1996)', 'House Party 3 (1994)', 'Promesse, La (1996)', 'Perfect World, A (1993)', 'Crash (1996)', 'Amadeus (1984)', 'Dumb & Dumber (1994)', 'Dadetown (1995)', 'Love and Other Catastrophes (1996)', 'Cinema Paradiso (1988)', 'Gattaca (1997)', 'I Shot Andy Warhol (1996)', 'Emma (1996)', 'Excess Baggage (1997)', 'Johnny 100 Pesos (1993)', 'Radioland Murders (1994)', 'Phenomenon (1996)', 'Spice World (1997)', 'Killing Zoe (1994)', 'Lone Star (1996)', 'Metisse (Café au Lait) (1993)', 'Night Falls on Manhattan (1997)', 'Alien (1979)', 'Four Days in September (1997)', 'Forget Paris (1995)', 'Indian in the Cupboard, The (1995)', 'Ace Ventura: When Nature Calls (1995)', 'River Wild, The (1994)', 'Death and the Maiden (1994)', 'Hackers (1995)', 'Loaded (1994)', 'Cement Garden, The (1993)', 'Clockwork Orange, A (1971)', 'Jingle All the Way (1996)', 'Alphaville (1965)', 'Mortal Kombat: Annihilation (1997)', 'Condition Red (1995)', 'L.A. Confidential (1997)', 'Air Force One (1997)', 'Chasers (1994)', 'Sunset Park (1996)', 'Fantasia (1940)', 'Outlaw, The (1943)', 'Man of No Importance, A (1994)', \"Widows' Peak (1994)\", 'Star Trek: The Wrath of Khan (1982)', 'Wonderful, Horrible Life of Leni Riefenstahl, The (1993)', 'Best Men (1997)', 'Shall We Dance? (1996)', 'Enchanted April (1991)', 'Ice Storm, The (1997)', 'Dead Man (1995)', 'Ben-Hur (1959)', 'Story of Xinghua, The (1993)', \"Jupiter's Wife (1994)\", 'Tombstone (1993)', 'Wild Reeds (1994)', 'Beans of Egypt, Maine, The (1994)', 'Terminator, The (1984)', 'Golden Earrings (1947)', 'Pather Panchali (1955)', 'Tainted (1998)', 'Ninotchka (1939)', 'Jerry Maguire (1996)', 'Die Hard: With a Vengeance (1995)', 'Desperado (1995)', 'In Love and War (1996)', 'Frighteners, The (1996)', 'Rebel Without a Cause (1955)', 'Ciao, Professore! (1993)', 'Associate, The (1996)', 'Wild Things (1998)', 'Shopping (1994)', 'Cat People (1982)', 'Shooting Fish (1997)', 'Sweet Nothing (1995)', 'Love Affair (1994)', 'Death in Brunswick (1991)', 'Short Cuts (1993)', 'Angels in the Outfield (1994)', 'Amistad (1997)', 'August (1996)', 'How to Be a Player (1997)', 'Days of Thunder (1990)', 'Body Snatcher, The (1945)', 'Normal Life (1996)', 'Foreign Student (1994)', 'SubUrbia (1997)', 'Carried Away (1996)', 'Simple Twist of Fate, A (1994)', 'Unforgettable (1996)', 'Grumpier Old Men (1995)', 'Terminator 2: Judgment Day (1991)', 'Hostile Intentions (1994)', 'Turbo: A Power Rangers Movie (1997)', 'Smile Like Yours, A (1997)', 'Richie Rich (1994)', 'Nothing to Lose (1994)', 'Apt Pupil (1998)', 'Turning, The (1992)', 'Leave It to Beaver (1997)', 'Bloodsport 2 (1995)', 'Fatal Instinct (1993)', 'Boys (1996)', 'Age of Innocence, The (1993)', 'Alien: Resurrection (1997)', 'Kaspar Hauser (1993)', 'Gay Divorcee, The (1934)', \"I Can't Sleep (J'ai pas sommeil) (1994)\", 'Leaving Las Vegas (1995)', 'Deer Hunter, The (1978)', 'Braindead (1992)', 'M*A*S*H (1970)', 'To Wong Foo, Thanks for Everything! Julie Newmar (1995)', 'Talking About Sex (1994)', 'Touch of Evil (1958)', 'Cowboy Way, The (1994)', 'Wizard of Oz, The (1939)', 'Home Alone (1990)', 'Don Juan DeMarco (1995)', 'Good Morning (1971)', 'Haunted World of Edward D. Wood Jr., The (1995)', 'Invitation, The (Zaproszenie) (1986)', 'Young Guns (1988)', 'Two Friends (1986) ', 'Frankie Starlight (1995)', 'His Girl Friday (1940)', 'Secret Agent, The (1996)', 'Bird of Prey (1996)', 'Mission: Impossible (1996)', 'Crossfire (1947)', 'Faces (1968)', 'City Hall (1996)', 'Interview with the Vampire (1994)', 'Stars Fell on Henrietta, The (1995)', 'Jefferson in Paris (1995)', 'Maltese Falcon, The (1941)', 'Cyrano de Bergerac (1990)', 'Reckless (1995)', 'Road to Wellville, The (1994)', 'Search for One-eye Jimmy, The (1996)', 'Bio-Dome (1996)', 'Barb Wire (1996)', '187 (1997)', 'Mrs. Brown (Her Majesty, Mrs. Brown) (1997)', 'Low Down Dirty Shame, A (1994)', 'Spawn (1997)', 'Cool Hand Luke (1967)', 'Squeeze (1996)', 'Conan the Barbarian (1981)', 'Indiana Jones and the Last Crusade (1989)', 'Total Eclipse (1995)', 'Kull the Conqueror (1997)', 'Reluctant Debutante, The (1958)', 'Craft, The (1996)', 'Babysitter, The (1995)', 'Blues Brothers 2000 (1998)', 'Robocop 3 (1993)', 'Mouse Hunt (1997)', 'Species (1995)', 'Babe (1995)', 'Nemesis 2: Nebula (1995)', 'Maximum Risk (1996)', 'Farewell My Concubine (1993)', 'Air Up There, The (1994)', 'Laura (1944)', 'Hard Rain (1998)', 'Tales From the Crypt Presents: Demon Knight (1995)', 'My Favorite Season (1993)', 'Anaconda (1997)', 'Bride of Frankenstein (1935)', 'Romeo Is Bleeding (1993)', 'Canadian Bacon (1994)', 'Candyman (1992)', 'Great Dictator, The (1940)', 'Tango Lesson, The (1997)', 'Truth or Consequences, N.M. (1997)', 'Bogus (1996)', 'Ghost and the Darkness, The (1996)', 'Ran (1985)', 'Palookaville (1996)', 'Postino, Il (1994)', 'No Escape (1994)', 'Relative Fear (1994)', 'Wonderland (1997)', 'Madonna: Truth or Dare (1991)', 'Broken English (1996)', 'Father of the Bride (1950)', 'Last Summer in the Hamptons (1995)', 'Davy Crockett, King of the Wild Frontier (1955)', 'Poetic Justice (1993)', \"Mat' i syn (1997)\", 'Temptress Moon (Feng Yue) (1996)', 'Sleepover (1995)', '1-900 (1994)', 'Penny Serenade (1941)', 'Waterworld (1995)', 'Around the World in 80 Days (1956)', 'Daytrippers, The (1996)', 'Hamlet (1996)', 'Prisoner of the Mountains (Kavkazsky Plennik) (1996)', 'Matilda (1996)', \"Jason's Lyric (1994)\", 'Shining, The (1980)', 'Mortal Kombat (1995)', 'Locusts, The (1997)', 'Liebelei (1933)', \"Margaret's Museum (1995)\", 'Man Who Would Be King, The (1975)', 'Ghost in the Shell (Kokaku kidotai) (1995)', 'Flintstones, The (1994)', 'Palmetto (1998)', 'Ballad of Narayama, The (Narayama Bushiko) (1958)', 'Red Firecracker, Green Firecracker (1994)', \"I'm Not Rappaport (1996)\", 'Clean Slate (1994)', 'Double vie de Véronique, La (Double Life of Veronique, The) (1991)', 'Forbidden Planet (1956)', 'Little Lord Fauntleroy (1936)', 'Scout, The (1994)', 'Godfather: Part II, The (1974)', 'Ref, The (1994)', 'Citizen Ruth (1996)', 'Nothing Personal (1995)', 'Warriors of Virtue (1997)', 'Judge Dredd (1995)', 'Tom and Huck (1995)', 'Monty Python and the Holy Grail (1974)', 'Fifth Element, The (1997)', 'Band Wagon, The (1953)', 'Ghost and Mrs. Muir, The (1947)', 'Gumby: The Movie (1995)', 'Thousand Acres, A (1997)', 'African Queen, The (1951)', 'Dark City (1998)', 'Maybe, Maybe Not (Bewegte Mann, Der) (1994)', 'Commandments (1997)', 'In the Realm of the Senses (Ai no corrida) (1976)', 'Cop Land (1997)', 'On Golden Pond (1981)', 'Mighty, The (1998)', 'Funeral, The (1996)', 'Rising Sun (1993)', \"Schindler's List (1993)\", 'Amityville: A New Generation (1993)', 'Transformers: The Movie, The (1986)', 'Spirits of the Dead (Tre passi nel delirio) (1968)', 'Raiders of the Lost Ark (1981)', 'Glimmer Man, The (1996)', 'Georgia (1995)', 'Destiny Turns on the Radio (1995)', 'Milk Money (1994)', 'Beverly Hillbillies, The (1993)', 'Gold Diggers: The Secret of Bear Mountain (1995)', 'Big Blue, The (Grand bleu, Le) (1988)', 'Getaway, The (1994)', 'Perfect Candidate, A (1996)', 'Raising Arizona (1987)', 'Aparajito (1956)', 'Good Will Hunting (1997)', 'Hard Target (1993)', 'Manhattan (1979)', 'Secrets & Lies (1996)', 'That Darn Cat! (1997)', 'Silence of the Lambs, The (1991)', 'Price Above Rubies, A (1998)', 'Miracle on 34th Street (1994)', 'Ill Gotten Gains (1997)', 'Red Rock West (1992)', 'Clerks (1994)', 'Men of Means (1998)', 'Exotica (1994)', 'Wishmaster (1997)', 'So Dear to My Heart (1949)', 'Welcome To Sarajevo (1997)', 'Drunks (1995)', 'What Happened Was... (1994)', \"Jackie Chan's First Strike (1996)\", 'Star Trek: Generations (1994)', 'Strawberry and Chocolate (Fresa y chocolate) (1993)', 'Flirting With Disaster (1996)', \"Joe's Apartment (1996)\", 'Two Deaths (1995)', 'Jimmy Hollywood (1994)', 'Cure, The (1995)', \"Star Maker, The (Uomo delle stelle, L') (1995)\", 'Misérables, Les (1995)', 'Nowhere (1997)', 'Johns (1996)', 'My Crazy Life (Mi vida loca) (1993)', 'French Kiss (1995)', 'Sleepers (1996)', 'Apocalypse Now (1979)', 'Assassins (1995)', 'Kalifornia (1993)', 'Ghosts of Mississippi (1996)', 'Groundhog Day (1993)', 'Angel and the Badman (1947)', 'Broken Arrow (1996)', 'Boys in Venice (1996)', 'Benny & Joon (1993)', 'Other Voices, Other Rooms (1997)', 'Great Day in Harlem, A (1994)', 'Ripe (1996)', \"One Flew Over the Cuckoo's Nest (1975)\", 'Remains of the Day, The (1993)', 'Faust (1994)', 'Clean Slate (Coup de Torchon) (1981)', 'Some Like It Hot (1959)', 'Killing Fields, The (1984)', 'War at Home, The (1996)', 'Blade Runner (1982)', 'NeverEnding Story III, The (1994)', 'You So Crazy (1994)', 'Screamers (1995)', 'All Over Me (1997)', \"Microcosmos: Le peuple de l'herbe (1996)\", 'Hedd Wyn (1992)', 'Harriet the Spy (1996)', 'Lost Highway (1997)', 'Homage (1995)', 'Favor, The (1994)', 'Leading Man, The (1996)', 'Kingpin (1996)', 'Son in Law (1993)', 'Swimming with Sharks (1995)', 'When the Cats Away (Chacun cherche son chat) (1996)', 'Now and Then (1995)', 'Promise, The (Versprechen, Das) (1994)', 'Horse Whisperer, The (1998)', 'Touki Bouki (Journey of the Hyena) (1973)', 'Six Degrees of Separation (1993)', 'Butcher Boy, The (1998)', 'Withnail and I (1987)', 'Beautiful Girls (1996)', 'Naked Gun 33 1/3: The Final Insult (1994)', 'Winnie the Pooh and the Blustery Day (1968)', 'Foxfire (1996)', 'Bad Moon (1996)', 'Venice/Venice (1992)', 'Hot Shots! Part Deux (1993)', 'Michael (1996)', 'Little Odessa (1994)', 'MatchMaker, The (1997)', 'Fall (1997)', 'Big Bully (1996)', 'Shadows (Cienie) (1988)', 'Lightning Jack (1994)', 'Mrs. Winterbourne (1996)', 'Sneakers (1992)', 'Richard III (1995)', \"Dante's Peak (1997)\", 'Carrington (1995)', 'One Fine Day (1996)', 'Alien 3 (1992)', 'Casper (1995)', 'Boogie Nights (1997)', 'Heidi Fleiss: Hollywood Madam (1995) ', 'Three Colors: Red (1994)', 'Fargo (1996)', 'People vs. Larry Flynt, The (1996)', 'Down by Law (1986)', 'Of Love and Shadows (1994)', \"Sophie's Choice (1982)\", 'Deep Rising (1998)', 'Delta of Venus (1994)', 'Hoodlum (1997)', 'Dead Man Walking (1995)', 'Kim (1950)', 'Air Bud (1997)', 'Liar Liar (1997)', 'Celtic Pride (1996)', 'Sabrina (1995)', 'Conspiracy Theory (1997)', 'Calendar Girl (1993)', 'Mary Poppins (1964)', 'Flipper (1996)', 'Legal Deceit (1997)', \"Smilla's Sense of Snow (1997)\", 'All Things Fair (1996)', 'Bliss (1997)', 'Twelfth Night (1996)', 'Ponette (1996)', \"William Shakespeare's Romeo and Juliet (1996)\", \"Mary Shelley's Frankenstein (1994)\", 'Corrina, Corrina (1994)', 'Ed Wood (1994)', 'Multiplicity (1996)', 'Scream of Stone (Schrei aus Stein) (1991)', 'Adventures of Robin Hood, The (1938)', 'Line King: Al Hirschfeld, The (1996)', 'Bonnie and Clyde (1967)', 'Taxi Driver (1976)', 'Dunston Checks In (1996)', 'Boxing Helena (1993)', 'Blue Sky (1994)', 'Wild Bunch, The (1969)', 'Incognito (1997)', 'Highlander III: The Sorcerer (1994)', 'Paris Is Burning (1990)', 'Aladdin (1992)', 'Grace of My Heart (1996)', 'Bad Boys (1995)', 'Innocents, The (1961)', 'Jack and Sarah (1995)', 'Girls Town (1996)', 'Picture Perfect (1997)', 'Relic, The (1997)', \"Carlito's Way (1993)\", 'New York Cop (1996)', 'Caro Diario (Dear Diary) (1994)', 'Paris, Texas (1984)', 'In the Name of the Father (1993)', 'War Room, The (1993)', 'Bottle Rocket (1996)', 'Murder in the First (1995)', 'Kiss the Girls (1997)', 'Up Close and Personal (1996)', 'Assignment, The (1997)', 'Sound of Music, The (1965)', 'Stag (1997)', 'Two if by Sea (1996)', 'Cold Comfort Farm (1995)', 'Children of the Corn: The Gathering (1996)', 'Sliver (1993)', 'Carpool (1996)', 'Love and a .45 (1994)', 'Game, The (1997)', 'Unhook the Stars (1996)', 'Everest (1998)', 'Star Wars (1977)', 'Cérémonie, La (1995)', 'High School High (1996)', 'Cemetery Man (Dellamorte Dellamore) (1994)', 'Pocahontas (1995)', 'Walk in the Sun, A (1945)', 'Mighty Morphin Power Rangers: The Movie (1995)', 'Kicking and Screaming (1995)', 'Being Human (1993)', 'Aliens (1986)', 'Batman (1989)', 'Three Colors: Blue (1993)', 'My Life as a Dog (Mitt liv som hund) (1985)', 'Miami Rhapsody (1995)', 'Boys on the Side (1995)', 'Fallen (1998)', 'Vampire in Brooklyn (1995)', 'Man of the Year (1995)', 'Across the Sea of Time (1995)', 'Shooter, The (1995)', 'Much Ado About Nothing (1993)', 'Man from Down Under, The (1943)', 'Peacemaker, The (1997)', 'Speechless (1994)', 'Thirty-Two Short Films About Glenn Gould (1993)', 'World of Apu, The (Apur Sansar) (1959)', 'Wedding Gift, The (1994)', \"Some Mother's Son (1996)\", 'Once Were Warriors (1994)', 'Hungarian Fairy Tale, A (1987)', 'Terminal Velocity (1994)', 'Bed of Roses (1996)', 'MURDER and murder (1996)', 'Mr. Magoo (1997)', 'Lord of Illusions (1995)', 'Double Team (1997)', 'Jungle2Jungle (1997)', 'Ayn Rand: A Sense of Life (1997)', 'Spanish Prisoner, The (1997)', 'Steal Big, Steal Little (1995)', 'Fearless (1993)', 'Something to Talk About (1995)', 'Tetsuo II: Body Hammer (1992)', 'Browning Version, The (1994)', 'Howling, The (1981)', 'Mostro, Il (1994)', 'Small Faces (1995)', 'Doom Generation, The (1995)', 'Beyond Bedlam (1993)', 'Addams Family Values (1993)', 'Rosewood (1997)', 'Dream Man (1995)', 'Terror in a Texas Town (1958)', 'Babyfever (1994)', 'Little Buddha (1993)', 'Full Speed (1996)', 'Gigi (1958)', 'Wild America (1997)', 'Quiet Man, The (1952)', 'Delicatessen (1991)', 'Pink Floyd - The Wall (1982)', 'Baton Rouge (1988)', 'Rocket Man (1997)', 'Live Nude Girls (1995)', 'Wings of Desire (1987)', 'Bloody Child, The (1996)', 'Disclosure (1994)', 'True Crime (1995)', 'Sliding Doors (1998)', 'Mediterraneo (1991)', 'Powder (1995)', 'Symphonie pastorale, La (1946)', 'Apartment, The (1960)', 'Stripes (1981)', 'Underground (1995)', 'Amityville Horror, The (1979)', 'Santa Clause, The (1994)', 'White Balloon, The (1995)', 'Eye for an Eye (1996)', 'Men With Guns (1997)', 'Lawrence of Arabia (1962)', 'Feast of July (1995)', 'Giant (1956)', 'Secret Adventures of Tom Thumb, The (1993)', 'Donnie Brasco (1997)', 'Volcano (1997)', \"What's Love Got to Do with It (1993)\", 'Entertaining Angels: The Dorothy Day Story (1996)', 'Of Human Bondage (1934)', 'Hunt for Red October, The (1990)', 'Philadelphia Story, The (1940)', \"Breakfast at Tiffany's (1961)\", 'Next Karate Kid, The (1994)', 'Dumbo (1941)', 'Amityville II: The Possession (1982)', 'Angels and Insects (1995)', 'Piano, The (1993)', 'Pest, The (1997)', 'Grand Day Out, A (1992)', 'Smoke (1995)', 'When Night Is Falling (1995)', 'Get Shorty (1995)', 'Until the End of the World (Bis ans Ende der Welt) (1991)', 'Blood & Wine (1997)', 'Christmas Carol, A (1938)', 'Money Talks (1997)', 'Night Flier (1997)', 'Quest, The (1996)', 'Cronos (1992)', 'Nightmare Before Christmas, The (1993)', 'Cable Guy, The (1996)', 'Halloween: The Curse of Michael Myers (1995)', 'Panther (1995)', 'Falling in Love Again (1980)', 'Land Before Time III: The Time of the Great Giving (1995) (V)', 'Funny Face (1957)', 'Barbarella (1968)', 'Duoluo tianshi (1995)', 'Crossing Guard, The (1995)', 'To Gillian on Her 37th Birthday (1996)', 'Fast, Cheap & Out of Control (1997)', 'Kansas City (1996)', 'That Darn Cat! (1965)', 'Inkwell, The (1994)', 'Fire on the Mountain (1996)', 'Fresh (1994)', 'Mark of Zorro, The (1940)', 'Dingo (1992)', 'Crooklyn (1994)', \"Heaven's Prisoners (1996)\", 'Wedding Singer, The (1998)', 'Seven (Se7en) (1995)', 'Geronimo: An American Legend (1993)', 'Bringing Up Baby (1938)', 'Paradise Road (1997)', 'Chain Reaction (1996)', 'Quartier Mozart (1992)', 'Mystery Science Theater 3000: The Movie (1996)', 'Courage Under Fire (1996)', \"She's So Lovely (1997)\", 'For Whom the Bell Tolls (1943)', 'Kiss Me, Guido (1997)', 'Renaissance Man (1994)', \"Kid in King Arthur's Court, A (1995)\", 'Star Trek VI: The Undiscovered Country (1991)', \"She's the One (1996)\", 'Shine (1996)', 'Dead Poets Society (1989)', 'I, Worst of All (Yo, la peor de todas) (1990)', 'Man Who Knew Too Little, The (1997)', 'Three Lives and Only One Death (1996)', 'Old Lady Who Walked in the Sea, The (Vieille qui marchait dans la mer, La) (1991)', 'Lost World: Jurassic Park, The (1997)', 'Infinity (1996)', 'My Family (1995)', 'Vanya on 42nd Street (1994)', 'Love Jones (1997)', 'Three Musketeers, The (1993)', 'Menace II Society (1993)', 'Absolute Power (1997)', 'Strictly Ballroom (1992)', 'Low Life, The (1994)', 'Kolya (1996)', 'Escape to Witch Mountain (1975)', 'This Is Spinal Tap (1984)', 'To Die For (1995)', 'Hollow Reed (1996)', 'Judgment Night (1993)', 'Love & Human Remains (1993)', 'Big One, The (1997)', 'North (1994)', 'Getting Even with Dad (1994)', 'Circle of Friends (1995)', 'Paper, The (1994)', 'Raging Bull (1980)', 'Freeway (1996)', 'Believers, The (1987)', 'Touch (1997)', 'Sprung (1997)', \"McHale's Navy (1997)\", 'Mimic (1997)', 'Oliver & Company (1988)', \"Preacher's Wife, The (1996)\", 'Bulletproof (1996)', 'City of Angels (1998)', 'Mother (1996)', 'Butterfly Kiss (1995)', 'White Squall (1996)', 'Jackal, The (1997)', 'Harlem (1993)', 'Legends of the Fall (1994)', 'Tin Men (1987)', 'Major Payne (1994)', 'Eraser (1996)', 'Doors, The (1991)', 'Parent Trap, The (1961)', 'To Have, or Not (1995)', 'Night on Earth (1991)', 'Congo (1995)', 'Primal Fear (1996)', \"Fathers' Day (1997)\", 'Star Maps (1997)', 'American President, The (1995)', 'Trigger Effect, The (1996)', 'Zeus and Roxanne (1997)', 'In the Line of Duty 2 (1987)', \"Devil's Advocate, The (1997)\", 'B. Monkey (1998)', 'With Honors (1994)', 'First Kid (1996)', 'Lawnmower Man 2: Beyond Cyberspace (1996)', 'Wild Bill (1995)', 'Wife, The (1995)', 'To Kill a Mockingbird (1962)', 'Princess Caraboo (1994)', 'Executive Decision (1996)', 'Before Sunrise (1995)', 'American Strays (1996)', 'Up in Smoke (1978)', 'Designated Mourner, The (1997)', 'Wings of Courage (1995)', 'Quiz Show (1994)', 'Fish Called Wanda, A (1988)', 'Blue Angel, The (Blaue Engel, Der) (1930)', 'Program, The (1993)', 'Very Brady Sequel, A (1996)', 'To Cross the Rubicon (1991)', 'Germinal (1993)', 'Mille bolle blu (1993)', 'Glass Shield, The (1994)', 'Shiloh (1997)', 'Mirage (1995)', 'Slingshot, The (1993)', 'U Turn (1997)', 'House of Yes, The (1997)', 'Maya Lin: A Strong Clear Vision (1994)', 'Made in America (1993)', 'Mad City (1997)', 'Apple Dumpling Gang, The (1975)', 'Hush (1998)', 'Heat (1995)', 'Angel on My Shoulder (1946)', 'Aladdin and the King of Thieves (1996)', 'House of the Spirits, The (1993)', 'Batman Returns (1992)', 'Amazing Panda Adventure, The (1995)', \"Gone Fishin' (1997)\", 'Sixth Man, The (1997)', 'Jerky Boys, The (1994)', 'Independence Day (ID4) (1996)', 'Switchback (1997)', 'Willy Wonka and the Chocolate Factory (1971)', 'Rosencrantz and Guildenstern Are Dead (1990)', 'Stealing Beauty (1996)', 'Crimson Tide (1995)', 'Looking for Richard (1996)', 'Basic Instinct (1992)', 'Angela (1995)', 'High Noon (1952)', 'Good, The Bad and The Ugly, The (1966)', 'Denise Calls Up (1995)', 'Toy Story (1995)', 'Once Upon a Time... When We Were Colored (1995)', 'Poison Ivy II (1995)', 'Midnight in the Garden of Good and Evil (1997)', 'Cutthroat Island (1995)', 'Full Metal Jacket (1987)', 'Surviving Picasso (1996)', 'Rhyme & Reason (1997)', 'Kicked in the Head (1997)', 'Homeward Bound: The Incredible Journey (1993)', 'Metro (1997)', 'Unbearable Lightness of Being, The (1988)', \"Cats Don't Dance (1997)\", 'Ma vie en rose (My Life in Pink) (1997)', 'Farmer & Chase (1995)', 'Boys, Les (1997)', 'Cliffhanger (1993)', 'Sunchaser, The (1996)', 'Pollyanna (1960)', 'Fausto (1993)', 'Open Season (1996)', 'Twilight (1998)', 'Bye Bye, Love (1995)', 'Life with Mikey (1993)', 'Hudsucker Proxy, The (1994)', 'Godfather, The (1972)', 'Woman in Question, The (1950)', 'Frisk (1995)', 'Blue in the Face (1995)', 'Dear God (1996)', 'Mr. Wrong (1996)', 'Lotto Land (1995)', 'Eat Drink Man Woman (1994)', 'Day the Sun Turned Cold, The (Tianguo niezi) (1994)', 'Under Siege 2: Dark Territory (1995)', 'Very Natural Thing, A (1974)', 'Career Girls (1997)', 'Immortal Beloved (1994)', 'Crucible, The (1996)', 'Moll Flanders (1996)', 'Ed (1996)', 'Waiting for Guffman (1996)', 'Birdcage, The (1996)', 'Heathers (1989)', 'Tie Me Up! Tie Me Down! (1990)', 'Titanic (1997)', 'Etz Hadomim Tafus (Under the Domin Tree) (1994)', 'Clueless (1995)', 'George of the Jungle (1997)', 'Whole Wide World, The (1996)', \"Rich Man's Wife, The (1996)\", 'Amateur (1994)', \"White Man's Burden (1995)\", 'Philadelphia (1993)', 'Safe Passage (1994)', 'Manchurian Candidate, The (1962)', 'Little Princess, A (1995)', 'Unzipped (1995)', 'Stefano Quantestorie (1993)', 'Dave (1993)', 'Jungle Book, The (1994)', \"Eye of Vichy, The (Oeil de Vichy, L') (1993)\", 'Children of the Revolution (1996)', 'Face/Off (1997)', 'Underneath, The (1995)', 'Michael Collins (1996)', 'Bread and Chocolate (Pane e cioccolata) (1973)', 'Three Colors: White (1994)', 'Kama Sutra: A Tale of Love (1996)', 'Serial Mom (1994)', 'Con Air (1997)', 'They Made Me a Criminal (1939)', 'Killer (Bulletproof Heart) (1994)', 'Paths of Glory (1957)', 'Island of Dr. Moreau, The (1996)', 'Bent (1997)', 'Gaslight (1944)', 'Vermin (1998)', 'Andre (1994)', 'Austin Powers: International Man of Mystery (1997)', 'Nine Months (1995)', 'Kids in the Hall: Brain Candy (1996)', 'Moonlight and Valentino (1995)', 'Pillow Book, The (1995)', 'Being There (1979)', \"My Life and Times With Antonin Artaud (En compagnie d'Antonin Artaud) (1993)\", 'Late Bloomers (1996)', 'Little Women (1994)', 'Booty Call (1997)', 'Top Gun (1986)', 'Sting, The (1973)', \"Boy's Life 2 (1997)\", 'Pulp Fiction (1994)', 'Traveller (1997)', 'Chungking Express (1994)', 'Walking and Talking (1996)', 'Heaven & Earth (1993)', 'Nightwatch (1997)', 'In & Out (1997)', 'Man of the House (1995)', 'He Walked by Night (1948)', 'Crow, The (1994)', 'Fugitive, The (1993)', 'Santa with Muscles (1996)', 'Braveheart (1995)', 'Fried Green Tomatoes (1991)', 'Bad Girls (1994)', 'When Harry Met Sally... (1989)', 'Fear of a Black Hat (1993)', 'Collectionneuse, La (1967)', \"Romy and Michele's High School Reunion (1997)\", 'Van, The (1996)', \"Daniel Defoe's Robinson Crusoe (1996)\", 'Clear and Present Danger (1994)', 'D3: The Mighty Ducks (1996)', 'Right Stuff, The (1983)', \"Ulee's Gold (1997)\", 'Like Water For Chocolate (Como agua para chocolate) (1992)', 'Addicted to Love (1997)', 'Flower of My Secret, The (Flor de mi secreto, La) (1995)', 'Playing God (1997)', 'Shanghai Triad (Yao a yao yao dao waipo qiao) (1995)', 'Best of the Best 3: No Turning Back (1995)', \"Pyromaniac's Love Story, A (1995)\", 'Field of Dreams (1989)', 'Spitfire Grill, The (1996)', 'Koyaanisqatsi (1983)', 'Beat the Devil (1954)', 'Women, The (1939)', 'French Twist (Gazon maudit) (1995)', 'Shall We Dance? (1937)', 'Bronx Tale, A (1993)', 'Last Supper, The (1995)', 'Beverly Hills Cop III (1994)', 'Under Siege (1992)', 'Bonheur, Le (1965)', 'Evita (1996)', 'Body Snatchers (1993)', 'How to Make an American Quilt (1995)', 'Hugo Pool (1997)', 'Killer: A Journal of Murder (1995)', 'Timecop (1994)', 'Crying Game, The (1992)', 'Love Bug, The (1969)', 'Jaws 2 (1978)', 'Senseless (1998)', 'Office Killer (1997)', 'Pump Up the Volume (1990)', 'Fox and the Hound, The (1981)', 'Rumble in the Bronx (1995)', 'Twisted (1996)', 'Cobb (1994)', \"My Best Friend's Wedding (1997)\", 'Indian Summer (1996)', 'Thinner (1996)', 'Birds, The (1963)', 'Hana-bi (1997)', 'Kazaam (1996)', 'Tin Cup (1996)', 'Mamma Roma (1962)', 'Nobody Loves Me (Keiner liebt mich) (1994)', 'Devil in a Blue Dress (1995)', 'Sudden Death (1995)', 'Wrong Trousers, The (1993)', 'As Good As It Gets (1997)', 'Anastasia (1997)', 'Pretty Woman (1990)', 'My Fair Lady (1964)', 'Balto (1995)', 'Trust (1990)', 'Space Jam (1996)', 'To Be or Not to Be (1942)', 'Hear My Song (1991)', 'Escape from L.A. (1996)', 'Faithful (1996)', 'Jurassic Park (1993)', 'All Dogs Go to Heaven 2 (1996)', 'Salut cousin! (1996)', 'Butch Cassidy and the Sundance Kid (1969)', 'For the Moment (1994)', 'Shaggy Dog, The (1959)', \"Young Poisoner's Handbook, The (1995)\", 'It Could Happen to You (1994)', 'Close Shave, A (1995)', 'Room with a View, A (1986)', 'Twister (1996)', 'Two or Three Things I Know About Her (1966)', 'Fire Down Below (1997)', 'Once Upon a Time in the West (1969)', 'The Courtyard (1995)', 'Sunset Blvd. (1950)', 'Lost Horizon (1937)', 'Black Sheep (1996)', 'Local Hero (1983)', 'Madness of King George, The (1994)', \"Eve's Bayou (1997)\", 'Four Rooms (1995)', 'American Buffalo (1996)', 'Lady of Burlesque (1943)', 'Tie That Binds, The (1995)', \"Pete's Dragon (1977)\", 'An Unforgettable Summer (1994)', 'M (1931)', 'Heavy Metal (1981)', 'Treasure of the Sierra Madre, The (1948)', 'Speed 2: Cruise Control (1997)', 'Mrs. Parker and the Vicious Circle (1994)', 'Sum of Us, The (1994)', 'Some Kind of Wonderful (1987)', 'Dial M for Murder (1954)', 'Jaws (1975)', 'Walkabout (1971)', 'Mrs. Dalloway (1997)', 'My Fellow Americans (1996)', 'Nadja (1994)', \"Don't Be a Menace to South Central While Drinking Your Juice in the Hood (1996)\", 'The Deadly Cure (1996)', 'New Age, The (1994)', 'Nina Takes a Lover (1994)', 'Scarlet Letter, The (1926)', 'Love Serenade (1996)', 'Specialist, The (1994)', 'Fille seule, La (A Single Girl) (1995)', 'Before and After (1996)', 'Set It Off (1996)', \"It's a Wonderful Life (1946)\", 'Boys Life (1995)', 'Family Thing, A (1996)', 'Amos & Andrew (1993)', 'Last Man Standing (1996)', 'Junior (1994)', 'Replacement Killers, The (1998)', 'Event Horizon (1997)', 'Dolores Claiborne (1994)', 'Vegas Vacation (1997)', 'Rob Roy (1995)', 'Stupids, The (1996)', 'Scream (1996)', 'Machine, The (1994)', 'Ruling Class, The (1972)', 'Hate (Haine, La) (1995)', 'Big Night (1996)', 'Telling Lies in America (1997)', 'Chinatown (1974)', 'Sabrina (1954)', 'Last Dance (1996)', \"Muriel's Wedding (1994)\", 'Bound (1996)', 'Inspector General, The (1949)', 'Jade (1995)', 'Stranger in the House (1997)', '12 Angry Men (1957)', 'Cabin Boy (1994)', 'Stalker (1979)', 'Glory (1989)', 'Getting Away With Murder (1996)', 'T-Men (1947)', 'Old Yeller (1957)', 'Castle Freak (1995)', 'Prefontaine (1997)', 'Carrie (1976)', 'Blink (1994)', 'Super Mario Bros. (1993)', 'Mallrats (1995)', 'Wedding Bell Blues (1996)', 'Big Sleep, The (1946)', 'Power 98 (1995)', 'American in Paris, An (1951)', 'Everyone Says I Love You (1996)', 'Last Time I Saw Paris, The (1954)', 'Every Other Weekend (1990)', 'Alaska (1996)', 'Keys to Tulsa (1997)', 'Solo (1996)', 'Purple Noon (1960)', 'Blob, The (1958)', 'Passion Fish (1992)', 'Star Trek: The Motion Picture (1979)', 'Paradise Lost: The Child Murders at Robin Hood Hills (1996)', 'Perez Family, The (1995)', 'Nikita (La Femme Nikita) (1990)', 'I Know What You Did Last Summer (1997)', \"Enfer, L' (1994)\", 'Orlando (1993)', 'Kiss of Death (1995)', 'Dazed and Confused (1993)', 'Naked (1993)', 'Victor/Victoria (1982)', 'Three Caballeros, The (1945)', 'Neon Bible, The (1995)', 'Flubber (1997)', 'Beyond Rangoon (1995)', 'Raw Deal (1948)', 'Here Comes Cookie (1935)', 'Contempt (Mépris, Le) (1963)', 'Rainmaker, The (1997)', 'Othello (1995)', 'Return of the Jedi (1983)', 'Girl 6 (1996)', 'Larger Than Life (1996)', 'Cyclo (1995)', 'Shadow Conspiracy (1997)', 'Saint, The (1997)', \"Blood For Dracula (Andy Warhol's Dracula) (1974)\", 'Once Upon a Time in America (1984)', 'Losing Chase (1996)', 'Spellbound (1945)', 'Grosse Pointe Blank (1997)', 'Secret Garden, The (1993)', 'Cape Fear (1962)', 'Sleepless in Seattle (1993)', 'Star Trek V: The Final Frontier (1989)', 'Village of the Damned (1995)', 'Nutty Professor, The (1996)', 'Arrival, The (1996)', 'Amityville: Dollhouse (1996)', 'Hunchback of Notre Dame, The (1996)', 'Oscar & Lucinda (1997)', 'Rendezvous in Paris (Rendez-vous de Paris, Les) (1995)', 'Men in Black (1997)', 'Body Parts (1991)', \"Nobody's Fool (1994)\", 'Mixed Nuts (1994)', 'Critical Care (1997)', 'Last Klezmer: Leopold Kozlowski, His Life and Music, The (1995)', 'Love Is All There Is (1996)', 'Brothers in Trouble (1995)', 'Race the Sun (1996)', 'From Dusk Till Dawn (1996)', 'Stand by Me (1986)', 'Fear (1996)', 'I Like It Like That (1994)', 'Paris Was a Woman (1995)', 'Audrey Rose (1977)', 'Flirt (1995)', 'Cry, the Beloved Country (1995)', 'Prophecy II, The (1998)', 'Dream With the Fishes (1997)', 'Adventures of Priscilla, Queen of the Desert, The (1994)', '20,000 Leagues Under the Sea (1954)', 'Convent, The (Convento, O) (1995)', 'Nixon (1995)', 'My Man Godfrey (1936)', 'Stranger, The (1994)', 'Tokyo Fist (1995)', 'Little Big League (1994)', 'Phantoms (1998)', 'Yankee Zulu (1994)', 'While You Were Sleeping (1995)', 'Casablanca (1942)', 'Demolition Man (1993)', 'Washington Square (1997)', 'Nell (1994)', 'Farewell to Arms, A (1932)', 'Burnt Offerings (1976)', 'Dances with Wolves (1990)', 'Ready to Wear (Pret-A-Porter) (1994)', 'Black Beauty (1994)', 'Muppet Treasure Island (1996)', 'Last Time I Committed Suicide, The (1997)', 'Manon of the Spring (Manon des sources) (1986)', 'Bastard Out of Carolina (1996)', 'Platoon (1986)', 'Bob Roberts (1992)', 'Original Gangstas (1996)', 'Dracula: Dead and Loving It (1995)', 'Chairman of the Board (1998)', 'Somebody to Love (1994)', 'Bananas (1971)', 'Ace Ventura: Pet Detective (1994)', 'King of the Hill (1993)', 'Loch Ness (1995)', 'Grosse Fatigue (1994)', \"Things to Do in Denver when You're Dead (1995)\", 'Trees Lounge (1996)', 'Foreign Correspondent (1940)', 'Intimate Relations (1996)', 'Window to Paris (1994)', 'Burnt By the Sun (1994)', 'Some Folks Call It a Sling Blade (1993)', 'Free Willy (1993)', 'Police Story 4: Project S (Chao ji ji hua) (1993)', 'Sexual Life of the Belgians, The (1994)', \"Robert A. Heinlein's The Puppet Masters (1994)\", \"National Lampoon's Senior Trip (1995)\", 'Journey of August King, The (1995)', 'B*A*P*S (1997)', 'Die Hard 2 (1990)', 'Somewhere in Time (1980)', 'Nil By Mouth (1997)', 'Army of Darkness (1993)', 'Wings of the Dove, The (1997)', 'Die Hard (1988)', 'King of New York (1990)', 'Roommates (1995)', 'Desperate Measures (1998)', 'Jeffrey (1995)', 'Substance of Fire, The (1996)', 'True Romance (1993)', 'Jean de Florette (1986)', 'Johnny Mnemonic (1995)', 'Jane Eyre (1996)', 'Celestial Clockwork (1994)']\n"
          ]
        }
      ]
    },
    {
      "cell_type": "markdown",
      "source": [
        "**Creating a List of Ratings**"
      ],
      "metadata": {
        "id": "nsbT6-TDDQU5"
      }
    },
    {
      "cell_type": "code",
      "source": [
        "ratings_list = ratings_df.select('rating').rdd.flatMap(lambda x: x).collect()\n",
        "print(len(ratings_list))"
      ],
      "metadata": {
        "colab": {
          "base_uri": "https://localhost:8080/"
        },
        "id": "VEW8yqOtpulM",
        "outputId": "9ebb4839-41c4-4303-ec33-36f3fdcd6d91"
      },
      "execution_count": null,
      "outputs": [
        {
          "output_type": "stream",
          "name": "stdout",
          "text": [
            "100000\n"
          ]
        }
      ]
    },
    {
      "cell_type": "markdown",
      "source": [
        "**Create mappings with indexes**"
      ],
      "metadata": {
        "id": "XRnLnjdjDZkF"
      }
    },
    {
      "cell_type": "code",
      "source": [
        "# Create mapping of User ID to index\n",
        "user_id_to_index = {user_id: index for index, user_id in enumerate(user_ids_list)}\n",
        "\n",
        "# Create mapping of User ID to index\n",
        "title_id_to_index = {title: index for index, title in enumerate(title_ids_list)}"
      ],
      "metadata": {
        "id": "TU1JgHf8mTuw"
      },
      "execution_count": null,
      "outputs": []
    },
    {
      "cell_type": "markdown",
      "source": [
        "**Creating the Sparse Matrix**"
      ],
      "metadata": {
        "id": "qckuUpGKDioP"
      }
    },
    {
      "cell_type": "code",
      "source": [
        "# Lists to hold row indices, column indices, and data (ratings)\n",
        "rows = []\n",
        "cols = []\n",
        "data = []\n",
        "\n",
        "# Assuming you have pairs of user_id, title, and rating\n",
        "# Iterate over the DataFrame to populate rows, cols, and data\n",
        "for row in ratings_df.collect():\n",
        "    user_id = row.user_id\n",
        "    title = row.title  # Assuming the column for movie title is named 'title'\n",
        "    rating = row.rating\n",
        "\n",
        "    # Get the row (user) and column (title) index\n",
        "    row_index = user_id_to_index[user_id]\n",
        "    col_index = title_id_to_index[title]\n",
        "\n",
        "    # Append the indices and data\n",
        "    rows.append(row_index)\n",
        "    cols.append(col_index)\n",
        "    data.append(rating)\n",
        "\n",
        "# Convert to a CSR matrix\n",
        "sparse_matrix = csr_matrix((data, (rows, cols)), shape=(unique_user_count, unique_title_count))\n",
        "\n",
        "# Now 'sparse_matrix' is in CSR format\n",
        "print(sparse_matrix)"
      ],
      "metadata": {
        "colab": {
          "base_uri": "https://localhost:8080/"
        },
        "id": "7SAM_lSfqUAp",
        "outputId": "cf0de743-ba29-4159-e0fa-6c2ddd458f15"
      },
      "execution_count": null,
      "outputs": [
        {
          "output_type": "stream",
          "name": "stdout",
          "text": [
            "  (0, 1)\t1\n",
            "  (0, 54)\t5\n",
            "  (0, 68)\t5\n",
            "  (0, 70)\t5\n",
            "  (0, 77)\t4\n",
            "  (0, 96)\t5\n",
            "  (0, 97)\t4\n",
            "  (0, 126)\t4\n",
            "  (0, 145)\t4\n",
            "  (0, 216)\t5\n",
            "  (0, 236)\t2\n",
            "  (0, 251)\t5\n",
            "  (0, 254)\t5\n",
            "  (0, 288)\t5\n",
            "  (0, 306)\t4\n",
            "  (0, 325)\t4\n",
            "  (0, 360)\t5\n",
            "  (0, 438)\t5\n",
            "  (0, 454)\t4\n",
            "  (0, 488)\t5\n",
            "  (0, 503)\t3\n",
            "  (0, 535)\t5\n",
            "  (0, 567)\t5\n",
            "  (0, 568)\t3\n",
            "  (0, 575)\t1\n",
            "  :\t:\n",
            "  (942, 582)\t4\n",
            "  (942, 608)\t5\n",
            "  (942, 633)\t1\n",
            "  (942, 652)\t3\n",
            "  (942, 699)\t4\n",
            "  (942, 940)\t1\n",
            "  (942, 943)\t3\n",
            "  (942, 957)\t2\n",
            "  (942, 963)\t5\n",
            "  (942, 976)\t3\n",
            "  (942, 997)\t3\n",
            "  (942, 1000)\t5\n",
            "  (942, 1091)\t3\n",
            "  (942, 1193)\t4\n",
            "  (942, 1261)\t3\n",
            "  (942, 1286)\t4\n",
            "  (942, 1303)\t2\n",
            "  (942, 1331)\t1\n",
            "  (942, 1419)\t2\n",
            "  (942, 1426)\t4\n",
            "  (942, 1453)\t5\n",
            "  (942, 1558)\t4\n",
            "  (942, 1563)\t4\n",
            "  (942, 1652)\t3\n",
            "  (942, 1662)\t4\n"
          ]
        }
      ]
    },
    {
      "cell_type": "code",
      "source": [
        "sparse_matrix.shape"
      ],
      "metadata": {
        "colab": {
          "base_uri": "https://localhost:8080/"
        },
        "id": "kzRDvEPYzxS5",
        "outputId": "69715c69-fb2f-4914-b3b3-964a42f728dd"
      },
      "execution_count": null,
      "outputs": [
        {
          "output_type": "execute_result",
          "data": {
            "text/plain": [
              "(943, 1664)"
            ]
          },
          "metadata": {},
          "execution_count": 29
        }
      ]
    },
    {
      "cell_type": "code",
      "source": [
        "print(type(sparse_matrix))"
      ],
      "metadata": {
        "colab": {
          "base_uri": "https://localhost:8080/"
        },
        "id": "Xo_k1FQpz-3A",
        "outputId": "42b81e2d-8172-4c10-d476-40142c93c04e"
      },
      "execution_count": null,
      "outputs": [
        {
          "output_type": "stream",
          "name": "stdout",
          "text": [
            "<class 'scipy.sparse._csr.csr_matrix'>\n"
          ]
        }
      ]
    },
    {
      "cell_type": "markdown",
      "source": [
        "**Creating User & Item Similarity Matrix**"
      ],
      "metadata": {
        "id": "-QiQ52OtDqbI"
      }
    },
    {
      "cell_type": "code",
      "source": [
        "# Calculate user similarity (similarity between users)\n",
        "user_similarity_matrix = cosine_similarity(sparse_matrix, dense_output=False)\n",
        "\n",
        "# Calculate item similarity (similarity between items)\n",
        "item_similarity_matrix = cosine_similarity(sparse_matrix.T, dense_output=False)"
      ],
      "metadata": {
        "id": "7eIJ1b5D2xSK"
      },
      "execution_count": null,
      "outputs": []
    },
    {
      "cell_type": "code",
      "source": [
        "# Now you have two sparse matrices: one for user similarity and one for item similarity\n",
        "print(\"User Similarity Matrix:\")\n",
        "print(user_similarity_matrix)\n",
        "\n",
        "print(\"Item Similarity Matrix:\")\n",
        "print(item_similarity_matrix)\n",
        "\n",
        "# Check types to confirm they are sparse matrices\n",
        "print(type(user_similarity_matrix))  # Should be a sparse matrix\n",
        "print(type(item_similarity_matrix))  #"
      ],
      "metadata": {
        "colab": {
          "base_uri": "https://localhost:8080/"
        },
        "collapsed": true,
        "id": "88jIiEtb3QzV",
        "outputId": "ff961408-9bdc-448b-d4f0-e473e2318e3d"
      },
      "execution_count": null,
      "outputs": [
        {
          "output_type": "stream",
          "name": "stdout",
          "text": [
            "User Similarity Matrix:\n",
            "  (0, 606)\t0.013537167363818485\n",
            "  (0, 399)\t0.024468681046207\n",
            "  (0, 250)\t0.02561258300815488\n",
            "  (0, 166)\t0.03021465199054143\n",
            "  (0, 812)\t0.025994540711622965\n",
            "  (0, 190)\t0.016027662685859267\n",
            "  (0, 422)\t0.003961942124003717\n",
            "  (0, 320)\t0.005805276782420941\n",
            "  (0, 11)\t0.027090115072118157\n",
            "  (0, 926)\t0.031208274635283514\n",
            "  (0, 847)\t0.025352309822338645\n",
            "  (0, 826)\t0.023448213826151306\n",
            "  (0, 776)\t0.029681791641080278\n",
            "  (0, 663)\t0.06882402356526499\n",
            "  (0, 570)\t0.02227505061206141\n",
            "  (0, 201)\t0.04243890461109989\n",
            "  (0, 161)\t0.017080842512411352\n",
            "  (0, 896)\t0.013794415702436216\n",
            "  (0, 785)\t0.02004736774793867\n",
            "  (0, 725)\t0.009592353720958518\n",
            "  (0, 513)\t0.0373766889972957\n",
            "  (0, 933)\t0.05279741247395289\n",
            "  (0, 843)\t0.044124827116409186\n",
            "  (0, 819)\t0.05798295088033915\n",
            "  (0, 793)\t0.10918418805480452\n",
            "  :\t:\n",
            "  (942, 253)\t0.10883807195902806\n",
            "  (942, 252)\t0.19726947583019458\n",
            "  (942, 243)\t0.19102176308130314\n",
            "  (942, 233)\t0.1370696537410805\n",
            "  (942, 231)\t0.16403319842315492\n",
            "  (942, 221)\t0.14686676666683285\n",
            "  (942, 199)\t0.1275010150619983\n",
            "  (942, 198)\t0.16721580126738123\n",
            "  (942, 194)\t0.12362783988552022\n",
            "  (942, 186)\t0.1622513994541569\n",
            "  (942, 176)\t0.12442032614103209\n",
            "  (942, 174)\t0.2130328537553549\n",
            "  (942, 140)\t0.19635429267797067\n",
            "  (942, 133)\t0.18506445324960322\n",
            "  (942, 119)\t0.16408798472528788\n",
            "  (942, 105)\t0.11008861142335723\n",
            "  (942, 99)\t0.14273425807496354\n",
            "  (942, 71)\t0.13355740067043786\n",
            "  (942, 64)\t0.19161809179989586\n",
            "  (942, 56)\t0.18497049665263995\n",
            "  (942, 54)\t0.23236450466610714\n",
            "  (942, 53)\t0.1363826560576515\n",
            "  (942, 31)\t0.15249082751975754\n",
            "  (942, 26)\t0.15200903484260062\n",
            "  (942, 25)\t0.18323756145058157\n",
            "Item Similarity Matrix:\n",
            "  (0, 1658)\t0.11009637651263607\n",
            "  (0, 1656)\t0.07172040798899514\n",
            "  (0, 1647)\t0.11134044285378082\n",
            "  (0, 1637)\t0.26111648393354675\n",
            "  (0, 1620)\t0.11134044285378082\n",
            "  (0, 1607)\t0.12159941776536691\n",
            "  (0, 1598)\t0.08362420100070907\n",
            "  (0, 1597)\t0.08447074377505626\n",
            "  (0, 1580)\t0.01649796675088921\n",
            "  (0, 1563)\t0.024992516382446914\n",
            "  (0, 1556)\t0.03309516961607476\n",
            "  (0, 1555)\t0.11366028456361238\n",
            "  (0, 1542)\t0.044946657497549475\n",
            "  (0, 1533)\t0.05951397006436156\n",
            "  (0, 1525)\t0.3692744729379982\n",
            "  (0, 1511)\t0.1077284357109812\n",
            "  (0, 1493)\t0.023045920575344523\n",
            "  (0, 1492)\t0.0677738993669886\n",
            "  (0, 1481)\t0.11396057645963795\n",
            "  (0, 1466)\t0.050135969291928754\n",
            "  (0, 1456)\t0.04861926932553432\n",
            "  (0, 1448)\t0.03477691162163663\n",
            "  (0, 1438)\t0.35032452487268534\n",
            "  (0, 1425)\t0.03267148182987683\n",
            "  (0, 1414)\t0.07136117961110575\n",
            "  :\t:\n",
            "  (1663, 179)\t0.02423930827818598\n",
            "  (1663, 175)\t0.07767236830957341\n",
            "  (1663, 174)\t0.08351476906593232\n",
            "  (1663, 171)\t0.2114427326655619\n",
            "  (1663, 161)\t0.06032969774067616\n",
            "  (1663, 145)\t0.06169549205041051\n",
            "  (1663, 126)\t0.050816445846751254\n",
            "  (1663, 112)\t0.0692045665447833\n",
            "  (1663, 108)\t0.04942416505721724\n",
            "  (1663, 99)\t0.28097574347450816\n",
            "  (1663, 91)\t0.04783648732349398\n",
            "  (1663, 71)\t0.03807624787725668\n",
            "  (1663, 70)\t0.05756471673400022\n",
            "  (1663, 65)\t0.09053574604251853\n",
            "  (1663, 59)\t0.04146915065103179\n",
            "  (1663, 56)\t0.25354627641855493\n",
            "  (1663, 54)\t0.07282966738118221\n",
            "  (1663, 36)\t0.07372097807744857\n",
            "  (1663, 31)\t0.04370605993752645\n",
            "  (1663, 28)\t0.17309692896316617\n",
            "  (1663, 17)\t0.0512989176042577\n",
            "  (1663, 14)\t0.12632278815997783\n",
            "  (1663, 9)\t0.05652334189442214\n",
            "  (1663, 5)\t0.05202268683827086\n",
            "  (1663, 1)\t0.05443794453866777\n",
            "<class 'scipy.sparse._csr.csr_matrix'>\n",
            "<class 'scipy.sparse._csr.csr_matrix'>\n"
          ]
        }
      ]
    },
    {
      "cell_type": "markdown",
      "source": [
        "**Saving the matrices in .NPZ format in drive**"
      ],
      "metadata": {
        "id": "rCwU8wmED_Wd"
      }
    },
    {
      "cell_type": "code",
      "source": [
        "# Define file paths in your Google Drive\n",
        "# Define file paths in your Google Drive for saving the matrices\n",
        "user_similarity_save_path = '/content/drive/MyDrive/sem7/BDA/MP-mtx_files/user_similarity_matrix.npz'\n",
        "item_similarity_save_path = '/content/drive/MyDrive/sem7/BDA/MP-mtx_files/item_similarity_matrix.npz'\n",
        "sparse_matrix_save_path = '/content/drive/MyDrive/sem7/BDA/MP-mtx_files/sparse_matrix.npz'\n",
        "# Save the matrices in .npz format\n",
        "scipy.sparse.save_npz(user_similarity_save_path, user_similarity_matrix)\n",
        "scipy.sparse.save_npz(item_similarity_save_path, item_similarity_matrix)\n",
        "scipy.sparse.save_npz(sparse_matrix_save_path, sparse_matrix)\n",
        "\n",
        "print(\"Matrices saved successfully in .npz format.\")"
      ],
      "metadata": {
        "colab": {
          "base_uri": "https://localhost:8080/"
        },
        "id": "uRg04ZfUuLYN",
        "outputId": "5646e091-a88b-4168-ca80-919680c94bd1"
      },
      "execution_count": null,
      "outputs": [
        {
          "output_type": "stream",
          "name": "stdout",
          "text": [
            "Matrices saved successfully in .npz format.\n"
          ]
        }
      ]
    },
    {
      "cell_type": "markdown",
      "source": [
        "**User Based Collaborative Filtering**"
      ],
      "metadata": {
        "id": "1JHkI9FQEHmR"
      }
    },
    {
      "cell_type": "code",
      "source": [
        "# Collaborative filtering\n",
        "def user_based(user_sim_matrix, ratings_matrix, user_idx, num_similar_users, num_recommendations):\n",
        "    # Get indices of the most similar users for the specified user\n",
        "    similar_users = np.argsort(-user_sim_matrix[user_idx])[:num_similar_users]\n",
        "\n",
        "    # Initialize a dictionary to store aggregated recommendation scores\n",
        "    item_scores = {}\n",
        "\n",
        "    for sim_user_idx in similar_users:\n",
        "        # Get the ratings of the similar user\n",
        "        user_ratings = ratings_matrix[sim_user_idx].toarray()[0]\n",
        "\n",
        "        # Update scores for items that the target user hasn't rated yet\n",
        "        for item_idx, rating in enumerate(user_ratings):\n",
        "            if ratings_matrix[user_idx, item_idx] == 0:  # Item not rated by target user\n",
        "                if item_idx not in item_scores:\n",
        "                    item_scores[item_idx] = 0\n",
        "                item_scores[item_idx] += rating * user_sim_matrix[user_idx, sim_user_idx]\n",
        "\n",
        "    # Sort items by aggregated scores and return the top N items\n",
        "    sorted_items = sorted(item_scores.items(), key=lambda x: x[1], reverse=True)\n",
        "    return [item[0] for item in sorted_items[:num_recommendations]]"
      ],
      "metadata": {
        "id": "p9V8Ivb-6_xJ"
      },
      "execution_count": null,
      "outputs": []
    },
    {
      "cell_type": "code",
      "source": [
        "user_idx=10\n",
        "num_similar_users=5\n",
        "num_recommendations=10\n",
        "\n",
        "user_based_recommendation = user_based(item_similarity_matrix, sparse_matrix, user_idx, num_similar_users, num_recommendations)\n",
        "\n",
        "# Assuming title_id_to_index is structured as {title: index}\n",
        "index_to_title = {index: title for title, index in title_id_to_index.items()}\n",
        "\n",
        "# Print the recommended items\n",
        "print(f\"Recommendations for user {user_idx}:\")\n",
        "for item_index in user_based_recommendation:\n",
        "    # Use the reversed dictionary to get the title\n",
        "    item_title = index_to_title.get(item_index, \"Unknown Item\")  # Default if index not found\n",
        "    print(f\"Movie Title : {item_title}\")"
      ],
      "metadata": {
        "colab": {
          "base_uri": "https://localhost:8080/"
        },
        "id": "Rpm_BywTNDog",
        "outputId": "533d446f-e88b-48c4-90b3-f533fa629cc3"
      },
      "execution_count": null,
      "outputs": [
        {
          "output_type": "stream",
          "name": "stdout",
          "text": [
            "Recommendations for user 10:\n",
            "Movie Title : Cosi (1996)\n",
            "Movie Title : Psycho (1960)\n",
            "Movie Title : Three Wishes (1995)\n",
            "Movie Title : If Lucy Fell (1996)\n",
            "Movie Title : When We Were Kings (1996)\n",
            "Movie Title : Annie Hall (1977)\n",
            "Movie Title : Fair Game (1995)\n",
            "Movie Title : Heavenly Creatures (1994)\n",
            "Movie Title : Paris, France (1993)\n",
            "Movie Title : Snow White and the Seven Dwarfs (1937)\n"
          ]
        }
      ]
    },
    {
      "cell_type": "markdown",
      "source": [
        "**Item Based Collaborative Filtering**"
      ],
      "metadata": {
        "id": "vXEOLsR7EOeR"
      }
    },
    {
      "cell_type": "code",
      "source": [
        "def item_based(item_sim_matrix, ratings_matrix, user_idx, num_recommendations):\n",
        "    # Get the indices of items rated by the target user\n",
        "    rated_item_indices = ratings_matrix[user_idx].nonzero()[1]\n",
        "\n",
        "    # Initialize a dictionary to hold aggregated recommendation scores\n",
        "    item_scores = {}\n",
        "\n",
        "    for item_idx in rated_item_indices:\n",
        "        # Get similarity scores for the rated item\n",
        "        similar_item_indices = np.argsort(-item_sim_matrix[item_idx].toarray().flatten())\n",
        "\n",
        "        for sim_item_idx in similar_item_indices:\n",
        "            if sim_item_idx not in rated_item_indices:  # Not rated by the target user\n",
        "                if sim_item_idx not in item_scores:\n",
        "                    item_scores[sim_item_idx] = 0\n",
        "                # Aggregate scores based on the user's rating and item similarity\n",
        "                item_scores[sim_item_idx] += ratings_matrix[user_idx, item_idx] * item_sim_matrix[item_idx, sim_item_idx]\n",
        "\n",
        "    # Sort items based on aggregated scores and return the top N items\n",
        "    sorted_items = sorted(item_scores.items(), key=lambda x: x[1], reverse=True)\n",
        "    return [item[0] for item in sorted_items[:num_recommendations]]\n"
      ],
      "metadata": {
        "id": "qy-vgSQ4LdiZ"
      },
      "execution_count": null,
      "outputs": []
    },
    {
      "cell_type": "code",
      "source": [
        "user_idx=10\n",
        "num_recommendations=5\n",
        "\n",
        "item_based_recommendation = item_based(item_similarity_matrix, sparse_matrix, user_idx, num_recommendations)\n",
        "\n",
        "# Print the recommended items\n",
        "print(f\"Recommendations for user {user_idx}:\")\n",
        "for item_index in item_based_recommendation:\n",
        "    # Use the reversed dictionary to get the title\n",
        "    item_title = index_to_title.get(item_index, \"Unknown Item\")  # Default if index not found\n",
        "    print(f\"Movie Title : {item_title}\")"
      ],
      "metadata": {
        "colab": {
          "base_uri": "https://localhost:8080/"
        },
        "id": "HA6fmtNSL0Pm",
        "outputId": "b6d1648b-2263-4d0b-887d-b2785175cc40"
      },
      "execution_count": null,
      "outputs": [
        {
          "output_type": "stream",
          "name": "stdout",
          "text": [
            "Recommendations for user 10:\n",
            "Movie Title : Pulp Fiction (1994)\n",
            "Movie Title : Silence of the Lambs, The (1991)\n",
            "Movie Title : Monty Python and the Holy Grail (1974)\n",
            "Movie Title : Empire Strikes Back, The (1980)\n",
            "Movie Title : Back to the Future (1985)\n"
          ]
        }
      ]
    },
    {
      "cell_type": "markdown",
      "source": [
        "**Exporting the necessities using JOBLIB**"
      ],
      "metadata": {
        "id": "25wIdWxMETBi"
      }
    },
    {
      "cell_type": "code",
      "source": [
        "import joblib\n",
        "\n",
        "# Specify the path in your Google Drive\n",
        "save_path = '/content/drive/MyDrive/sem7/BDA/MP-mtx_files/'\n",
        "\n",
        "# Save the necessary matrices and mappings\n",
        "\n",
        "joblib.dump(user_id_to_index, save_path + 'user_id_to_index.pkl')\n",
        "joblib.dump(index_to_title, save_path + 'index_to_title.pkl')"
      ],
      "metadata": {
        "colab": {
          "base_uri": "https://localhost:8080/"
        },
        "id": "IaCNn5q_qoj1",
        "outputId": "1f2eff5b-a6b8-4e4b-e7a0-f9173b452f0d"
      },
      "execution_count": null,
      "outputs": [
        {
          "output_type": "execute_result",
          "data": {
            "text/plain": [
              "['/content/drive/MyDrive/sem7/BDA/MP-mtx_files/item_based_predict.pkl']"
            ]
          },
          "metadata": {},
          "execution_count": 84
        }
      ]
    }
  ]
}